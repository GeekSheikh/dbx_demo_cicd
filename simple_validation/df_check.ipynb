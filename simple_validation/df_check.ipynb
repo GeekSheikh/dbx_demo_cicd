{
 "cells": [
  {
   "cell_type": "markdown",
   "metadata": {},
   "source": [
    "## Databricks Env"
   ]
  },
  {
   "cell_type": "code",
   "execution_count": 1,
   "metadata": {
    "application/vnd.databricks.v1+cell": {
     "cellMetadata": {
      "byteLimit": 2048000,
      "rowLimit": 10000
     },
     "inputWidgets": {},
     "nuid": "e63c2bd1-3b9f-48b3-972d-2e8163f23893",
     "showTitle": false,
     "tableResultSettingsMap": {},
     "title": ""
    }
   },
   "outputs": [
    {
     "name": "stdout",
     "output_type": "stream",
     "text": [
      "\u001b[31mERROR: Could not open requirements file: [Errno 2] No such file or directory: '/Workspace/Users/daniel.tomes@databricks.com/client_demos/ci_cd/dbx_demo_cicd/requirements.txt'\u001b[0m\u001b[31m\n",
      "\u001b[0m"
     ]
    }
   ],
   "source": [
    "!pip install -r /Workspace/Users/daniel.tomes@databricks.com/client_demos/ci_cd/dbx_demo_cicd/requirements.txt"
   ]
  },
  {
   "cell_type": "code",
   "execution_count": 0,
   "metadata": {
    "application/vnd.databricks.v1+cell": {
     "cellMetadata": {
      "byteLimit": 2048000,
      "rowLimit": 10000
     },
     "inputWidgets": {},
     "nuid": "943040f4-34f4-4816-a32c-3f7c9eaaeec3",
     "showTitle": false,
     "tableResultSettingsMap": {},
     "title": ""
    }
   },
   "outputs": [],
   "source": [
    "dbutils.library.restartPython()"
   ]
  },
  {
   "cell_type": "markdown",
   "metadata": {},
   "source": [
    "## Begin"
   ]
  },
  {
   "cell_type": "code",
   "execution_count": 13,
   "metadata": {
    "application/vnd.databricks.v1+cell": {
     "cellMetadata": {
      "byteLimit": 2048000,
      "rowLimit": 10000
     },
     "inputWidgets": {},
     "nuid": "e091627c-9116-4d0d-b34f-7b4fe7cc52d1",
     "showTitle": false,
     "tableResultSettingsMap": {},
     "title": ""
    }
   },
   "outputs": [],
   "source": [
    "import sys, os\n",
    "from pyspark.sql.functions import col, lit\n",
    "import pyspark.sql.functions as F\n",
    "sys.path.append(os.path.abspath(\"..\"))\n",
    "import plotly.express as px\n",
    "import matplotlib.pyplot as plt\n",
    "from spark_env import spark\n",
    "import seaborn as sns\n",
    "import numpy as np"
   ]
  },
  {
   "cell_type": "code",
   "execution_count": null,
   "metadata": {},
   "outputs": [],
   "source": [
    "my_df = spark.table(\"main.tomes_gen.tmdb_movies_bronze\")"
   ]
  },
  {
   "cell_type": "code",
   "execution_count": 15,
   "metadata": {},
   "outputs": [
    {
     "data": {
      "text/html": [
       "<div>\n",
       "<style scoped>\n",
       "    .dataframe tbody tr th:only-of-type {\n",
       "        vertical-align: middle;\n",
       "    }\n",
       "\n",
       "    .dataframe tbody tr th {\n",
       "        vertical-align: top;\n",
       "    }\n",
       "\n",
       "    .dataframe thead th {\n",
       "        text-align: right;\n",
       "    }\n",
       "</style>\n",
       "<table border=\"1\" class=\"dataframe\">\n",
       "  <thead>\n",
       "    <tr style=\"text-align: right;\">\n",
       "      <th></th>\n",
       "      <th>summary</th>\n",
       "      <th>id</th>\n",
       "      <th>title</th>\n",
       "      <th>genres</th>\n",
       "      <th>original_language</th>\n",
       "      <th>overview</th>\n",
       "      <th>popularity</th>\n",
       "      <th>production_companies</th>\n",
       "      <th>budget</th>\n",
       "      <th>revenue</th>\n",
       "      <th>runtime</th>\n",
       "      <th>status</th>\n",
       "      <th>tagline</th>\n",
       "      <th>vote_average</th>\n",
       "      <th>vote_count</th>\n",
       "      <th>credits</th>\n",
       "      <th>keywords</th>\n",
       "      <th>poster_path</th>\n",
       "      <th>backdrop_path</th>\n",
       "      <th>recommendations</th>\n",
       "    </tr>\n",
       "  </thead>\n",
       "  <tbody>\n",
       "    <tr>\n",
       "      <th>0</th>\n",
       "      <td>count</td>\n",
       "      <td>693556</td>\n",
       "      <td>693550</td>\n",
       "      <td>489992</td>\n",
       "      <td>693556</td>\n",
       "      <td>575207</td>\n",
       "      <td>693556</td>\n",
       "      <td>321483</td>\n",
       "      <td>693556</td>\n",
       "      <td>693556</td>\n",
       "      <td>659543</td>\n",
       "      <td>693556</td>\n",
       "      <td>101420</td>\n",
       "      <td>693556</td>\n",
       "      <td>693556</td>\n",
       "      <td>475225</td>\n",
       "      <td>196795</td>\n",
       "      <td>512934</td>\n",
       "      <td>211083</td>\n",
       "      <td>32225</td>\n",
       "    </tr>\n",
       "    <tr>\n",
       "      <th>1</th>\n",
       "      <td>mean</td>\n",
       "      <td>529980.4704018133</td>\n",
       "      <td>NaN</td>\n",
       "      <td>None</td>\n",
       "      <td>None</td>\n",
       "      <td>2.00400608812E10</td>\n",
       "      <td>1.7768854786081365</td>\n",
       "      <td>Infinity</td>\n",
       "      <td>380825.0538038745</td>\n",
       "      <td>931792.5635867903</td>\n",
       "      <td>204.69530720514052</td>\n",
       "      <td>None</td>\n",
       "      <td>494.44776119402985</td>\n",
       "      <td>2.4171487349257443</td>\n",
       "      <td>25.696846397406986</td>\n",
       "      <td>None</td>\n",
       "      <td>400.0</td>\n",
       "      <td>None</td>\n",
       "      <td>None</td>\n",
       "      <td>304677.1666323378</td>\n",
       "    </tr>\n",
       "    <tr>\n",
       "      <th>2</th>\n",
       "      <td>stddev</td>\n",
       "      <td>252117.08671066348</td>\n",
       "      <td>NaN</td>\n",
       "      <td>None</td>\n",
       "      <td>None</td>\n",
       "      <td>4.481093616417547E10</td>\n",
       "      <td>21.265739287442464</td>\n",
       "      <td>NaN</td>\n",
       "      <td>8189081.959427781</td>\n",
       "      <td>1.97210164055311E7</td>\n",
       "      <td>87673.77364803736</td>\n",
       "      <td>None</td>\n",
       "      <td>818.4995933725149</td>\n",
       "      <td>3.1784557858583184</td>\n",
       "      <td>365.7599140362933</td>\n",
       "      <td>None</td>\n",
       "      <td>888.8371616893614</td>\n",
       "      <td>None</td>\n",
       "      <td>None</td>\n",
       "      <td>289312.9894822164</td>\n",
       "    </tr>\n",
       "    <tr>\n",
       "      <th>3</th>\n",
       "      <td>min</td>\n",
       "      <td>2</td>\n",
       "      <td>\"...\"</td>\n",
       "      <td>Action</td>\n",
       "      <td>ab</td>\n",
       "      <td></td>\n",
       "      <td>0.6</td>\n",
       "      <td>\"Filma\" Shareholders' Association</td>\n",
       "      <td>0.0</td>\n",
       "      <td>-12.0</td>\n",
       "      <td>0.0</td>\n",
       "      <td>Canceled</td>\n",
       "      <td></td>\n",
       "      <td>0.0</td>\n",
       "      <td>0.0</td>\n",
       "      <td>Alex Chalmers-Casey Rigney-Jason Jones-Jayme ...</td>\n",
       "      <td>101 dalmatians</td>\n",
       "      <td>/1004RY37YoJJ3Zz5Uy7Egjs25BN.jpg</td>\n",
       "      <td>/100IFmS7Pz1vq3BaIB9arYbWma8.jpg</td>\n",
       "      <td>100-10851-107-19259-59-186-7516-8321-187-18501...</td>\n",
       "    </tr>\n",
       "    <tr>\n",
       "      <th>4</th>\n",
       "      <td>25%</td>\n",
       "      <td>332291</td>\n",
       "      <td>33.333</td>\n",
       "      <td>None</td>\n",
       "      <td>None</td>\n",
       "      <td>0.0</td>\n",
       "      <td>0.6</td>\n",
       "      <td>1091.0</td>\n",
       "      <td>0.0</td>\n",
       "      <td>0.0</td>\n",
       "      <td>5.0</td>\n",
       "      <td>None</td>\n",
       "      <td>16.0</td>\n",
       "      <td>0.0</td>\n",
       "      <td>0.0</td>\n",
       "      <td>None</td>\n",
       "      <td>2.0</td>\n",
       "      <td>None</td>\n",
       "      <td>None</td>\n",
       "      <td>31506.0</td>\n",
       "    </tr>\n",
       "    <tr>\n",
       "      <th>5</th>\n",
       "      <td>50%</td>\n",
       "      <td>536413</td>\n",
       "      <td>706.0</td>\n",
       "      <td>None</td>\n",
       "      <td>None</td>\n",
       "      <td>2003.0</td>\n",
       "      <td>0.6</td>\n",
       "      <td>1091.0</td>\n",
       "      <td>0.0</td>\n",
       "      <td>0.0</td>\n",
       "      <td>47.0</td>\n",
       "      <td>None</td>\n",
       "      <td>81.0</td>\n",
       "      <td>0.0</td>\n",
       "      <td>0.0</td>\n",
       "      <td>None</td>\n",
       "      <td>3.0</td>\n",
       "      <td>None</td>\n",
       "      <td>None</td>\n",
       "      <td>244049.0</td>\n",
       "    </tr>\n",
       "    <tr>\n",
       "      <th>6</th>\n",
       "      <td>75%</td>\n",
       "      <td>740340</td>\n",
       "      <td>1995.0</td>\n",
       "      <td>None</td>\n",
       "      <td>None</td>\n",
       "      <td>2003.0</td>\n",
       "      <td>1.24</td>\n",
       "      <td>1440.0</td>\n",
       "      <td>0.0</td>\n",
       "      <td>0.0</td>\n",
       "      <td>90.0</td>\n",
       "      <td>None</td>\n",
       "      <td>222.0</td>\n",
       "      <td>5.5</td>\n",
       "      <td>2.0</td>\n",
       "      <td>None</td>\n",
       "      <td>3.0</td>\n",
       "      <td>None</td>\n",
       "      <td>None</td>\n",
       "      <td>530385.0</td>\n",
       "    </tr>\n",
       "    <tr>\n",
       "      <th>7</th>\n",
       "      <td>max</td>\n",
       "      <td>968161</td>\n",
       "      <td>ＮＥＷセクシーメイツ ヌケヌケフィニッシュ大狂乱</td>\n",
       "      <td>Western-War-History-Romance</td>\n",
       "      <td>zu</td>\n",
       "      <td>🎼 The music of his strings warms the hearts wh...</td>\n",
       "      <td>8763.998</td>\n",
       "      <td>한맥문화</td>\n",
       "      <td>5.0E9</td>\n",
       "      <td>2.920357254E9</td>\n",
       "      <td>5.050505E7</td>\n",
       "      <td>Rumored</td>\n",
       "      <td>～Fated \"raison d'être\"～ Europe Tour 2007</td>\n",
       "      <td>10.0</td>\n",
       "      <td>33262.0</td>\n",
       "      <td>﻿﻿Roshanak Morrowatian-Saman Amini-Mohamed Naa...</td>\n",
       "      <td>피너츠 시리즈-찰리 브라운-스누피</td>\n",
       "      <td>/zzzlxEWfxQUySEjPypVn6sGWIdc.jpg</td>\n",
       "      <td>/zzzhUA5k9uX4JxplPWi2qx3XqM2.jpg</td>\n",
       "      <td>999597-999128-999918-1002716-999119-1002084-49...</td>\n",
       "    </tr>\n",
       "  </tbody>\n",
       "</table>\n",
       "</div>"
      ],
      "text/plain": [
       "  summary                  id                     title  \\\n",
       "0   count              693556                    693550   \n",
       "1    mean   529980.4704018133                       NaN   \n",
       "2  stddev  252117.08671066348                       NaN   \n",
       "3     min                   2                     \"...\"   \n",
       "4     25%              332291                    33.333   \n",
       "5     50%              536413                     706.0   \n",
       "6     75%              740340                    1995.0   \n",
       "7     max              968161  ＮＥＷセクシーメイツ ヌケヌケフィニッシュ大狂乱   \n",
       "\n",
       "                        genres original_language  \\\n",
       "0                       489992            693556   \n",
       "1                         None              None   \n",
       "2                         None              None   \n",
       "3                       Action                ab   \n",
       "4                         None              None   \n",
       "5                         None              None   \n",
       "6                         None              None   \n",
       "7  Western-War-History-Romance                zu   \n",
       "\n",
       "                                            overview          popularity  \\\n",
       "0                                             575207              693556   \n",
       "1                                   2.00400608812E10  1.7768854786081365   \n",
       "2                               4.481093616417547E10  21.265739287442464   \n",
       "3                                                                    0.6   \n",
       "4                                                0.0                 0.6   \n",
       "5                                             2003.0                 0.6   \n",
       "6                                             2003.0                1.24   \n",
       "7  🎼 The music of his strings warms the hearts wh...            8763.998   \n",
       "\n",
       "                production_companies             budget             revenue  \\\n",
       "0                             321483             693556              693556   \n",
       "1                           Infinity  380825.0538038745   931792.5635867903   \n",
       "2                                NaN  8189081.959427781  1.97210164055311E7   \n",
       "3  \"Filma\" Shareholders' Association                0.0               -12.0   \n",
       "4                             1091.0                0.0                 0.0   \n",
       "5                             1091.0                0.0                 0.0   \n",
       "6                             1440.0                0.0                 0.0   \n",
       "7                               한맥문화              5.0E9       2.920357254E9   \n",
       "\n",
       "              runtime    status                                   tagline  \\\n",
       "0              659543    693556                                    101420   \n",
       "1  204.69530720514052      None                        494.44776119402985   \n",
       "2   87673.77364803736      None                         818.4995933725149   \n",
       "3                 0.0  Canceled                                             \n",
       "4                 5.0      None                                      16.0   \n",
       "5                47.0      None                                      81.0   \n",
       "6                90.0      None                                     222.0   \n",
       "7          5.050505E7   Rumored  ～Fated \"raison d'être\"～ Europe Tour 2007   \n",
       "\n",
       "         vote_average          vote_count  \\\n",
       "0              693556              693556   \n",
       "1  2.4171487349257443  25.696846397406986   \n",
       "2  3.1784557858583184   365.7599140362933   \n",
       "3                 0.0                 0.0   \n",
       "4                 0.0                 0.0   \n",
       "5                 0.0                 0.0   \n",
       "6                 5.5                 2.0   \n",
       "7                10.0             33262.0   \n",
       "\n",
       "                                             credits            keywords  \\\n",
       "0                                             475225              196795   \n",
       "1                                               None               400.0   \n",
       "2                                               None   888.8371616893614   \n",
       "3   Alex Chalmers-Casey Rigney-Jason Jones-Jayme ...      101 dalmatians   \n",
       "4                                               None                 2.0   \n",
       "5                                               None                 3.0   \n",
       "6                                               None                 3.0   \n",
       "7  ﻿﻿Roshanak Morrowatian-Saman Amini-Mohamed Naa...  피너츠 시리즈-찰리 브라운-스누피   \n",
       "\n",
       "                        poster_path                     backdrop_path  \\\n",
       "0                            512934                            211083   \n",
       "1                              None                              None   \n",
       "2                              None                              None   \n",
       "3  /1004RY37YoJJ3Zz5Uy7Egjs25BN.jpg  /100IFmS7Pz1vq3BaIB9arYbWma8.jpg   \n",
       "4                              None                              None   \n",
       "5                              None                              None   \n",
       "6                              None                              None   \n",
       "7  /zzzlxEWfxQUySEjPypVn6sGWIdc.jpg  /zzzhUA5k9uX4JxplPWi2qx3XqM2.jpg   \n",
       "\n",
       "                                     recommendations  \n",
       "0                                              32225  \n",
       "1                                  304677.1666323378  \n",
       "2                                  289312.9894822164  \n",
       "3  100-10851-107-19259-59-186-7516-8321-187-18501...  \n",
       "4                                            31506.0  \n",
       "5                                           244049.0  \n",
       "6                                           530385.0  \n",
       "7  999597-999128-999918-1002716-999119-1002084-49...  "
      ]
     },
     "execution_count": 15,
     "metadata": {},
     "output_type": "execute_result"
    }
   ],
   "source": [
    "my_df.summary().toPandas()"
   ]
  },
  {
   "cell_type": "code",
   "execution_count": null,
   "metadata": {
    "application/vnd.databricks.v1+cell": {
     "cellMetadata": {
      "byteLimit": 2048000,
      "rowLimit": 10000
     },
     "inputWidgets": {},
     "nuid": "07a6b793-debb-4e6b-bd66-1c77763cc642",
     "showTitle": false,
     "tableResultSettingsMap": {},
     "title": ""
    }
   },
   "outputs": [],
   "source": [
    "pdf = (\n",
    "    my_df\n",
    "        # .filter(\"release_date >= '2020-01-01'\")\n",
    "        # .filter((col(\"popularity\") >= 100) & (col(\"budget\") >= 100000))\n",
    "        .filter((col(\"budget\") <= 500_000_000) & (col(\"budget\") >= 50_000_000))\n",
    "        .filter(col(\"vote_count\") >= 1000)\n",
    "        .filter(col(\"vote_average\") >= 4)\n",
    "        .select(col(\"title\"), col(\"popularity\"), col(\"budget\"), col(\"vote_average\"))\n",
    ").toPandas()"
   ]
  },
  {
   "cell_type": "code",
   "execution_count": 5,
   "metadata": {
    "application/vnd.databricks.v1+cell": {
     "cellMetadata": {
      "byteLimit": 2048000,
      "rowLimit": 10000
     },
     "inputWidgets": {},
     "nuid": "0c1de5eb-f0c4-4fa4-be49-378343955f8a",
     "showTitle": false,
     "tableResultSettingsMap": {},
     "title": ""
    }
   },
   "outputs": [
    {
     "data": {
      "text/html": [
       "<div>\n",
       "<style scoped>\n",
       "    .dataframe tbody tr th:only-of-type {\n",
       "        vertical-align: middle;\n",
       "    }\n",
       "\n",
       "    .dataframe tbody tr th {\n",
       "        vertical-align: top;\n",
       "    }\n",
       "\n",
       "    .dataframe thead th {\n",
       "        text-align: right;\n",
       "    }\n",
       "</style>\n",
       "<table border=\"1\" class=\"dataframe\">\n",
       "  <thead>\n",
       "    <tr style=\"text-align: right;\">\n",
       "      <th></th>\n",
       "      <th>title</th>\n",
       "      <th>popularity</th>\n",
       "      <th>budget</th>\n",
       "      <th>vote_average</th>\n",
       "    </tr>\n",
       "  </thead>\n",
       "  <tbody>\n",
       "    <tr>\n",
       "      <th>0</th>\n",
       "      <td>Meg 2: The Trench</td>\n",
       "      <td>8763.998</td>\n",
       "      <td>129000000.0</td>\n",
       "      <td>7.079</td>\n",
       "    </tr>\n",
       "    <tr>\n",
       "      <th>1</th>\n",
       "      <td>Transformers: Rise of the Beasts</td>\n",
       "      <td>5409.104</td>\n",
       "      <td>200000000.0</td>\n",
       "      <td>7.340</td>\n",
       "    </tr>\n",
       "    <tr>\n",
       "      <th>2</th>\n",
       "      <td>Ant-Man and the Wasp: Quantumania</td>\n",
       "      <td>4425.387</td>\n",
       "      <td>200000000.0</td>\n",
       "      <td>6.507</td>\n",
       "    </tr>\n",
       "    <tr>\n",
       "      <th>3</th>\n",
       "      <td>Creed III</td>\n",
       "      <td>3994.342</td>\n",
       "      <td>75000000.0</td>\n",
       "      <td>7.262</td>\n",
       "    </tr>\n",
       "    <tr>\n",
       "      <th>4</th>\n",
       "      <td>Fast X</td>\n",
       "      <td>3583.861</td>\n",
       "      <td>340000000.0</td>\n",
       "      <td>7.275</td>\n",
       "    </tr>\n",
       "    <tr>\n",
       "      <th>...</th>\n",
       "      <td>...</td>\n",
       "      <td>...</td>\n",
       "      <td>...</td>\n",
       "      <td>...</td>\n",
       "    </tr>\n",
       "    <tr>\n",
       "      <th>1075</th>\n",
       "      <td>The Lost World: Jurassic Park</td>\n",
       "      <td>2.116</td>\n",
       "      <td>73000000.0</td>\n",
       "      <td>6.524</td>\n",
       "    </tr>\n",
       "    <tr>\n",
       "      <th>1076</th>\n",
       "      <td>Jurassic Park III</td>\n",
       "      <td>1.926</td>\n",
       "      <td>93000000.0</td>\n",
       "      <td>6.100</td>\n",
       "    </tr>\n",
       "    <tr>\n",
       "      <th>1077</th>\n",
       "      <td>Resident Evil: Afterlife</td>\n",
       "      <td>1.625</td>\n",
       "      <td>60000000.0</td>\n",
       "      <td>6.000</td>\n",
       "    </tr>\n",
       "    <tr>\n",
       "      <th>1078</th>\n",
       "      <td>X-Men</td>\n",
       "      <td>1.423</td>\n",
       "      <td>75000000.0</td>\n",
       "      <td>6.992</td>\n",
       "    </tr>\n",
       "    <tr>\n",
       "      <th>1079</th>\n",
       "      <td>The Internship</td>\n",
       "      <td>0.822</td>\n",
       "      <td>58000000.0</td>\n",
       "      <td>6.300</td>\n",
       "    </tr>\n",
       "  </tbody>\n",
       "</table>\n",
       "<p>1080 rows × 4 columns</p>\n",
       "</div>"
      ],
      "text/plain": [
       "                                  title  popularity       budget  vote_average\n",
       "0                     Meg 2: The Trench    8763.998  129000000.0         7.079\n",
       "1      Transformers: Rise of the Beasts    5409.104  200000000.0         7.340\n",
       "2     Ant-Man and the Wasp: Quantumania    4425.387  200000000.0         6.507\n",
       "3                             Creed III    3994.342   75000000.0         7.262\n",
       "4                                Fast X    3583.861  340000000.0         7.275\n",
       "...                                 ...         ...          ...           ...\n",
       "1075      The Lost World: Jurassic Park       2.116   73000000.0         6.524\n",
       "1076                  Jurassic Park III       1.926   93000000.0         6.100\n",
       "1077           Resident Evil: Afterlife       1.625   60000000.0         6.000\n",
       "1078                              X-Men       1.423   75000000.0         6.992\n",
       "1079                     The Internship       0.822   58000000.0         6.300\n",
       "\n",
       "[1080 rows x 4 columns]"
      ]
     },
     "execution_count": 5,
     "metadata": {},
     "output_type": "execute_result"
    }
   ],
   "source": [
    "pdf"
   ]
  },
  {
   "cell_type": "code",
   "execution_count": 8,
   "metadata": {},
   "outputs": [
    {
     "data": {
      "image/png": "[encoded data removed]",
      "text/plain": [
       "<Figure size 1200x600 with 2 Axes>"
      ]
     },
     "metadata": {},
     "output_type": "display_data"
    }
   ],
   "source": [
    "# Plot the distribution of the popularity column\n",
    "plt.figure(figsize=(12, 6))\n",
    "\n",
    "plt.subplot(1, 2, 1)\n",
    "sns.histplot(pdf['popularity'], kde=True, bins=30)\n",
    "plt.title('Distribution of Popularity')\n",
    "plt.xlabel('Popularity')\n",
    "plt.ylabel('Frequency')\n",
    "\n",
    "# Plot the distribution of the budget column\n",
    "plt.subplot(1, 2, 2)\n",
    "sns.histplot(pdf['budget'], kde=True, bins=30)\n",
    "plt.title('Distribution of Budget')\n",
    "plt.xlabel('Budget')\n",
    "plt.ylabel('Frequency')\n",
    "\n",
    "plt.tight_layout()\n",
    "plt.show()"
   ]
  },
  {
   "cell_type": "code",
   "execution_count": 9,
   "metadata": {},
   "outputs": [
    {
     "data": {
      "application/vnd.plotly.v1+json": {
       "config": {
        "plotlyServerURL": "https://plot.ly"
       },
       "data": [
        {
         "customdata": [
          [
           "Meg 2: The Trench"
          ],
          [
           "Transformers: Rise of the Beasts"
          ],
          [
           "Ant-Man and the Wasp: Quantumania"
          ],
          [
           "Creed III"
          ],
          [
           "Fast X"
          ],
          [
           "Barbie"
          ],
          [
           "The Flash"
          ],
          [
           "Spider-Man: Across the Spider-Verse"
          ],
          [
           "Shazam! Fury of the Gods"
          ],
          [
           "Guardians of the Galaxy Vol. 3"
          ],
          [
           "Puss in Boots: The Last Wish"
          ],
          [
           "John Wick: Chapter 4"
          ],
          [
           "The Super Mario Bros. Movie"
          ],
          [
           "Oppenheimer"
          ],
          [
           "Guardians of the Galaxy Vol. 2"
          ],
          [
           "The Woman King"
          ],
          [
           "Thor: Love and Thunder"
          ],
          [
           "F9"
          ],
          [
           "Creed II"
          ],
          [
           "Jurassic World Dominion"
          ],
          [
           "Black Panther: Wakanda Forever"
          ],
          [
           "Bullet Train"
          ],
          [
           "Avatar: The Way of Water"
          ],
          [
           "Sonic the Hedgehog 2"
          ],
          [
           "Top Gun: Maverick"
          ],
          [
           "Avatar"
          ],
          [
           "Encanto"
          ],
          [
           "Minions: The Rise of Gru"
          ],
          [
           "Prey"
          ],
          [
           "Black Adam"
          ],
          [
           "Turning Red"
          ],
          [
           "Doctor Strange in the Multiverse of Madness"
          ],
          [
           "Venom: Let There Be Carnage"
          ],
          [
           "Guardians of the Galaxy"
          ],
          [
           "DC League of Super-Pets"
          ],
          [
           "Spider-Man: No Way Home"
          ],
          [
           "Shrek"
          ],
          [
           "Avengers: Endgame"
          ],
          [
           "Transformers: Age of Extinction"
          ],
          [
           "Sing 2"
          ],
          [
           "Fantastic Beasts: The Secrets of Dumbledore"
          ],
          [
           "Avengers: Infinity War"
          ],
          [
           "Fifty Shades Freed"
          ],
          [
           "Meet the Robinsons"
          ],
          [
           "Titanic"
          ],
          [
           "The Batman"
          ],
          [
           "Morbius"
          ],
          [
           "The Lost City"
          ],
          [
           "Shrek 2"
          ],
          [
           "Shang-Chi and the Legend of the Ten Rings"
          ],
          [
           "Interstellar"
          ],
          [
           "Uncharted"
          ],
          [
           "A Good Day to Die Hard"
          ],
          [
           "Coco"
          ],
          [
           "The Suicide Squad"
          ],
          [
           "Samaritan"
          ],
          [
           "The Northman"
          ],
          [
           "Dungeons & Dragons: Honor Among Thieves"
          ],
          [
           "Shrek Forever After"
          ],
          [
           "Pirates of the Caribbean: At World's End"
          ],
          [
           "Pirates of the Caribbean: On Stranger Tides"
          ],
          [
           "The Emperor's New Groove"
          ],
          [
           "The Truman Show"
          ],
          [
           "Transformers: The Last Knight"
          ],
          [
           "Luca"
          ],
          [
           "The Lion King"
          ],
          [
           "Blade Runner 2049"
          ],
          [
           "Fast & Furious Presents: Hobbs & Shaw"
          ],
          [
           "Puss in Boots"
          ],
          [
           "Pirates of the Caribbean: The Curse of the Black Pearl"
          ],
          [
           "Ratatouille"
          ],
          [
           "Furious 7"
          ],
          [
           "The Matrix Resurrections"
          ],
          [
           "The Amazing Spider-Man 2"
          ],
          [
           "Ant-Man"
          ],
          [
           "The Bad Guys"
          ],
          [
           "Spider-Man: Homecoming"
          ],
          [
           "Iron Man"
          ],
          [
           "Prometheus"
          ],
          [
           "The Wolf of Wall Street"
          ],
          [
           "The Lord of the Rings: The Fellowship of the Ring"
          ],
          [
           "Thor: The Dark World"
          ],
          [
           "Air"
          ],
          [
           "Frozen II"
          ],
          [
           "Fury"
          ],
          [
           "Zootopia"
          ],
          [
           "Real Steel"
          ],
          [
           "The Fate of the Furious"
          ],
          [
           "Cruella"
          ],
          [
           "Raya and the Last Dragon"
          ],
          [
           "Ice Age"
          ],
          [
           "The Princess and the Frog"
          ],
          [
           "Iron Man 2"
          ],
          [
           "Spider-Man: Into the Spider-Verse"
          ],
          [
           "Eternals"
          ],
          [
           "Space Jam: A New Legacy"
          ],
          [
           "Dune"
          ],
          [
           "Cars 3"
          ],
          [
           "Red Notice"
          ],
          [
           "Clifford the Big Red Dog"
          ],
          [
           "Monsters, Inc."
          ],
          [
           "Doctor Strange"
          ],
          [
           "Jurassic World"
          ],
          [
           "The Dark Knight"
          ],
          [
           "Thor"
          ],
          [
           "The Amazing Spider-Man"
          ],
          [
           "Shrek the Third"
          ],
          [
           "Maleficent: Mistress of Evil"
          ],
          [
           "Thor: Ragnarok"
          ],
          [
           "A Man Called Otto"
          ],
          [
           "The Avengers"
          ],
          [
           "Terminator Genisys"
          ],
          [
           "Spider-Man: Far From Home"
          ],
          [
           "Coraline"
          ],
          [
           "Soul"
          ],
          [
           "Charlie and the Chocolate Factory"
          ],
          [
           "Jurassic World: Fallen Kingdom"
          ],
          [
           "Big Hero 6"
          ],
          [
           "Frozen"
          ],
          [
           "The Gray Man"
          ],
          [
           "Deadpool"
          ],
          [
           "Pacific Rim"
          ],
          [
           "Toy Story 2"
          ],
          [
           "Pirates of the Caribbean: Dead Man's Chest"
          ],
          [
           "Cars 2"
          ],
          [
           "Teenage Mutant Ninja Turtles"
          ],
          [
           "The Hobbit: The Battle of the Five Armies"
          ],
          [
           "The Tomorrow War"
          ],
          [
           "Spider-Man"
          ],
          [
           "The Adam Project"
          ],
          [
           "Fifty Shades Darker"
          ],
          [
           "The Equalizer"
          ],
          [
           "Up"
          ],
          [
           "The Croods: A New Age"
          ],
          [
           "How to Train Your Dragon: The Hidden World"
          ],
          [
           "Joker"
          ],
          [
           "American Sniper"
          ],
          [
           "Mission: Impossible - Fallout"
          ],
          [
           "No Time to Die"
          ],
          [
           "Wonder Woman 1984"
          ],
          [
           "Wreck-It Ralph"
          ],
          [
           "Lightyear"
          ],
          [
           "Deadpool 2"
          ],
          [
           "Free Guy"
          ],
          [
           "Ted 2"
          ],
          [
           "Aquaman"
          ],
          [
           "Avengers: Age of Ultron"
          ],
          [
           "Inside Out"
          ],
          [
           "Saving Private Ryan"
          ],
          [
           "Hercules"
          ],
          [
           "World War Z"
          ],
          [
           "Kung Fu Panda"
          ],
          [
           "Pirates of the Caribbean: Dead Men Tell No Tales"
          ],
          [
           "Babylon"
          ],
          [
           "Zack Snyder's Justice League"
          ],
          [
           "Moonfall"
          ],
          [
           "The Mummy"
          ],
          [
           "Tangled"
          ],
          [
           "It Chapter Two"
          ],
          [
           "San Andreas"
          ],
          [
           "John Wick: Chapter 3 - Parabellum"
          ],
          [
           "Nope"
          ],
          [
           "Rambo: Last Blood"
          ],
          [
           "Black Widow"
          ],
          [
           "Batman v Superman: Dawn of Justice"
          ],
          [
           "The Lord of the Rings: The Return of the King"
          ],
          [
           "The Hobbit: An Unexpected Journey"
          ],
          [
           "Sonic the Hedgehog"
          ],
          [
           "Scooby-Doo"
          ],
          [
           "Fight Club"
          ],
          [
           "How to Train Your Dragon 2"
          ],
          [
           "Sing"
          ],
          [
           "Kingsman: The Secret Service"
          ],
          [
           "xXx: Return of Xander Cage"
          ],
          [
           "Godzilla vs. Kong"
          ],
          [
           "Captain America: Civil War"
          ],
          [
           "Penguins of Madagascar"
          ],
          [
           "Inception"
          ],
          [
           "The SpongeBob Movie: Sponge on the Run"
          ],
          [
           "Bad Boys for Life"
          ],
          [
           "Grown Ups"
          ],
          [
           "Rambo"
          ],
          [
           "The Green Mile"
          ],
          [
           "The Call of the Wild"
          ],
          [
           "Pixels"
          ],
          [
           "The Dark Knight Rises"
          ],
          [
           "I Am Legend"
          ],
          [
           "Kung Fu Panda 3"
          ],
          [
           "Maleficent"
          ],
          [
           "Journey 2: The Mysterious Island"
          ],
          [
           "Madagascar"
          ],
          [
           "Spider-Man 3"
          ],
          [
           "Tears of the Sun"
          ],
          [
           "Exodus: Gods and Kings"
          ],
          [
           "Pacific Rim: Uprising"
          ],
          [
           "Cinderella"
          ],
          [
           "Birds of Prey (and the Fantabulous Emancipation of One Harley Quinn)"
          ],
          [
           "A Bug's Life"
          ],
          [
           "The Lord of the Rings: The Two Towers"
          ],
          [
           "Kung Fu Panda 2"
          ],
          [
           "Extraction"
          ],
          [
           "Finding Nemo"
          ],
          [
           "Terminator 2: Judgment Day"
          ],
          [
           "Fantastic Beasts and Where to Find Them"
          ],
          [
           "The King's Man"
          ],
          [
           "How to Train Your Dragon"
          ],
          [
           "Kingsman: The Golden Circle"
          ],
          [
           "2012"
          ],
          [
           "Justice League"
          ],
          [
           "Kong: Skull Island"
          ],
          [
           "Monster Hunter"
          ],
          [
           "Cars"
          ],
          [
           "The Simpsons Movie"
          ],
          [
           "Spirit: Stallion of the Cimarron"
          ],
          [
           "Grown Ups 2"
          ],
          [
           "Madagascar 3: Europe's Most Wanted"
          ],
          [
           "The Hangover Part III"
          ],
          [
           "Star Wars: The Last Jedi"
          ],
          [
           "Mulan"
          ],
          [
           "Man of Steel"
          ],
          [
           "Toy Story 3"
          ],
          [
           "Toy Story 4"
          ],
          [
           "Logan"
          ],
          [
           "Rampage"
          ],
          [
           "Jungle Cruise"
          ],
          [
           "Catch Me If You Can"
          ],
          [
           "The Godfather Part III"
          ],
          [
           "Jumanji: The Next Level"
          ],
          [
           "Venom"
          ],
          [
           "John Carter"
          ],
          [
           "Django Unchained"
          ],
          [
           "Tarzan"
          ],
          [
           "The Hangover Part II"
          ],
          [
           "Brave"
          ],
          [
           "The Matrix"
          ],
          [
           "Heat"
          ],
          [
           "Alien: Covenant"
          ],
          [
           "Inglourious Basterds"
          ],
          [
           "The Croods"
          ],
          [
           "The Mummy Returns"
          ],
          [
           "The Incredibles"
          ],
          [
           "Mission: Impossible - Rogue Nation"
          ],
          [
           "Just Go with It"
          ],
          [
           "Mission: Impossible III"
          ],
          [
           "Madagascar: Escape 2 Africa"
          ],
          [
           "The Hobbit: The Desolation of Smaug"
          ],
          [
           "Despicable Me"
          ],
          [
           "Rio"
          ],
          [
           "Ralph Breaks the Internet"
          ],
          [
           "Abraham Lincoln: Vampire Hunter"
          ],
          [
           "Wonder Woman"
          ],
          [
           "Ted"
          ],
          [
           "The Adventures of Sharkboy and Lavagirl"
          ],
          [
           "The Secret Life of Pets 2"
          ],
          [
           "Star Wars: The Force Awakens"
          ],
          [
           "Rise of the Planet of the Apes"
          ],
          [
           "Gone Girl"
          ],
          [
           "Ice Age: Continental Drift"
          ],
          [
           "Snake Eyes: G.I. Joe Origins"
          ],
          [
           "Ghostbusters: Afterlife"
          ],
          [
           "Incredibles 2"
          ],
          [
           "Tom & Jerry"
          ],
          [
           "Constantine"
          ],
          [
           "Brother Bear"
          ],
          [
           "Monsters University"
          ],
          [
           "WALL·E"
          ],
          [
           "Godzilla: King of the Monsters"
          ],
          [
           "Black Hawk Down"
          ],
          [
           "Green Lantern"
          ],
          [
           "The Incredible Hulk"
          ],
          [
           "Clash of the Titans"
          ],
          [
           "Ice Age: The Meltdown"
          ],
          [
           "13 Hours: The Secret Soldiers of Benghazi"
          ],
          [
           "Hancock"
          ],
          [
           "Rio 2"
          ],
          [
           "Ghost Rider: Spirit of Vengeance"
          ],
          [
           "Hansel & Gretel: Witch Hunters"
          ],
          [
           "The Meg"
          ],
          [
           "Ice Age: Dawn of the Dinosaurs"
          ],
          [
           "Bridge to Terabithia"
          ],
          [
           "Lilo & Stitch"
          ],
          [
           "Captain Marvel"
          ],
          [
           "Tenet"
          ],
          [
           "Beauty and the Beast"
          ],
          [
           "Teenage Mutant Ninja Turtles: Out of the Shadows"
          ],
          [
           "Black Panther"
          ],
          [
           "Mad Max: Fury Road"
          ],
          [
           "Rango"
          ],
          [
           "Terminator Salvation"
          ],
          [
           "The Expendables"
          ],
          [
           "Dawn of the Planet of the Apes"
          ],
          [
           "Rush Hour 3"
          ],
          [
           "300: Rise of an Empire"
          ],
          [
           "Ghost Rider"
          ],
          [
           "Prince of Persia: The Sands of Time"
          ],
          [
           "Gladiator"
          ],
          [
           "The Expendables 3"
          ],
          [
           "The Good Dinosaur"
          ],
          [
           "Alita: Battle Angel"
          ],
          [
           "That's My Boy"
          ],
          [
           "Megamind"
          ],
          [
           "Battle: Los Angeles"
          ],
          [
           "Now You See Me"
          ],
          [
           "Star Wars: The Rise of Skywalker"
          ],
          [
           "Batman Begins"
          ],
          [
           "Jack Reacher"
          ],
          [
           "The Pursuit of Happyness"
          ],
          [
           "The Fifth Element"
          ],
          [
           "Shooter"
          ],
          [
           "Scott Pilgrim vs. the World"
          ],
          [
           "300"
          ],
          [
           "Meet Joe Black"
          ],
          [
           "Hotel Transylvania 3: Summer Vacation"
          ],
          [
           "Happy Feet"
          ],
          [
           "How the Grinch Stole Christmas"
          ],
          [
           "The Patriot"
          ],
          [
           "Terminator: Dark Fate"
          ],
          [
           "The Hunchback of Notre Dame"
          ],
          [
           "X-Men: Days of Future Past"
          ],
          [
           "Iron Man 3"
          ],
          [
           "Perfume: The Story of a Murderer"
          ],
          [
           "Fantastic Beasts: The Crimes of Grindelwald"
          ],
          [
           "Bolt"
          ],
          [
           "The Cat in the Hat"
          ],
          [
           "Power Rangers"
          ],
          [
           "American Reunion"
          ],
          [
           "Underworld: Awakening"
          ],
          [
           "Dark Phoenix"
          ],
          [
           "Ant-Man and the Wasp"
          ],
          [
           "Suicide Squad"
          ],
          [
           "The Book of Life"
          ],
          [
           "The Wolfman"
          ],
          [
           "Rise of the Guardians"
          ],
          [
           "Captain America: The First Avenger"
          ],
          [
           "Garfield"
          ],
          [
           "The Predator"
          ],
          [
           "The Mummy: Tomb of the Dragon Emperor"
          ],
          [
           "Trolls"
          ],
          [
           "Superman"
          ],
          [
           "Don't Look Up"
          ],
          [
           "Jupiter Ascending"
          ],
          [
           "Alpha"
          ],
          [
           "Aladdin"
          ],
          [
           "Mission: Impossible"
          ],
          [
           "G.I. Joe: The Rise of Cobra"
          ],
          [
           "X-Men: Apocalypse"
          ],
          [
           "White House Down"
          ],
          [
           "Shutter Island"
          ],
          [
           "6 Underground"
          ],
          [
           "The Martian"
          ],
          [
           "Need for Speed"
          ],
          [
           "Warcraft"
          ],
          [
           "Godzilla"
          ],
          [
           "Elvis"
          ],
          [
           "Godzilla"
          ],
          [
           "Baywatch"
          ],
          [
           "Hercules"
          ],
          [
           "King Richard"
          ],
          [
           "Angels & Demons"
          ],
          [
           "Chicken Little"
          ],
          [
           "Die Hard: With a Vengeance"
          ],
          [
           "Hellboy"
          ],
          [
           "Ford v Ferrari"
          ],
          [
           "The Last Airbender"
          ],
          [
           "Shark Tale"
          ],
          [
           "Onward"
          ],
          [
           "Battleship"
          ],
          [
           "Van Helsing"
          ],
          [
           "Edge of Tomorrow"
          ],
          [
           "The Magnificent Seven"
          ],
          [
           "Ferdinand"
          ],
          [
           "A Quiet Place Part II"
          ],
          [
           "Skyfall"
          ],
          [
           "Tomorrowland"
          ],
          [
           "Pocahontas"
          ],
          [
           "Armageddon"
          ],
          [
           "Enchanted"
          ],
          [
           "Tomb Raider"
          ],
          [
           "Fantastic Four"
          ],
          [
           "Home on the Range"
          ],
          [
           "Finding Dory"
          ],
          [
           "Dinosaur"
          ],
          [
           "King Kong"
          ],
          [
           "Valerian and the City of a Thousand Planets"
          ],
          [
           "Despicable Me 2"
          ],
          [
           "The Curious Case of Benjamin Button"
          ],
          [
           "Solo: A Star Wars Story"
          ],
          [
           "Gods of Egypt"
          ],
          [
           "Casino Royale"
          ],
          [
           "Rogue One: A Star Wars Story"
          ],
          [
           "Men in Black"
          ],
          [
           "Night at the Museum: Secret of the Tomb"
          ],
          [
           "Hulk"
          ],
          [
           "Alice Through the Looking Glass"
          ],
          [
           "The Grinch"
          ],
          [
           "Knowing"
          ],
          [
           "The Lorax"
          ],
          [
           "Wrath of the Titans"
          ],
          [
           "War for the Planet of the Apes"
          ],
          [
           "Jack the Giant Slayer"
          ],
          [
           "The SpongeBob Movie: Sponge Out of Water"
          ],
          [
           "Jack Reacher: Never Go Back"
          ],
          [
           "The Angry Birds Movie"
          ],
          [
           "Hotel Transylvania 2"
          ],
          [
           "The Book of Eli"
          ],
          [
           "Anastasia"
          ],
          [
           "The Legend of Tarzan"
          ],
          [
           "Alvin and the Chipmunks"
          ],
          [
           "The Prince of Egypt"
          ],
          [
           "Treasure Planet"
          ],
          [
           "The Road to El Dorado"
          ],
          [
           "Star Trek"
          ],
          [
           "Nightmare Alley"
          ],
          [
           "The Polar Express"
          ],
          [
           "Casper"
          ],
          [
           "Olympus Has Fallen"
          ],
          [
           "Cloudy with a Chance of Meatballs 2"
          ],
          [
           "Oblivion"
          ],
          [
           "The Expendables 2"
          ],
          [
           "Pokémon Detective Pikachu"
          ],
          [
           "Conan the Barbarian"
          ],
          [
           "The Last Witch Hunter"
          ],
          [
           "Murder on the Orient Express"
          ],
          [
           "Bruce Almighty"
          ],
          [
           "Planet of the Apes"
          ],
          [
           "Hitman's Wife's Bodyguard"
          ],
          [
           "Bumblebee"
          ],
          [
           "Independence Day"
          ],
          [
           "The Great Gatsby"
          ],
          [
           "Star Trek Into Darkness"
          ],
          [
           "The Matrix Reloaded"
          ],
          [
           "Asterix & Obelix: Mission Cleopatra"
          ],
          [
           "The A-Team"
          ],
          [
           "The Emoji Movie"
          ],
          [
           "The Longest Yard"
          ],
          [
           "Focus"
          ],
          [
           "The Mask of Zorro"
          ],
          [
           "War of the Worlds"
          ],
          [
           "Star Wars: Episode II - Attack of the Clones"
          ],
          [
           "Scoob!"
          ],
          [
           "Zodiac"
          ],
          [
           "Indiana Jones and the Kingdom of the Crystal Skull"
          ],
          [
           "Home"
          ],
          [
           "xXx"
          ],
          [
           "Dolittle"
          ],
          [
           "Little Man"
          ],
          [
           "Ocean's Eleven"
          ],
          [
           "Stuart Little"
          ],
          [
           "The Day the Earth Stood Still"
          ],
          [
           "Independence Day: Resurgence"
          ],
          [
           "Ice Age: Collision Course"
          ],
          [
           "King Arthur: Legend of the Sword"
          ],
          [
           "Star Wars: Episode III - Revenge of the Sith"
          ],
          [
           "True Lies"
          ],
          [
           "Peter Pan"
          ],
          [
           "The Matrix Revolutions"
          ],
          [
           "Kubo and the Two Strings"
          ],
          [
           "1917"
          ],
          [
           "Annie"
          ],
          [
           "Geostorm"
          ],
          [
           "Death on the Nile"
          ],
          [
           "The Iron Giant"
          ],
          [
           "TRON: Legacy"
          ],
          [
           "The Greatest Showman"
          ],
          [
           "Watchmen"
          ],
          [
           "Sin City: A Dame to Kill For"
          ],
          [
           "V for Vendetta"
          ],
          [
           "50 First Dates"
          ],
          [
           "Ocean's Eight"
          ],
          [
           "Deep Impact"
          ],
          [
           "Alvin and the Chipmunks: Chipwrecked"
          ],
          [
           "Captain America: The Winter Soldier"
          ],
          [
           "Alvin and the Chipmunks: The Squeakquel"
          ],
          [
           "The Smurfs"
          ],
          [
           "Batman Forever"
          ],
          [
           "National Treasure"
          ],
          [
           "Hotel Transylvania"
          ],
          [
           "Star Wars: Episode I - The Phantom Menace"
          ],
          [
           "Sully"
          ],
          [
           "Once Upon a Time… in Hollywood"
          ],
          [
           "Escape Plan"
          ],
          [
           "Snow White and the Huntsman"
          ],
          [
           "Goosebumps"
          ],
          [
           "The Mummy"
          ],
          [
           "The Jungle Book"
          ],
          [
           "Blade II"
          ],
          [
           "Men in Black II"
          ],
          [
           "Trolls World Tour"
          ],
          [
           "The Mitchells vs. the Machines"
          ],
          [
           "Bee Movie"
          ],
          [
           "Fantastic Four"
          ],
          [
           "Cowboys & Aliens"
          ],
          [
           "London Has Fallen"
          ],
          [
           "The Great Wall"
          ],
          [
           "Inkheart"
          ],
          [
           "Night at the Museum"
          ],
          [
           "What Women Want"
          ],
          [
           "Monster House"
          ],
          [
           "Me, Myself & Irene"
          ],
          [
           "Signs"
          ],
          [
           "Zathura: A Space Adventure"
          ],
          [
           "Batman Returns"
          ],
          [
           "2 Guns"
          ],
          [
           "Storks"
          ],
          [
           "Ghost in the Shell"
          ],
          [
           "The Day After Tomorrow"
          ],
          [
           "The Last Samurai"
          ],
          [
           "Silent Hill"
          ],
          [
           "R.I.P.D."
          ],
          [
           "American Gangster"
          ],
          [
           "Starship Troopers"
          ],
          [
           "The Departed"
          ],
          [
           "The Ring Two"
          ],
          [
           "Central Intelligence"
          ],
          [
           "Flushed Away"
          ],
          [
           "Red Dawn"
          ],
          [
           "Ghostbusters"
          ],
          [
           "Despicable Me 3"
          ],
          [
           "Man on Fire"
          ],
          [
           "Men in Black 3"
          ],
          [
           "Underworld: Evolution"
          ],
          [
           "Everest"
          ],
          [
           "Herbie Fully Loaded"
          ],
          [
           "Superman II"
          ],
          [
           "Star Trek Beyond"
          ],
          [
           "Fantastic Four: Rise of the Silver Surfer"
          ],
          [
           "Rambo III"
          ],
          [
           "Knight and Day"
          ],
          [
           "Men in Black: International"
          ],
          [
           "Point Break"
          ],
          [
           "Mr. & Mrs. Smith"
          ],
          [
           "The 13th Warrior"
          ],
          [
           "Pearl Harbor"
          ],
          [
           "Big Fish"
          ],
          [
           "A.I. Artificial Intelligence"
          ],
          [
           "The Adventures of Tintin"
          ],
          [
           "Due Date"
          ],
          [
           "The Rock"
          ],
          [
           "Sinbad: Legend of the Seven Seas"
          ],
          [
           "Nutty Professor II: The Klumps"
          ],
          [
           "Cloudy with a Chance of Meatballs"
          ],
          [
           "The BFG"
          ],
          [
           "The Devil's Advocate"
          ],
          [
           "Mamma Mia!"
          ],
          [
           "Quantum of Solace"
          ],
          [
           "Life of Pi"
          ],
          [
           "Hellboy"
          ],
          [
           "RED"
          ],
          [
           "Gemini Man"
          ],
          [
           "Charlie's Angels: Full Throttle"
          ],
          [
           "Elysium"
          ],
          [
           "Sherlock Holmes: A Game of Shadows"
          ],
          [
           "Evolution"
          ],
          [
           "Smurfs: The Lost Village"
          ],
          [
           "The Lego Batman Movie"
          ],
          [
           "The Da Vinci Code"
          ],
          [
           "Immortals"
          ],
          [
           "Salt"
          ],
          [
           "A Beautiful Mind"
          ],
          [
           "Amsterdam"
          ],
          [
           "Charlie's Angels"
          ],
          [
           "Die Hard 2"
          ],
          [
           "Midway"
          ],
          [
           "The Old Guard"
          ],
          [
           "Mr. Peabody & Sherman"
          ],
          [
           "Sherlock Holmes"
          ],
          [
           "The Tuxedo"
          ],
          [
           "You Don't Mess with the Zohan"
          ],
          [
           "Fool's Gold"
          ],
          [
           "Enemy at the Gates"
          ],
          [
           "Spectre"
          ],
          [
           "Greyhound"
          ],
          [
           "Robin Hood"
          ],
          [
           "Total Recall"
          ],
          [
           "AVP: Alien vs. Predator"
          ],
          [
           "Poseidon"
          ],
          [
           "The Dictator"
          ],
          [
           "Kingdom of Heaven"
          ],
          [
           "Austin Powers in Goldmember"
          ],
          [
           "Hellboy II: The Golden Army"
          ],
          [
           "Minions"
          ],
          [
           "The World Is Not Enough"
          ],
          [
           "Sleepy Hollow"
          ],
          [
           "Lara Croft: Tomb Raider - The Cradle of Life"
          ],
          [
           "Night at the Museum: Battle of the Smithsonian"
          ],
          [
           "Tropic Thunder"
          ],
          [
           "Batman & Robin"
          ],
          [
           "Antz"
          ],
          [
           "Interview with the Vampire"
          ],
          [
           "Blood Diamond"
          ],
          [
           "American Made"
          ],
          [
           "The Pacifier"
          ],
          [
           "I, Robot"
          ],
          [
           "Daredevil"
          ],
          [
           "Gone in Sixty Seconds"
          ],
          [
           "Assassin's Creed"
          ],
          [
           "The Nutcracker and the Four Realms"
          ],
          [
           "Robots"
          ],
          [
           "Monsters vs Aliens"
          ],
          [
           "Now You See Me 2"
          ],
          [
           "Over the Hedge"
          ],
          [
           "The Angry Birds Movie 2"
          ],
          [
           "Total Recall"
          ],
          [
           "Abominable"
          ],
          [
           "Where the Wild Things Are"
          ],
          [
           "The Bourne Legacy"
          ],
          [
           "Blade: Trinity"
          ],
          [
           "The Ridiculous 6"
          ],
          [
           "The Other Guys"
          ],
          [
           "Crazy, Stupid, Love."
          ],
          [
           "Turbo"
          ],
          [
           "Click"
          ],
          [
           "Yes Man"
          ],
          [
           "Jurassic Park"
          ],
          [
           "101 Dalmatians"
          ],
          [
           "Spies in Disguise"
          ],
          [
           "After Earth"
          ],
          [
           "Horton Hears a Who!"
          ],
          [
           "Stuart Little 2"
          ],
          [
           "Con Air"
          ],
          [
           "The Happening"
          ],
          [
           "Passengers"
          ],
          [
           "Ben-Hur"
          ],
          [
           "Event Horizon"
          ],
          [
           "Garfield: A Tail of Two Kitties"
          ],
          [
           "The Little Prince"
          ],
          [
           "The Core"
          ],
          [
           "The New Mutants"
          ],
          [
           "Chaos Walking"
          ],
          [
           "22 Jump Street"
          ],
          [
           "Super 8"
          ],
          [
           "RV"
          ],
          [
           "Anger Management"
          ],
          [
           "Happy Feet Two"
          ],
          [
           "National Treasure: Book of Secrets"
          ],
          [
           "Planes"
          ],
          [
           "Cast Away"
          ],
          [
           "The Bourne Identity"
          ],
          [
           "A Christmas Carol"
          ],
          [
           "The Game"
          ],
          [
           "The Lego Movie"
          ],
          [
           "The Smurfs 2"
          ],
          [
           "Daddy Day Care"
          ],
          [
           "Transformers: Dark of the Moon"
          ],
          [
           "The Tourist"
          ],
          [
           "Sex and the City 2"
          ],
          [
           "Allied"
          ],
          [
           "47 Ronin"
          ],
          [
           "Blue Streak"
          ],
          [
           "S.W.A.T."
          ],
          [
           "Marley & Me"
          ],
          [
           "House of Gucci"
          ],
          [
           "Dracula Untold"
          ],
          [
           "The Secret Life of Walter Mitty"
          ],
          [
           "Braveheart"
          ],
          [
           "Spider-Man 2"
          ],
          [
           "Alvin and the Chipmunks: The Road Chip"
          ],
          [
           "Live Free or Die Hard"
          ],
          [
           "The Bone Collector"
          ],
          [
           "Space Jam"
          ],
          [
           "The Irishman"
          ],
          [
           "Alien Resurrection"
          ],
          [
           "Zoolander 2"
          ],
          [
           "Cold Pursuit"
          ],
          [
           "Sweeney Todd: The Demon Barber of Fleet Street"
          ],
          [
           "Cliffhanger"
          ],
          [
           "Last Action Hero"
          ],
          [
           "A Knight's Tale"
          ],
          [
           "As Good as It Gets"
          ],
          [
           "Gravity"
          ],
          [
           "George of the Jungle"
          ],
          [
           "The Lone Ranger"
          ],
          [
           "Noah"
          ],
          [
           "The Time Machine"
          ],
          [
           "Son of the Mask"
          ],
          [
           "Who Framed Roger Rabbit"
          ],
          [
           "The Lego Movie 2: The Second Part"
          ],
          [
           "Jason Bourne"
          ],
          [
           "Atlantis: The Lost Empire"
          ],
          [
           "Daddy's Home 2"
          ],
          [
           "3:10 to Yuma"
          ],
          [
           "Collateral"
          ],
          [
           "Artemis Fowl"
          ],
          [
           "Die Another Day"
          ],
          [
           "G.I. Joe: Retaliation"
          ],
          [
           "Children of Men"
          ],
          [
           "Deepwater Horizon"
          ],
          [
           "Evan Almighty"
          ],
          [
           "Minority Report"
          ],
          [
           "The Island"
          ],
          [
           "Life"
          ],
          [
           "Spectral"
          ],
          [
           "Dumbo"
          ],
          [
           "Superman Returns"
          ],
          [
           "Around the World in 80 Days"
          ],
          [
           "Lara Croft: Tomb Raider"
          ],
          [
           "The Judge"
          ],
          [
           "Unbreakable"
          ],
          [
           "The Scorpion King"
          ],
          [
           "The X Files"
          ],
          [
           "Scooby-Doo 2: Monsters Unleashed"
          ],
          [
           "Alien³"
          ],
          [
           "Lord of War"
          ],
          [
           "Unbroken"
          ],
          [
           "Isle of Dogs"
          ],
          [
           "The Taking of Pelham 1 2 3"
          ],
          [
           "The Ant Bully"
          ],
          [
           "Double Jeopardy"
          ],
          [
           "Bright"
          ],
          [
           "Epic"
          ],
          [
           "Priest"
          ],
          [
           "Judge Dredd"
          ],
          [
           "Volcano"
          ],
          [
           "Face/Off"
          ],
          [
           "Dreamcatcher"
          ],
          [
           "Blackhat"
          ],
          [
           "RoboCop"
          ],
          [
           "The Forbidden Kingdom"
          ],
          [
           "What Dreams May Come"
          ],
          [
           "End of Days"
          ],
          [
           "Days of Thunder"
          ],
          [
           "Beverly Hills Cop III"
          ],
          [
           "ParaNorman"
          ],
          [
           "Ocean's Twelve"
          ],
          [
           "Year One"
          ],
          [
           "Robin Hood"
          ],
          [
           "Couples Retreat"
          ],
          [
           "Déjà Vu"
          ],
          [
           "RED 2"
          ],
          [
           "Zookeeper"
          ],
          [
           "Into the Blue"
          ],
          [
           "Casino"
          ],
          [
           "Underwater"
          ],
          [
           "Coming 2 America"
          ],
          [
           "Cats & Dogs"
          ],
          [
           "World Trade Center"
          ],
          [
           "Stargate"
          ],
          [
           "Demolition Man"
          ],
          [
           "Tomorrow Never Dies"
          ],
          [
           "Land of the Lost"
          ],
          [
           "Eraser"
          ],
          [
           "Inferno"
          ],
          [
           "Catwoman"
          ],
          [
           "Hitch"
          ],
          [
           "Jack and Jill"
          ],
          [
           "The Rundown"
          ],
          [
           "Bedtime Stories"
          ],
          [
           "First Man"
          ],
          [
           "The Boxtrolls"
          ],
          [
           "Jumper"
          ],
          [
           "State of Play"
          ],
          [
           "The Holiday"
          ],
          [
           "Astérix at the Olympic Games"
          ],
          [
           "Transformers: Revenge of the Fallen"
          ],
          [
           "Reminiscence"
          ],
          [
           "Moulin Rouge!"
          ],
          [
           "The Mule"
          ],
          [
           "Daddy's Home"
          ],
          [
           "Walking Tall"
          ],
          [
           "Spy"
          ],
          [
           "Twister"
          ],
          [
           "The League of Extraordinary Gentlemen"
          ],
          [
           "Cloud Atlas"
          ],
          [
           "The Three Musketeers"
          ],
          [
           "Bicentennial Man"
          ],
          [
           "Hostage"
          ],
          [
           "Shanghai Noon"
          ],
          [
           "The Huntsman: Winter's War"
          ],
          [
           "The Dark Tower"
          ],
          [
           "Bullet to the Head"
          ],
          [
           "Vanilla Sky"
          ],
          [
           "We Were Soldiers"
          ],
          [
           "Tango & Cash"
          ],
          [
           "Dark Shadows"
          ],
          [
           "Date Night"
          ],
          [
           "The Terminal"
          ],
          [
           "Patch Adams"
          ],
          [
           "Death Becomes Her"
          ],
          [
           "Memoirs of a Geisha"
          ],
          [
           "Jack Ryan: Shadow Recruit"
          ],
          [
           "The Bourne Supremacy"
          ],
          [
           "Shanghai Knights"
          ],
          [
           "Jarhead"
          ],
          [
           "Safe House"
          ],
          [
           "King Arthur"
          ],
          [
           "Arthur and the Invisibles"
          ],
          [
           "City of Angels"
          ],
          [
           "Waterworld"
          ],
          [
           "Contagion"
          ],
          [
           "Gangs of New York"
          ],
          [
           "Jerry Maguire"
          ],
          [
           "Into the Storm"
          ],
          [
           "Contact"
          ],
          [
           "Mars Attacks!"
          ],
          [
           "The Hitchhiker's Guide to the Galaxy"
          ],
          [
           "War Horse"
          ],
          [
           "The Man from U.N.C.L.E."
          ],
          [
           "Any Given Sunday"
          ],
          [
           "Open Season"
          ],
          [
           "GoldenEye"
          ],
          [
           "Charlotte's Web"
          ],
          [
           "The Bourne Ultimatum"
          ],
          [
           "The Italian Job"
          ],
          [
           "Hollow Man"
          ],
          [
           "Unstoppable"
          ],
          [
           "Master and Commander: The Far Side of the World"
          ],
          [
           "The Sorcerer's Apprentice"
          ],
          [
           "Captain Phillips"
          ],
          [
           "Get Smart"
          ],
          [
           "Mary Poppins Returns"
          ],
          [
           "Planet 51"
          ],
          [
           "Seven Years in Tibet"
          ],
          [
           "Looney Tunes: Back in Action"
          ],
          [
           "Dante's Peak"
          ],
          [
           "Body of Lies"
          ],
          [
           "Road to Perdition"
          ],
          [
           "Surrogates"
          ],
          [
           "I Still Know What You Did Last Summer"
          ],
          [
           "Joy"
          ],
          [
           "The Manchurian Candidate"
          ],
          [
           "Apollo 13"
          ],
          [
           "The Brothers Grimm"
          ],
          [
           "Gulliver's Travels"
          ],
          [
           "Downsizing"
          ],
          [
           "Surf's Up"
          ],
          [
           "A Perfect Murder"
          ],
          [
           "Valkyrie"
          ],
          [
           "Speed 2: Cruise Control"
          ],
          [
           "You've Got Mail"
          ],
          [
           "Meet Dave"
          ],
          [
           "Deep Blue Sea"
          ],
          [
           "Enemy of the State"
          ],
          [
           "Windtalkers"
          ],
          [
           "Stardust"
          ],
          [
           "10,000 BC"
          ],
          [
           "Cheaper by the Dozen 2"
          ],
          [
           "Outbreak"
          ],
          [
           "Killers"
          ],
          [
           "Mr. Popper's Penguins"
          ],
          [
           "Assassins"
          ],
          [
           "Mowgli: Legend of the Jungle"
          ],
          [
           "Conspiracy Theory"
          ],
          [
           "I, Frankenstein"
          ],
          [
           "The Negotiator"
          ],
          [
           "Little Nicky"
          ],
          [
           "Crimson Tide"
          ],
          [
           "Australia"
          ],
          [
           "Sunshine"
          ],
          [
           "The Phantom of the Opera"
          ],
          [
           "The Boss Baby"
          ],
          [
           "West Side Story"
          ],
          [
           "Child 44"
          ],
          [
           "Okja"
          ],
          [
           "The Sum of All Fears"
          ],
          [
           "Arthur 3: The War of the Two Worlds"
          ],
          [
           "Pan"
          ],
          [
           "Killer Elite"
          ],
          [
           "Les Misérables"
          ],
          [
           "Doctor Dolittle"
          ],
          [
           "Star Trek: Nemesis"
          ],
          [
           "Legend of the Guardians: The Owls of Ga'Hoole"
          ],
          [
           "Outlander"
          ],
          [
           "Blow"
          ],
          [
           "Lethal Weapon 4"
          ],
          [
           "The Pink Panther"
          ],
          [
           "Mortdecai"
          ],
          [
           "Doom"
          ],
          [
           "The Adjustment Bureau"
          ],
          [
           "The Abyss"
          ],
          [
           "Ronin"
          ],
          [
           "Pompeii"
          ],
          [
           "DragonHeart"
          ],
          [
           "The Legend of Zorro"
          ],
          [
           "This Means War"
          ],
          [
           "The Chronicles of Riddick"
          ],
          [
           "Dredd"
          ],
          [
           "Broken City"
          ],
          [
           "Along Came a Spider"
          ],
          [
           "Arthur and the Revenge of Maltazard"
          ],
          [
           "The Invasion"
          ],
          [
           "Broken Arrow"
          ],
          [
           "The Boat That Rocked"
          ],
          [
           "Non-Stop"
          ],
          [
           "The Fast and the Furious: Tokyo Drift"
          ],
          [
           "Paddington"
          ],
          [
           "Cinderella Man"
          ],
          [
           "The Perfect Storm"
          ],
          [
           "Peter Rabbit"
          ],
          [
           "Ip Man 4: The Finale"
          ],
          [
           "Eat Pray Love"
          ],
          [
           "Payback"
          ],
          [
           "Run All Night"
          ],
          [
           "The Thin Red Line"
          ],
          [
           "Pete's Dragon"
          ],
          [
           "Crimson Peak"
          ],
          [
           "Erin Brockovich"
          ],
          [
           "Blades of Glory"
          ],
          [
           "Lost in Space"
          ],
          [
           "Transcendence"
          ],
          [
           "G-Force"
          ],
          [
           "The Haunting"
          ],
          [
           "Paycheck"
          ],
          [
           "Ocean's Thirteen"
          ],
          [
           "The Watch"
          ],
          [
           "Awake"
          ],
          [
           "Babylon A.D."
          ],
          [
           "Mirror Mirror"
          ],
          [
           "The Village"
          ],
          [
           "Moana"
          ],
          [
           "Seven Pounds"
          ],
          [
           "Two Weeks Notice"
          ],
          [
           "Mr. Deeds"
          ],
          [
           "The Aviator"
          ],
          [
           "Daylight"
          ],
          [
           "Spanglish"
          ],
          [
           "Elizabeth: The Golden Age"
          ],
          [
           "Flubber"
          ],
          [
           "New Year's Eve"
          ],
          [
           "U.S. Marshals"
          ],
          [
           "Just Like Heaven"
          ],
          [
           "We Bought a Zoo"
          ],
          [
           "Green Zone"
          ],
          [
           "Stepmom"
          ],
          [
           "The Green Hornet"
          ],
          [
           "Wild Wild West"
          ],
          [
           "The Post"
          ],
          [
           "The Peanuts Movie"
          ],
          [
           "Winter's Tale"
          ],
          [
           "I Now Pronounce You Chuck & Larry"
          ],
          [
           "The Stepford Wives"
          ],
          [
           "Gangster Squad"
          ],
          [
           "Upside Down"
          ],
          [
           "Speed Racer"
          ],
          [
           "Next"
          ],
          [
           "Changeling"
          ],
          [
           "Mercury Rising"
          ],
          [
           "The Insider"
          ],
          [
           "The Nutty Professor"
          ],
          [
           "Gamer"
          ],
          [
           "Something's Gotta Give"
          ],
          [
           "Jingle All the Way"
          ],
          [
           "Mamma Mia! Here We Go Again"
          ],
          [
           "Clear and Present Danger"
          ],
          [
           "Vice"
          ],
          [
           "The Break-Up"
          ],
          [
           "Fun with Dick and Jane"
          ],
          [
           "Three Kings"
          ],
          [
           "Reign of Fire"
          ],
          [
           "Little Fockers"
          ],
          [
           "Hook"
          ],
          [
           "Agora"
          ],
          [
           "Analyze This"
          ],
          [
           "Flightplan"
          ],
          [
           "Transformers"
          ],
          [
           "Miami Vice"
          ],
          [
           "Moneyball"
          ],
          [
           "The Haunted Mansion"
          ],
          [
           "Runaway Jury"
          ],
          [
           "Mona Lisa Smile"
          ],
          [
           "Almost Famous"
          ],
          [
           "Talladega Nights: The Ballad of Ricky Bobby"
          ],
          [
           "What Lies Beneath"
          ],
          [
           "Hidalgo"
          ],
          [
           "The Hurricane"
          ],
          [
           "Sphere"
          ],
          [
           "The Devil's Own"
          ],
          [
           "Final Fantasy: The Spirits Within"
          ],
          [
           "Six Days Seven Nights"
          ],
          [
           "The Last Castle"
          ],
          [
           "Maverick"
          ],
          [
           "Sahara"
          ],
          [
           "Spy Game"
          ],
          [
           "Into the Woods"
          ],
          [
           "Snake Eyes"
          ],
          [
           "16 Blocks"
          ],
          [
           "The Finest Hours"
          ],
          [
           "Collateral Damage"
          ],
          [
           "Flags of Our Fathers"
          ],
          [
           "Hairspray"
          ],
          [
           "The Jackal"
          ],
          [
           "Air Force One"
          ],
          [
           "Hop"
          ],
          [
           "102 Dalmatians"
          ],
          [
           "The Campaign"
          ],
          [
           "Rumor Has It..."
          ],
          [
           "The Monuments Men"
          ],
          [
           "Fantasia 2000"
          ],
          [
           "Hostiles"
          ],
          [
           "Burlesque"
          ],
          [
           "Far and Away"
          ],
          [
           "From Paris with Love"
          ],
          [
           "The Life of David Gale"
          ],
          [
           "Babe: Pig in the City"
          ],
          [
           "Swordfish"
          ],
          [
           "The Life Aquatic with Steve Zissou"
          ],
          [
           "Asterix & Obelix: God Save Britannia"
          ],
          [
           "The 6th Day"
          ],
          [
           "Meet the Parents"
          ],
          [
           "The Chaser"
          ],
          [
           "Eagle Eye"
          ],
          [
           "Race to Witch Mountain"
          ],
          [
           "Intolerable Cruelty"
          ],
          [
           "Fast & Furious"
          ],
          [
           "The Family Man"
          ],
          [
           "Domino"
          ],
          [
           "Maid in Manhattan"
          ],
          [
           "Space Cowboys"
          ],
          [
           "All the Money in the World"
          ],
          [
           "Munich"
          ],
          [
           "Ransom"
          ],
          [
           "The Mexican"
          ],
          [
           "Æon Flux"
          ],
          [
           "Invictus"
          ],
          [
           "Free State of Jones"
          ],
          [
           "Backdraft"
          ],
          [
           "Dr. Dolittle 2"
          ],
          [
           "Sky Captain and the World of Tomorrow"
          ],
          [
           "Funny People"
          ],
          [
           "Lincoln"
          ],
          [
           "Mission to Mars"
          ],
          [
           "Escape from L.A."
          ],
          [
           "Edge of Darkness"
          ],
          [
           "The Secret Life of Pets"
          ],
          [
           "The Kingdom"
          ],
          [
           "City of Ember"
          ],
          [
           "The Score"
          ],
          [
           "Syriana"
          ],
          [
           "A Wrinkle in Time"
          ],
          [
           "Runaway Bride"
          ],
          [
           "It's Complicated"
          ],
          [
           "U-571"
          ],
          [
           "The Legend of Hercules"
          ],
          [
           "Ad Astra"
          ],
          [
           "Ali"
          ],
          [
           "Stay"
          ],
          [
           "Dinner for Schmucks"
          ],
          [
           "Starsky & Hutch"
          ],
          [
           "Lady in the Water"
          ],
          [
           "The Santa Clause 2"
          ],
          [
           "Practical Magic"
          ],
          [
           "Shall We Dance?"
          ],
          [
           "Anchorman 2: The Legend Continues"
          ],
          [
           "Black Mass"
          ],
          [
           "Man on the Moon"
          ],
          [
           "You, Me and Dupree"
          ],
          [
           "Rock of Ages"
          ],
          [
           "Righteous Kill"
          ],
          [
           "Hereafter"
          ],
          [
           "Analyze That"
          ],
          [
           "Junior"
          ],
          [
           "Fast Five"
          ],
          [
           "Fast & Furious 6"
          ],
          [
           "Wall Street: Money Never Sleeps"
          ],
          [
           "When in Rome"
          ],
          [
           "Pleasantville"
          ],
          [
           "Grindhouse"
          ],
          [
           "Trouble with the Curve"
          ],
          [
           "Charlie Wilson's War"
          ],
          [
           "The Siege"
          ],
          [
           "Bewitched"
          ],
          [
           "First Knight"
          ],
          [
           "The International"
          ],
          [
           "Dream House"
          ],
          [
           "Inspector Gadget"
          ],
          [
           "The Interpreter"
          ],
          [
           "Live by Night"
          ],
          [
           "2 Fast 2 Furious"
          ],
          [
           "The Wolverine"
          ],
          [
           "Matchstick Men"
          ],
          [
           "Hannibal"
          ],
          [
           "Red Dragon"
          ],
          [
           "X-Men Origins: Wolverine"
          ],
          [
           "Hannibal Rising"
          ],
          [
           "Resident Evil: Retribution"
          ],
          [
           "X-Men: First Class"
          ],
          [
           "The Lost World: Jurassic Park"
          ],
          [
           "Jurassic Park III"
          ],
          [
           "Resident Evil: Afterlife"
          ],
          [
           "X-Men"
          ],
          [
           "The Internship"
          ]
         ],
         "hovertemplate": "popularity=%{x}<br>budget=%{y}<br>title=%{customdata[0]}<extra></extra>",
         "legendgroup": "",
         "marker": {
          "color": "#636efa",
          "symbol": "circle"
         },
         "mode": "markers",
         "name": "",
         "showlegend": false,
         "type": "scattergl",
         "x": [
          8763.998,
          5409.104,
          4425.387,
          3994.342,
          3583.861,
          3303.401,
          2768.382,
          2550.738,
          2010.98,
          965.585,
          904.25,
          659.169,
          606.721,
          590.47,
          459.47,
          398.983,
          394.087,
          389.065,
          329.063,
          326.317,
          310.783,
          302.905,
          298.881,
          297.805,
          297.574,
          296.05,
          281.488,
          265.678,
          262.576,
          257.264,
          249.16,
          243.528,
          237.124,
          226.317,
          218.057,
          215.904,
          207.13,
          201.42,
          199.987,
          195.589,
          190.547,
          188.593,
          188.422,
          188.259,
          167.631,
          165.673,
          164.75,
          161.315,
          153.021,
          152.859,
          151.161,
          147.231,
          145.127,
          144.713,
          144.638,
          144.183,
          142.497,
          141.751,
          141.218,
          140.868,
          137.609,
          135.909,
          133.995,
          133.686,
          132.456,
          131.16,
          130.233,
          130.097,
          129.022,
          127.575,
          123.968,
          122.389,
          122.226,
          121.075,
          120.506,
          118.852,
          117.558,
          116.068,
          114.592,
          114.327,
          114.069,
          113.743,
          113.412,
          112.847,
          112.418,
          111.664,
          111.402,
          111.317,
          110.44,
          109.791,
          109.263,
          108.825,
          108.428,
          108.301,
          108.176,
          107.735,
          106.42,
          106.248,
          105.783,
          105.602,
          105.366,
          104.302,
          104.103,
          104.022,
          103.396,
          103.377,
          102.464,
          101.739,
          101.65,
          101.353,
          100.8,
          100.678,
          99.709,
          98.929,
          98.308,
          98.168,
          97.921,
          97.839,
          97.537,
          97.335,
          97.045,
          96.347,
          95.912,
          95.856,
          95.233,
          95.214,
          95.09,
          94.513,
          93.543,
          93.203,
          92.892,
          92.847,
          92.753,
          92.521,
          91.531,
          91.236,
          90.64,
          90.371,
          90.122,
          89.816,
          88.88,
          88.79,
          88.506,
          88.432,
          88.342,
          88.071,
          87.546,
          87.317,
          87.283,
          87.007,
          86.827,
          86.122,
          85.865,
          85.615,
          85.46,
          85.04,
          84.979,
          84.873,
          84.317,
          84.289,
          84.255,
          83.914,
          83.672,
          82.963,
          82.25,
          82.045,
          81.291,
          81.283,
          81.084,
          80.926,
          80.86,
          80.856,
          80.72,
          80.549,
          80.388,
          79.957,
          79.781,
          79.545,
          79.236,
          79.213,
          79.141,
          79.08,
          78.412,
          77.62,
          77.53,
          77.329,
          76.978,
          76.825,
          76.437,
          76.422,
          76.281,
          76.157,
          76.042,
          75.809,
          75.288,
          75.014,
          74.611,
          74.571,
          74.211,
          74.077,
          73.999,
          73.866,
          72.923,
          72.692,
          72.406,
          72.156,
          71.483,
          71.35,
          71.324,
          71.14,
          71.093,
          70.655,
          70.516,
          70.495,
          70.389,
          70.042,
          69.939,
          69.695,
          69.624,
          69.384,
          69.377,
          69.356,
          68.993,
          68.694,
          68.323,
          68.168,
          67.934,
          67.707,
          67.319,
          67.307,
          67.235,
          66.88,
          66.849,
          66.581,
          66.157,
          66.091,
          66.057,
          65.797,
          65.672,
          65.641,
          65.374,
          65.233,
          65.123,
          64.645,
          64.592,
          64.512,
          64.463,
          64.382,
          63.768,
          63.745,
          63.529,
          63.412,
          63.329,
          63.282,
          63.173,
          63.084,
          62.884,
          62.849,
          62.834,
          62.01,
          61.45,
          61.13,
          60.849,
          60.753,
          60.555,
          60.241,
          60.08,
          59.941,
          59.651,
          59.44,
          59.346,
          59.271,
          59.142,
          58.881,
          58.74,
          58.517,
          58.301,
          58.277,
          58.259,
          57.942,
          57.766,
          57.765,
          57.341,
          57.307,
          57.264,
          57.153,
          56.955,
          56.835,
          56.554,
          56.32,
          56.216,
          56.134,
          56.011,
          55.685,
          55.368,
          55.201,
          55.116,
          54.922,
          54.686,
          54.424,
          54.257,
          54.184,
          54.155,
          53.997,
          53.942,
          53.929,
          53.891,
          53.821,
          53.804,
          53.79,
          53.512,
          53.489,
          53.453,
          53.385,
          53.375,
          53.265,
          53.251,
          53.222,
          53.206,
          52.653,
          52.183,
          52.083,
          51.613,
          51.576,
          51.529,
          51.504,
          51.489,
          51.459,
          51.359,
          51.35,
          51.124,
          50.758,
          50.467,
          50.265,
          50.033,
          49.898,
          49.785,
          49.736,
          49.669,
          49.538,
          49.457,
          49.338,
          49.295,
          49.231,
          49.095,
          49.061,
          49.012,
          48.778,
          48.74,
          48.685,
          48.558,
          48.424,
          48.185,
          47.954,
          47.888,
          47.837,
          47.822,
          47.67,
          47.646,
          47.59,
          47.557,
          47.545,
          47.482,
          47.471,
          47.205,
          47.176,
          47.11,
          46.999,
          46.847,
          46.687,
          46.667,
          46.269,
          46.095,
          46.035,
          45.907,
          45.61,
          45.498,
          45.483,
          45.452,
          45.349,
          45.129,
          44.982,
          44.817,
          44.571,
          44.569,
          44.56,
          44.469,
          44.417,
          44.315,
          44.122,
          44.031,
          43.941,
          43.817,
          43.561,
          43.492,
          43.436,
          43.311,
          43.304,
          43.294,
          43.273,
          43.166,
          42.89,
          42.821,
          42.785,
          42.478,
          42.392,
          42.166,
          42.033,
          42.027,
          41.916,
          41.768,
          41.76,
          41.606,
          41.59,
          41.572,
          41.545,
          41.311,
          41.279,
          41.224,
          41.216,
          41.19,
          40.995,
          40.764,
          40.739,
          40.679,
          40.63,
          40.543,
          40.49,
          40.489,
          40.468,
          40.388,
          40.288,
          40.259,
          40.256,
          39.836,
          39.731,
          39.62,
          39.555,
          39.386,
          39.356,
          39.264,
          39.209,
          39.146,
          39.083,
          38.995,
          38.956,
          38.898,
          38.81,
          38.657,
          38.594,
          38.524,
          38.27,
          38.242,
          38.228,
          38.132,
          37.937,
          37.861,
          37.846,
          37.796,
          37.732,
          37.729,
          37.69,
          37.607,
          37.565,
          37.562,
          37.478,
          37.41,
          37.306,
          37.269,
          37.202,
          37.189,
          37.187,
          37.126,
          37.092,
          37.07,
          37.029,
          36.996,
          36.902,
          36.902,
          36.842,
          36.67,
          36.641,
          36.492,
          36.243,
          36.14,
          36.118,
          36.032,
          36.022,
          35.998,
          35.975,
          35.959,
          35.929,
          35.828,
          35.686,
          35.628,
          35.61,
          35.56,
          35.521,
          35.48,
          35.466,
          35.462,
          35.276,
          35.266,
          35.246,
          34.952,
          34.859,
          34.823,
          34.802,
          34.749,
          34.701,
          34.577,
          34.527,
          34.409,
          34.346,
          34.341,
          34.29,
          34.274,
          34.257,
          34.226,
          34.21,
          34.158,
          34.102,
          34.099,
          34.098,
          34.073,
          34.014,
          33.886,
          33.699,
          33.652,
          33.498,
          33.463,
          33.432,
          33.411,
          33.391,
          33.313,
          33.283,
          33.272,
          33.256,
          33.248,
          33.204,
          33.166,
          33.14,
          33.115,
          33.102,
          33.075,
          33.038,
          32.988,
          32.941,
          32.911,
          32.88,
          32.843,
          32.782,
          32.574,
          32.533,
          32.528,
          32.478,
          32.364,
          32.327,
          32.214,
          32.203,
          32.145,
          32.089,
          32.073,
          32.015,
          31.999,
          31.912,
          31.909,
          31.885,
          31.816,
          31.715,
          31.663,
          31.605,
          31.602,
          31.5,
          31.456,
          31.443,
          31.441,
          31.434,
          31.412,
          31.322,
          31.314,
          31.31,
          31.302,
          31.269,
          31.259,
          31.225,
          31.212,
          31.195,
          31.154,
          31.137,
          31.096,
          31.09,
          31.067,
          31.046,
          31.02,
          30.989,
          30.943,
          30.915,
          30.914,
          30.832,
          30.808,
          30.801,
          30.792,
          30.595,
          30.553,
          30.453,
          30.415,
          30.355,
          30.303,
          30.252,
          30.23,
          30.14,
          30.121,
          29.97,
          29.957,
          29.946,
          29.889,
          29.885,
          29.852,
          29.727,
          29.592,
          29.563,
          29.445,
          29.411,
          29.382,
          29.366,
          29.339,
          29.296,
          29.294,
          29.272,
          29.218,
          29.191,
          29.185,
          29.138,
          29.113,
          29.112,
          29.094,
          29.036,
          29.007,
          28.957,
          28.816,
          28.639,
          28.542,
          28.514,
          28.507,
          28.486,
          28.47,
          28.443,
          28.439,
          28.422,
          28.412,
          28.34,
          28.323,
          28.32,
          28.04,
          27.938,
          27.845,
          27.82,
          27.8,
          27.782,
          27.739,
          27.725,
          27.719,
          27.691,
          27.663,
          27.66,
          27.527,
          27.518,
          27.498,
          27.466,
          27.453,
          27.391,
          27.375,
          27.339,
          27.311,
          27.276,
          27.269,
          27.179,
          27.157,
          27.15,
          27.133,
          27.04,
          27.027,
          27.024,
          27.013,
          26.971,
          26.966,
          26.96,
          26.947,
          26.902,
          26.886,
          26.874,
          26.865,
          26.787,
          26.74,
          26.719,
          26.659,
          26.619,
          26.569,
          26.566,
          26.549,
          26.537,
          26.505,
          26.484,
          26.248,
          26.083,
          26.075,
          26.052,
          25.989,
          25.967,
          25.942,
          25.938,
          25.904,
          25.903,
          25.903,
          25.878,
          25.775,
          25.759,
          25.744,
          25.723,
          25.69,
          25.687,
          25.668,
          25.641,
          25.635,
          25.571,
          25.571,
          25.545,
          25.478,
          25.449,
          25.362,
          25.332,
          25.18,
          25.178,
          25.094,
          25.067,
          25.029,
          24.969,
          24.957,
          24.928,
          24.919,
          24.915,
          24.892,
          24.876,
          24.819,
          24.691,
          24.69,
          24.653,
          24.608,
          24.534,
          24.527,
          24.467,
          24.441,
          24.44,
          24.402,
          24.358,
          24.305,
          24.23,
          24.197,
          24.072,
          24.07,
          24.058,
          24.038,
          23.948,
          23.897,
          23.886,
          23.8,
          23.716,
          23.711,
          23.618,
          23.611,
          23.551,
          23.506,
          23.486,
          23.454,
          23.378,
          23.374,
          23.327,
          23.314,
          23.311,
          23.305,
          23.302,
          23.268,
          23.262,
          23.249,
          23.232,
          23.221,
          23.213,
          23.156,
          23.118,
          23.107,
          23.104,
          23.056,
          23.019,
          23.006,
          22.962,
          22.953,
          22.939,
          22.934,
          22.872,
          22.847,
          22.843,
          22.827,
          22.733,
          22.713,
          22.696,
          22.692,
          22.65,
          22.577,
          22.555,
          22.551,
          22.433,
          22.404,
          22.376,
          22.322,
          22.209,
          22.201,
          22.196,
          22.168,
          22.129,
          22.112,
          22.1,
          22.074,
          22.022,
          21.975,
          21.974,
          21.944,
          21.899,
          21.869,
          21.831,
          21.781,
          21.681,
          21.609,
          21.558,
          21.548,
          21.5,
          21.496,
          21.49,
          21.49,
          21.474,
          21.468,
          21.408,
          21.381,
          21.367,
          21.319,
          21.283,
          21.185,
          21.125,
          21.125,
          21.122,
          21.114,
          21.079,
          21.07,
          21.062,
          21.022,
          20.986,
          20.913,
          20.899,
          20.893,
          20.878,
          20.873,
          20.786,
          20.78,
          20.745,
          20.745,
          20.735,
          20.709,
          20.676,
          20.645,
          20.635,
          20.63,
          20.598,
          20.59,
          20.489,
          20.469,
          20.466,
          20.462,
          20.432,
          20.407,
          20.405,
          20.4,
          20.392,
          20.3,
          20.278,
          20.255,
          20.253,
          20.215,
          20.197,
          20.193,
          20.167,
          20.126,
          20.112,
          20.105,
          19.982,
          19.763,
          19.72,
          19.694,
          19.636,
          19.617,
          19.559,
          19.48,
          19.41,
          19.403,
          19.38,
          19.372,
          19.336,
          19.219,
          19.206,
          19.184,
          19.165,
          19.133,
          18.967,
          18.961,
          18.935,
          18.925,
          18.92,
          18.895,
          18.797,
          18.769,
          18.746,
          18.712,
          18.703,
          18.658,
          18.654,
          18.626,
          18.626,
          18.607,
          18.534,
          18.516,
          18.478,
          18.474,
          18.443,
          18.386,
          18.362,
          18.336,
          18.25,
          18.248,
          18.212,
          18.166,
          17.902,
          17.9,
          17.894,
          17.886,
          17.886,
          17.789,
          17.703,
          17.634,
          17.602,
          17.495,
          17.481,
          17.463,
          17.315,
          17.25,
          17.234,
          17.221,
          17.193,
          17.176,
          17.15,
          17.122,
          17.072,
          17.016,
          17.015,
          16.993,
          16.922,
          16.895,
          16.747,
          16.658,
          16.411,
          16.382,
          16.366,
          16.305,
          16.304,
          16.172,
          16.143,
          16.107,
          16.102,
          15.992,
          15.986,
          15.978,
          15.968,
          15.879,
          15.866,
          15.848,
          15.822,
          15.818,
          15.798,
          15.751,
          15.741,
          15.724,
          15.578,
          15.575,
          15.571,
          15.564,
          15.538,
          15.505,
          15.502,
          15.409,
          15.363,
          15.337,
          15.293,
          15.248,
          15.232,
          15.183,
          15.161,
          15.157,
          15.156,
          15.101,
          15.061,
          14.962,
          14.924,
          14.874,
          14.86,
          14.798,
          14.782,
          14.711,
          14.675,
          14.639,
          14.531,
          14.498,
          14.407,
          14.313,
          14.129,
          14.107,
          14.1,
          14.071,
          14.002,
          13.885,
          13.883,
          13.866,
          13.764,
          13.728,
          13.695,
          13.638,
          13.596,
          13.349,
          13.299,
          13.189,
          13.186,
          13.025,
          13.017,
          12.958,
          12.901,
          12.834,
          12.766,
          12.7,
          12.655,
          12.643,
          12.64,
          12.614,
          12.601,
          12.571,
          12.484,
          12.484,
          12.341,
          12.311,
          12.288,
          12.221,
          12.094,
          11.987,
          11.806,
          11.767,
          11.638,
          11.628,
          11.402,
          10.894,
          10.446,
          9.581,
          9.372,
          8.395,
          6.614,
          6.29,
          6.254,
          6.139,
          4.724,
          2.172,
          2.116,
          1.926,
          1.625,
          1.423,
          0.822
         ],
         "xaxis": "x",
         "y": [
          129000000,
          200000000,
          200000000,
          75000000,
          340000000,
          145000000,
          190000000,
          100000000,
          125000000,
          250000000,
          90000000,
          90000000,
          100000000,
          100000000,
          200000000,
          50000000,
          250000000,
          200000000,
          50000000,
          165000000,
          250000000,
          90000000,
          460000000,
          110000000,
          170000000,
          237000000,
          50000000,
          85000000,
          65000000,
          200000000,
          190000000,
          200000000,
          110000000,
          170000000,
          90000000,
          200000000,
          60000000,
          356000000,
          210000000,
          85000000,
          200000000,
          300000000,
          55000000,
          150000000,
          200000000,
          185000000,
          75000000,
          74000000,
          150000000,
          150000000,
          165000000,
          120000000,
          92000000,
          175000000,
          185000000,
          100000000,
          70000000,
          151000000,
          165000000,
          300000000,
          380000000,
          100000000,
          60000000,
          217000000,
          200000000,
          260000000,
          150000000,
          200000000,
          130000000,
          140000000,
          150000000,
          190000000,
          190000000,
          200000000,
          130000000,
          80000000,
          175000000,
          140000000,
          130000000,
          100000000,
          93000000,
          170000000,
          90000000,
          150000000,
          68000000,
          150000000,
          110000000,
          250000000,
          200000000,
          100000000,
          59000000,
          105000000,
          200000000,
          90000000,
          200000000,
          161900000,
          165000000,
          175000000,
          160000000,
          64000000,
          115000000,
          165000000,
          150000000,
          185000000,
          150000000,
          215000000,
          160000000,
          185000000,
          180000000,
          50000000,
          220000000,
          155000000,
          160000000,
          60000000,
          150000000,
          150000000,
          170000000,
          165000000,
          150000000,
          200000000,
          58000000,
          180000000,
          90000000,
          200000000,
          200000000,
          125000000,
          250000000,
          200000000,
          139000000,
          116000000,
          55000000,
          55000000,
          175000000,
          65000000,
          129000000,
          55000000,
          58800000,
          178000000,
          250000000,
          200000000,
          165000000,
          200000000,
          110000000,
          110000000,
          68000000,
          160000000,
          365000000,
          175000000,
          70000000,
          85000000,
          200000000,
          130000000,
          230000000,
          78000000,
          70000000,
          146000000,
          80000000,
          260000000,
          79000000,
          110000000,
          55000000,
          68000000,
          50000000,
          200000000,
          250000000,
          94000000,
          250000000,
          85000000,
          84000000,
          63000000,
          145000000,
          75000000,
          81000000,
          85000000,
          200000000,
          250000000,
          132000000,
          160000000,
          60000000,
          90000000,
          80000000,
          50000000,
          60000000,
          109000000,
          88000000,
          250000000,
          150000000,
          145000000,
          180000000,
          79000000,
          75000000,
          258000000,
          75000000,
          140000000,
          150000000,
          95000000,
          75000000,
          120000000,
          79000000,
          150000000,
          65000000,
          94000000,
          102000000,
          180000000,
          100000000,
          165000000,
          104000000,
          200000000,
          300000000,
          185000000,
          60000000,
          120000000,
          75000000,
          80000000,
          80000000,
          145000000,
          103000000,
          200000000,
          200000000,
          225000000,
          200000000,
          175000000,
          97000000,
          120000000,
          200000000,
          52000000,
          54000000,
          125000000,
          116000000,
          250000000,
          100000000,
          130000000,
          80000000,
          185000000,
          63000000,
          60000000,
          97000000,
          70000000,
          135000000,
          98000000,
          92000000,
          150000000,
          80000000,
          150000000,
          150000000,
          250000000,
          69000000,
          90000000,
          175000000,
          69000000,
          149000000,
          50000000,
          50000000,
          80000000,
          245000000,
          93000000,
          61000000,
          95000000,
          88000000,
          75000000,
          200000000,
          50000000,
          100000000,
          128000000,
          200000000,
          180000000,
          170000000,
          92000000,
          200000000,
          150000000,
          125000000,
          80000000,
          50000000,
          150000000,
          103000000,
          57000000,
          50000000,
          150000000,
          90000000,
          60000000,
          80000000,
          152000000,
          205000000,
          160000000,
          135000000,
          200000000,
          150000000,
          135000000,
          200000000,
          80000000,
          170000000,
          140000000,
          110000000,
          110000000,
          200000000,
          103000000,
          95000000,
          175000000,
          170000000,
          70000000,
          130000000,
          70000000,
          75000000,
          250000000,
          150000000,
          60000000,
          55000000,
          90000000,
          61000000,
          85000000,
          65000000,
          90000000,
          80000000,
          100000000,
          123000000,
          110000000,
          185000000,
          100000000,
          250000000,
          200000000,
          60000000,
          200000000,
          150000000,
          109000000,
          105000000,
          50000000,
          70000000,
          200000000,
          140000000,
          175000000,
          50000000,
          150000000,
          145000000,
          140000000,
          50000000,
          88000000,
          145000000,
          125000000,
          55000000,
          75000000,
          176000003,
          51000000,
          183000000,
          80000000,
          175000000,
          178000000,
          150000000,
          80000000,
          150000000,
          108000000,
          66000000,
          160000000,
          130000000,
          85000000,
          160000000,
          69000000,
          100000000,
          50000000,
          150000000,
          150000000,
          90000000,
          50000000,
          97600000,
          150000000,
          75000000,
          200000000,
          209000000,
          160000000,
          178000000,
          90000000,
          111000000,
          61000000,
          200000000,
          190000000,
          55000000,
          140000000,
          85000000,
          94000000,
          120000000,
          110000000,
          200000000,
          127500000,
          207000000,
          177200000,
          76000000,
          150000000,
          250000000,
          140000000,
          150000000,
          200000000,
          90000000,
          127000000,
          137000000,
          170000000,
          75000000,
          50000000,
          70000000,
          150000000,
          150000000,
          195000000,
          74000000,
          60000000,
          73000000,
          80000000,
          80000000,
          53000000,
          180000000,
          60000000,
          70000000,
          140000000,
          95000000,
          150000000,
          60000000,
          165000000,
          50000000,
          70000000,
          78000000,
          120000000,
          100000000,
          150000000,
          90000000,
          90000000,
          55000000,
          80000000,
          100000000,
          70000000,
          135000000,
          75000000,
          105000000,
          190000000,
          150000000,
          58500000,
          110000000,
          50000000,
          82000000,
          50100000,
          95000000,
          132000000,
          120000000,
          90000000,
          65000000,
          185000000,
          135000000,
          70000000,
          175000000,
          64000000,
          85000000,
          133000000,
          80000000,
          165000000,
          105000000,
          175000000,
          113000000,
          115000000,
          100000000,
          150000000,
          60000000,
          100000000,
          65000000,
          120000000,
          90000000,
          70000000,
          170000000,
          84000000,
          130000000,
          65000000,
          54000000,
          75000000,
          70000000,
          75000000,
          75000000,
          170000000,
          75000000,
          110000000,
          100000000,
          100000000,
          85000000,
          115000000,
          60000000,
          95000000,
          50000000,
          170000000,
          58000000,
          125000000,
          175000000,
          54000000,
          140000000,
          90000000,
          75000000,
          150000000,
          100000000,
          163000000,
          60000000,
          150000000,
          60000000,
          110000000,
          70000000,
          75000000,
          51000000,
          72000000,
          65000000,
          80000000,
          61000000,
          70000000,
          110000000,
          125000000,
          140000000,
          50000000,
          130000000,
          100000000,
          105000000,
          90000000,
          50000000,
          50000000,
          149000000,
          65000000,
          144000000,
          80000000,
          70000000,
          225000000,
          50000000,
          55000000,
          50000000,
          54000000,
          185000000,
          130000000,
          63000000,
          117000000,
          110000000,
          105000000,
          110000000,
          160000000,
          140000000,
          70000000,
          100000000,
          130000000,
          65000000,
          75000000,
          60000000,
          84000000,
          100000000,
          140000000,
          57000000,
          52000000,
          200000000,
          120000000,
          66000000,
          58000000,
          140000000,
          120000000,
          115000000,
          125000000,
          80000000,
          60000000,
          80000000,
          125000000,
          75000000,
          110000000,
          60000000,
          80000000,
          92000000,
          70000000,
          100000000,
          70000000,
          145000000,
          90000000,
          60000000,
          90000000,
          70000000,
          68000000,
          245000000,
          50300000,
          200000000,
          125000000,
          70000000,
          160000000,
          65000000,
          130000000,
          63000000,
          85000000,
          74000000,
          135000000,
          100000000,
          95000000,
          150000000,
          92000000,
          125000000,
          60000000,
          60000000,
          100000000,
          50000000,
          56000000,
          120000000,
          78000000,
          90000000,
          125000000,
          120000000,
          75000000,
          175000000,
          90000000,
          80000000,
          65000000,
          65000000,
          75000000,
          100000000,
          130000000,
          65000000,
          60000000,
          100000000,
          50000000,
          135000000,
          82500000,
          70000000,
          63000000,
          54000000,
          100000000,
          130000000,
          85000000,
          120000000,
          75000000,
          60000000,
          110000000,
          100000000,
          60000000,
          60000000,
          64000000,
          60000000,
          67000000,
          125000000,
          50000000,
          50000000,
          50000000,
          75000000,
          130000000,
          130000000,
          50000000,
          90000000,
          60000000,
          200000000,
          50000000,
          60000000,
          105000000,
          60000000,
          195000000,
          100000000,
          100000000,
          85000000,
          175000000,
          65000000,
          80000000,
          60000000,
          75000000,
          70000000,
          90000000,
          72000000,
          200000000,
          90000000,
          110000000,
          73000000,
          80000000,
          159000000,
          70000000,
          50000000,
          60000000,
          50000000,
          70000000,
          85000000,
          65000000,
          50000000,
          105000000,
          55000000,
          215000000,
          125000000,
          80000000,
          84000000,
          70000000,
          99000000,
          120000000,
          120000000,
          69000000,
          55000000,
          65000000,
          125000000,
          140000000,
          130000000,
          76000000,
          110000000,
          175000000,
          102000000,
          126000000,
          58000000,
          70000000,
          170000000,
          270000000,
          110000000,
          115000000,
          50000000,
          75000000,
          60000000,
          66000000,
          80000000,
          50000000,
          50000000,
          65000000,
          62770198,
          100000000,
          50000000,
          70000000,
          90000000,
          100000000,
          60000000,
          90000000,
          90000000,
          80000000,
          68000000,
          70000000,
          120000000,
          55000000,
          85000000,
          100000000,
          60000000,
          50000000,
          60000000,
          110000000,
          60000000,
          100000000,
          70000000,
          75000000,
          84000000,
          80000000,
          50000000,
          50000000,
          50000000,
          60000000,
          60000000,
          65000000,
          55000000,
          57000000,
          110000000,
          100000000,
          100000000,
          75000000,
          100000000,
          70000000,
          79000000,
          85000000,
          80000000,
          70000000,
          60000000,
          85000000,
          60000000,
          85000000,
          97250400,
          200000000,
          68000000,
          52500000,
          50000000,
          50000000,
          56000000,
          65000000,
          92000000,
          78000000,
          102000000,
          75000000,
          100000000,
          52000000,
          55000000,
          115000000,
          60000000,
          55000000,
          68000000,
          75000000,
          55000000,
          150000000,
          55000000,
          60000000,
          50000000,
          55000000,
          85000000,
          60000000,
          75000000,
          50000000,
          72000000,
          85000000,
          120000000,
          86000000,
          55000000,
          175000000,
          60000000,
          100000000,
          50000000,
          50000000,
          90000000,
          70000000,
          50000000,
          66000000,
          75000000,
          55000000,
          85000000,
          58000000,
          85000000,
          70000000,
          60000000,
          95000000,
          100000000,
          150000000,
          150000000,
          55000000,
          80000000,
          130000000,
          70000000,
          70000000,
          80000000,
          116000000,
          70000000,
          80000000,
          80000000,
          65000000,
          60000000,
          80000000,
          52000000,
          88000000,
          112000000,
          68000000,
          85000000,
          60000000,
          75000000,
          160000000,
          65000000,
          60000000,
          60000000,
          90000000,
          115000000,
          70000000,
          105000000,
          60000000,
          50000000,
          75000000,
          55000000,
          50000000,
          175000000,
          75000000,
          65000000,
          50000000,
          85000000,
          53000000,
          130000000,
          50000000,
          70000000,
          125000000,
          100000000,
          50000000,
          50000000,
          68000000,
          70200000,
          150000000,
          66000000,
          61000000,
          71000000,
          60000000,
          80000000,
          50000000,
          53000000,
          140000000,
          65000000,
          60000000,
          60000000,
          50200000,
          70000000,
          55000000,
          100000000,
          57000000,
          75000000,
          65000000,
          105000000,
          50000000,
          56000000,
          60000000,
          87000000,
          80000000,
          50000000,
          50000000,
          50000000,
          85000000,
          55000000,
          88000000,
          120000000,
          50000000,
          52000000,
          60000000,
          90000000,
          50000000,
          52000000,
          65000000,
          55000000,
          52000000,
          53000000,
          80000000,
          100000000,
          150000000,
          80000000,
          60000000,
          85000000,
          68000000,
          86000000,
          70000000,
          85000000,
          60000000,
          150000000,
          55000000,
          60000000,
          50000000,
          110000000,
          80000000,
          80000000,
          55000000,
          80000000,
          56000000,
          60000000,
          58000000,
          50000000,
          100000000,
          50000000,
          120000000,
          170000000,
          50000000,
          99000000,
          60000000,
          85000000,
          90000000,
          60000000,
          60000000,
          120000000,
          70000000,
          55000000,
          60000000,
          90000000,
          54000000,
          50000000,
          80000000,
          60000000,
          75000000,
          62000000,
          60000000,
          52000000,
          100000000,
          75000000,
          60000000,
          100000000,
          70000000,
          70000000,
          80000000,
          55000000,
          150000000,
          135000000,
          50000000,
          90000000,
          60000000,
          65000000,
          60000000,
          72500000,
          100000000,
          100000000,
          50000000,
          80000000,
          90000000,
          137000000,
          70000000,
          72000000,
          75000000,
          130000000,
          115000000,
          50000000,
          73000000,
          55000000,
          80000000,
          85000000,
          90000000,
          50000000,
          60000000,
          85000000,
          63000000,
          85000000,
          95000000,
          70000000,
          70000000,
          80000000,
          55000000,
          55000000,
          60000000,
          52000000,
          50000000,
          90000000,
          102000000,
          50000000,
          61000000,
          82000000,
          55000000,
          120456666,
          80000000,
          50000000,
          60000000,
          85000000,
          60000000,
          50000000,
          55000000,
          65000000,
          50000000,
          70000000,
          80000000,
          57000000,
          62000000,
          60000000,
          50000000,
          75000000,
          70000000,
          70000000,
          75000000,
          65000000,
          90000000,
          50000000,
          80000000,
          75000000,
          70000000,
          55000000,
          68000000,
          50000000,
          103000000,
          70000000,
          85000000,
          62000000,
          70000000,
          87500000,
          107000000,
          50000000,
          69000000,
          60000000,
          70000000,
          65000000,
          75000000,
          50000000,
          50000000,
          53000000,
          82000000,
          54000000,
          75000000,
          60000000,
          50000000,
          60000000,
          60000000,
          125000000,
          160000000,
          70000000,
          55000000,
          60000000,
          67000000,
          60000000,
          75000000,
          70000000,
          85000000,
          55000000,
          50000000,
          50000000,
          75000000,
          80000000,
          108000000,
          76000000,
          120000000,
          62000000,
          87000000,
          78000000,
          150000000,
          50000000,
          65000000,
          160000000,
          73000000,
          93000000,
          60000000,
          75000000,
          58000000
         ],
         "yaxis": "y"
        }
       ],
       "layout": {
        "legend": {
         "tracegroupgap": 0
        },
        "template": {
         "data": {
          "bar": [
           {
            "error_x": {
             "color": "#2a3f5f"
            },
            "error_y": {
             "color": "#2a3f5f"
            },
            "marker": {
             "line": {
              "color": "#E5ECF6",
              "width": 0.5
             },
             "pattern": {
              "fillmode": "overlay",
              "size": 10,
              "solidity": 0.2
             }
            },
            "type": "bar"
           }
          ],
          "barpolar": [
           {
            "marker": {
             "line": {
              "color": "#E5ECF6",
              "width": 0.5
             },
             "pattern": {
              "fillmode": "overlay",
              "size": 10,
              "solidity": 0.2
             }
            },
            "type": "barpolar"
           }
          ],
          "carpet": [
           {
            "aaxis": {
             "endlinecolor": "#2a3f5f",
             "gridcolor": "white",
             "linecolor": "white",
             "minorgridcolor": "white",
             "startlinecolor": "#2a3f5f"
            },
            "baxis": {
             "endlinecolor": "#2a3f5f",
             "gridcolor": "white",
             "linecolor": "white",
             "minorgridcolor": "white",
             "startlinecolor": "#2a3f5f"
            },
            "type": "carpet"
           }
          ],
          "choropleth": [
           {
            "colorbar": {
             "outlinewidth": 0,
             "ticks": ""
            },
            "type": "choropleth"
           }
          ],
          "contour": [
           {
            "colorbar": {
             "outlinewidth": 0,
             "ticks": ""
            },
            "colorscale": [
             [
              0,
              "#0d0887"
             ],
             [
              0.1111111111111111,
              "#46039f"
             ],
             [
              0.2222222222222222,
              "#7201a8"
             ],
             [
              0.3333333333333333,
              "#9c179e"
             ],
             [
              0.4444444444444444,
              "#bd3786"
             ],
             [
              0.5555555555555556,
              "#d8576b"
             ],
             [
              0.6666666666666666,
              "#ed7953"
             ],
             [
              0.7777777777777778,
              "#fb9f3a"
             ],
             [
              0.8888888888888888,
              "#fdca26"
             ],
             [
              1,
              "#f0f921"
             ]
            ],
            "type": "contour"
           }
          ],
          "contourcarpet": [
           {
            "colorbar": {
             "outlinewidth": 0,
             "ticks": ""
            },
            "type": "contourcarpet"
           }
          ],
          "heatmap": [
           {
            "colorbar": {
             "outlinewidth": 0,
             "ticks": ""
            },
            "colorscale": [
             [
              0,
              "#0d0887"
             ],
             [
              0.1111111111111111,
              "#46039f"
             ],
             [
              0.2222222222222222,
              "#7201a8"
             ],
             [
              0.3333333333333333,
              "#9c179e"
             ],
             [
              0.4444444444444444,
              "#bd3786"
             ],
             [
              0.5555555555555556,
              "#d8576b"
             ],
             [
              0.6666666666666666,
              "#ed7953"
             ],
             [
              0.7777777777777778,
              "#fb9f3a"
             ],
             [
              0.8888888888888888,
              "#fdca26"
             ],
             [
              1,
              "#f0f921"
             ]
            ],
            "type": "heatmap"
           }
          ],
          "heatmapgl": [
           {
            "colorbar": {
             "outlinewidth": 0,
             "ticks": ""
            },
            "colorscale": [
             [
              0,
              "#0d0887"
             ],
             [
              0.1111111111111111,
              "#46039f"
             ],
             [
              0.2222222222222222,
              "#7201a8"
             ],
             [
              0.3333333333333333,
              "#9c179e"
             ],
             [
              0.4444444444444444,
              "#bd3786"
             ],
             [
              0.5555555555555556,
              "#d8576b"
             ],
             [
              0.6666666666666666,
              "#ed7953"
             ],
             [
              0.7777777777777778,
              "#fb9f3a"
             ],
             [
              0.8888888888888888,
              "#fdca26"
             ],
             [
              1,
              "#f0f921"
             ]
            ],
            "type": "heatmapgl"
           }
          ],
          "histogram": [
           {
            "marker": {
             "pattern": {
              "fillmode": "overlay",
              "size": 10,
              "solidity": 0.2
             }
            },
            "type": "histogram"
           }
          ],
          "histogram2d": [
           {
            "colorbar": {
             "outlinewidth": 0,
             "ticks": ""
            },
            "colorscale": [
             [
              0,
              "#0d0887"
             ],
             [
              0.1111111111111111,
              "#46039f"
             ],
             [
              0.2222222222222222,
              "#7201a8"
             ],
             [
              0.3333333333333333,
              "#9c179e"
             ],
             [
              0.4444444444444444,
              "#bd3786"
             ],
             [
              0.5555555555555556,
              "#d8576b"
             ],
             [
              0.6666666666666666,
              "#ed7953"
             ],
             [
              0.7777777777777778,
              "#fb9f3a"
             ],
             [
              0.8888888888888888,
              "#fdca26"
             ],
             [
              1,
              "#f0f921"
             ]
            ],
            "type": "histogram2d"
           }
          ],
          "histogram2dcontour": [
           {
            "colorbar": {
             "outlinewidth": 0,
             "ticks": ""
            },
            "colorscale": [
             [
              0,
              "#0d0887"
             ],
             [
              0.1111111111111111,
              "#46039f"
             ],
             [
              0.2222222222222222,
              "#7201a8"
             ],
             [
              0.3333333333333333,
              "#9c179e"
             ],
             [
              0.4444444444444444,
              "#bd3786"
             ],
             [
              0.5555555555555556,
              "#d8576b"
             ],
             [
              0.6666666666666666,
              "#ed7953"
             ],
             [
              0.7777777777777778,
              "#fb9f3a"
             ],
             [
              0.8888888888888888,
              "#fdca26"
             ],
             [
              1,
              "#f0f921"
             ]
            ],
            "type": "histogram2dcontour"
           }
          ],
          "mesh3d": [
           {
            "colorbar": {
             "outlinewidth": 0,
             "ticks": ""
            },
            "type": "mesh3d"
           }
          ],
          "parcoords": [
           {
            "line": {
             "colorbar": {
              "outlinewidth": 0,
              "ticks": ""
             }
            },
            "type": "parcoords"
           }
          ],
          "pie": [
           {
            "automargin": true,
            "type": "pie"
           }
          ],
          "scatter": [
           {
            "fillpattern": {
             "fillmode": "overlay",
             "size": 10,
             "solidity": 0.2
            },
            "type": "scatter"
           }
          ],
          "scatter3d": [
           {
            "line": {
             "colorbar": {
              "outlinewidth": 0,
              "ticks": ""
             }
            },
            "marker": {
             "colorbar": {
              "outlinewidth": 0,
              "ticks": ""
             }
            },
            "type": "scatter3d"
           }
          ],
          "scattercarpet": [
           {
            "marker": {
             "colorbar": {
              "outlinewidth": 0,
              "ticks": ""
             }
            },
            "type": "scattercarpet"
           }
          ],
          "scattergeo": [
           {
            "marker": {
             "colorbar": {
              "outlinewidth": 0,
              "ticks": ""
             }
            },
            "type": "scattergeo"
           }
          ],
          "scattergl": [
           {
            "marker": {
             "colorbar": {
              "outlinewidth": 0,
              "ticks": ""
             }
            },
            "type": "scattergl"
           }
          ],
          "scattermapbox": [
           {
            "marker": {
             "colorbar": {
              "outlinewidth": 0,
              "ticks": ""
             }
            },
            "type": "scattermapbox"
           }
          ],
          "scatterpolar": [
           {
            "marker": {
             "colorbar": {
              "outlinewidth": 0,
              "ticks": ""
             }
            },
            "type": "scatterpolar"
           }
          ],
          "scatterpolargl": [
           {
            "marker": {
             "colorbar": {
              "outlinewidth": 0,
              "ticks": ""
             }
            },
            "type": "scatterpolargl"
           }
          ],
          "scatterternary": [
           {
            "marker": {
             "colorbar": {
              "outlinewidth": 0,
              "ticks": ""
             }
            },
            "type": "scatterternary"
           }
          ],
          "surface": [
           {
            "colorbar": {
             "outlinewidth": 0,
             "ticks": ""
            },
            "colorscale": [
             [
              0,
              "#0d0887"
             ],
             [
              0.1111111111111111,
              "#46039f"
             ],
             [
              0.2222222222222222,
              "#7201a8"
             ],
             [
              0.3333333333333333,
              "#9c179e"
             ],
             [
              0.4444444444444444,
              "#bd3786"
             ],
             [
              0.5555555555555556,
              "#d8576b"
             ],
             [
              0.6666666666666666,
              "#ed7953"
             ],
             [
              0.7777777777777778,
              "#fb9f3a"
             ],
             [
              0.8888888888888888,
              "#fdca26"
             ],
             [
              1,
              "#f0f921"
             ]
            ],
            "type": "surface"
           }
          ],
          "table": [
           {
            "cells": {
             "fill": {
              "color": "#EBF0F8"
             },
             "line": {
              "color": "white"
             }
            },
            "header": {
             "fill": {
              "color": "#C8D4E3"
             },
             "line": {
              "color": "white"
             }
            },
            "type": "table"
           }
          ]
         },
         "layout": {
          "annotationdefaults": {
           "arrowcolor": "#2a3f5f",
           "arrowhead": 0,
           "arrowwidth": 1
          },
          "autotypenumbers": "strict",
          "coloraxis": {
           "colorbar": {
            "outlinewidth": 0,
            "ticks": ""
           }
          },
          "colorscale": {
           "diverging": [
            [
             0,
             "#8e0152"
            ],
            [
             0.1,
             "#c51b7d"
            ],
            [
             0.2,
             "#de77ae"
            ],
            [
             0.3,
             "#f1b6da"
            ],
            [
             0.4,
             "#fde0ef"
            ],
            [
             0.5,
             "#f7f7f7"
            ],
            [
             0.6,
             "#e6f5d0"
            ],
            [
             0.7,
             "#b8e186"
            ],
            [
             0.8,
             "#7fbc41"
            ],
            [
             0.9,
             "#4d9221"
            ],
            [
             1,
             "#276419"
            ]
           ],
           "sequential": [
            [
             0,
             "#0d0887"
            ],
            [
             0.1111111111111111,
             "#46039f"
            ],
            [
             0.2222222222222222,
             "#7201a8"
            ],
            [
             0.3333333333333333,
             "#9c179e"
            ],
            [
             0.4444444444444444,
             "#bd3786"
            ],
            [
             0.5555555555555556,
             "#d8576b"
            ],
            [
             0.6666666666666666,
             "#ed7953"
            ],
            [
             0.7777777777777778,
             "#fb9f3a"
            ],
            [
             0.8888888888888888,
             "#fdca26"
            ],
            [
             1,
             "#f0f921"
            ]
           ],
           "sequentialminus": [
            [
             0,
             "#0d0887"
            ],
            [
             0.1111111111111111,
             "#46039f"
            ],
            [
             0.2222222222222222,
             "#7201a8"
            ],
            [
             0.3333333333333333,
             "#9c179e"
            ],
            [
             0.4444444444444444,
             "#bd3786"
            ],
            [
             0.5555555555555556,
             "#d8576b"
            ],
            [
             0.6666666666666666,
             "#ed7953"
            ],
            [
             0.7777777777777778,
             "#fb9f3a"
            ],
            [
             0.8888888888888888,
             "#fdca26"
            ],
            [
             1,
             "#f0f921"
            ]
           ]
          },
          "colorway": [
           "#636efa",
           "#EF553B",
           "#00cc96",
           "#ab63fa",
           "#FFA15A",
           "#19d3f3",
           "#FF6692",
           "#B6E880",
           "#FF97FF",
           "#FECB52"
          ],
          "font": {
           "color": "#2a3f5f"
          },
          "geo": {
           "bgcolor": "white",
           "lakecolor": "white",
           "landcolor": "#E5ECF6",
           "showlakes": true,
           "showland": true,
           "subunitcolor": "white"
          },
          "hoverlabel": {
           "align": "left"
          },
          "hovermode": "closest",
          "mapbox": {
           "style": "light"
          },
          "paper_bgcolor": "white",
          "plot_bgcolor": "#E5ECF6",
          "polar": {
           "angularaxis": {
            "gridcolor": "white",
            "linecolor": "white",
            "ticks": ""
           },
           "bgcolor": "#E5ECF6",
           "radialaxis": {
            "gridcolor": "white",
            "linecolor": "white",
            "ticks": ""
           }
          },
          "scene": {
           "xaxis": {
            "backgroundcolor": "#E5ECF6",
            "gridcolor": "white",
            "gridwidth": 2,
            "linecolor": "white",
            "showbackground": true,
            "ticks": "",
            "zerolinecolor": "white"
           },
           "yaxis": {
            "backgroundcolor": "#E5ECF6",
            "gridcolor": "white",
            "gridwidth": 2,
            "linecolor": "white",
            "showbackground": true,
            "ticks": "",
            "zerolinecolor": "white"
           },
           "zaxis": {
            "backgroundcolor": "#E5ECF6",
            "gridcolor": "white",
            "gridwidth": 2,
            "linecolor": "white",
            "showbackground": true,
            "ticks": "",
            "zerolinecolor": "white"
           }
          },
          "shapedefaults": {
           "line": {
            "color": "#2a3f5f"
           }
          },
          "ternary": {
           "aaxis": {
            "gridcolor": "white",
            "linecolor": "white",
            "ticks": ""
           },
           "baxis": {
            "gridcolor": "white",
            "linecolor": "white",
            "ticks": ""
           },
           "bgcolor": "#E5ECF6",
           "caxis": {
            "gridcolor": "white",
            "linecolor": "white",
            "ticks": ""
           }
          },
          "title": {
           "x": 0.05
          },
          "xaxis": {
           "automargin": true,
           "gridcolor": "white",
           "linecolor": "white",
           "ticks": "",
           "title": {
            "standoff": 15
           },
           "zerolinecolor": "white",
           "zerolinewidth": 2
          },
          "yaxis": {
           "automargin": true,
           "gridcolor": "white",
           "linecolor": "white",
           "ticks": "",
           "title": {
            "standoff": 15
           },
           "zerolinecolor": "white",
           "zerolinewidth": 2
          }
         }
        },
        "title": {
         "text": "Correlation between Popularity and Budget"
        },
        "xaxis": {
         "anchor": "y",
         "domain": [
          0,
          1
         ],
         "title": {
          "text": "Popularity"
         }
        },
        "yaxis": {
         "anchor": "x",
         "domain": [
          0,
          1
         ],
         "title": {
          "text": "Budget"
         }
        }
       }
      }
     },
     "metadata": {},
     "output_type": "display_data"
    }
   ],
   "source": [
    "# Create a scatter plot to visualize the correlation between popularity and budget with tooltips\n",
    "fig = px.scatter(pdf, x='popularity', y='budget', hover_data=['title'], title='Correlation between Popularity and Budget')\n",
    "fig.update_layout(xaxis_title='Popularity', yaxis_title='Budget')\n",
    "fig.show()\n"
   ]
  },
  {
   "cell_type": "code",
   "execution_count": 10,
   "metadata": {},
   "outputs": [
    {
     "data": {
      "application/vnd.plotly.v1+json": {
       "config": {
        "plotlyServerURL": "https://plot.ly"
       },
       "data": [
        {
         "customdata": [
          [
           "Meg 2: The Trench"
          ],
          [
           "Transformers: Rise of the Beasts"
          ],
          [
           "Ant-Man and the Wasp: Quantumania"
          ],
          [
           "Creed III"
          ],
          [
           "Fast X"
          ],
          [
           "Barbie"
          ],
          [
           "The Flash"
          ],
          [
           "Spider-Man: Across the Spider-Verse"
          ],
          [
           "Shazam! Fury of the Gods"
          ],
          [
           "Guardians of the Galaxy Vol. 3"
          ],
          [
           "Puss in Boots: The Last Wish"
          ],
          [
           "John Wick: Chapter 4"
          ],
          [
           "The Super Mario Bros. Movie"
          ],
          [
           "Oppenheimer"
          ],
          [
           "Guardians of the Galaxy Vol. 2"
          ],
          [
           "The Woman King"
          ],
          [
           "Thor: Love and Thunder"
          ],
          [
           "F9"
          ],
          [
           "Creed II"
          ],
          [
           "Jurassic World Dominion"
          ],
          [
           "Black Panther: Wakanda Forever"
          ],
          [
           "Bullet Train"
          ],
          [
           "Avatar: The Way of Water"
          ],
          [
           "Sonic the Hedgehog 2"
          ],
          [
           "Top Gun: Maverick"
          ],
          [
           "Avatar"
          ],
          [
           "Encanto"
          ],
          [
           "Minions: The Rise of Gru"
          ],
          [
           "Prey"
          ],
          [
           "Black Adam"
          ],
          [
           "Turning Red"
          ],
          [
           "Doctor Strange in the Multiverse of Madness"
          ],
          [
           "Venom: Let There Be Carnage"
          ],
          [
           "Guardians of the Galaxy"
          ],
          [
           "DC League of Super-Pets"
          ],
          [
           "Spider-Man: No Way Home"
          ],
          [
           "Shrek"
          ],
          [
           "Avengers: Endgame"
          ],
          [
           "Transformers: Age of Extinction"
          ],
          [
           "Sing 2"
          ],
          [
           "Fantastic Beasts: The Secrets of Dumbledore"
          ],
          [
           "Avengers: Infinity War"
          ],
          [
           "Fifty Shades Freed"
          ],
          [
           "Meet the Robinsons"
          ],
          [
           "Titanic"
          ],
          [
           "The Batman"
          ],
          [
           "Morbius"
          ],
          [
           "The Lost City"
          ],
          [
           "Shrek 2"
          ],
          [
           "Shang-Chi and the Legend of the Ten Rings"
          ],
          [
           "Interstellar"
          ],
          [
           "Uncharted"
          ],
          [
           "A Good Day to Die Hard"
          ],
          [
           "Coco"
          ],
          [
           "The Suicide Squad"
          ],
          [
           "Samaritan"
          ],
          [
           "The Northman"
          ],
          [
           "Dungeons & Dragons: Honor Among Thieves"
          ],
          [
           "Shrek Forever After"
          ],
          [
           "Pirates of the Caribbean: At World's End"
          ],
          [
           "Pirates of the Caribbean: On Stranger Tides"
          ],
          [
           "The Emperor's New Groove"
          ],
          [
           "The Truman Show"
          ],
          [
           "Transformers: The Last Knight"
          ],
          [
           "Luca"
          ],
          [
           "The Lion King"
          ],
          [
           "Blade Runner 2049"
          ],
          [
           "Fast & Furious Presents: Hobbs & Shaw"
          ],
          [
           "Puss in Boots"
          ],
          [
           "Pirates of the Caribbean: The Curse of the Black Pearl"
          ],
          [
           "Ratatouille"
          ],
          [
           "Furious 7"
          ],
          [
           "The Matrix Resurrections"
          ],
          [
           "The Amazing Spider-Man 2"
          ],
          [
           "Ant-Man"
          ],
          [
           "The Bad Guys"
          ],
          [
           "Spider-Man: Homecoming"
          ],
          [
           "Iron Man"
          ],
          [
           "Prometheus"
          ],
          [
           "The Wolf of Wall Street"
          ],
          [
           "The Lord of the Rings: The Fellowship of the Ring"
          ],
          [
           "Thor: The Dark World"
          ],
          [
           "Air"
          ],
          [
           "Frozen II"
          ],
          [
           "Fury"
          ],
          [
           "Zootopia"
          ],
          [
           "Real Steel"
          ],
          [
           "The Fate of the Furious"
          ],
          [
           "Cruella"
          ],
          [
           "Raya and the Last Dragon"
          ],
          [
           "Ice Age"
          ],
          [
           "The Princess and the Frog"
          ],
          [
           "Iron Man 2"
          ],
          [
           "Spider-Man: Into the Spider-Verse"
          ],
          [
           "Eternals"
          ],
          [
           "Space Jam: A New Legacy"
          ],
          [
           "Dune"
          ],
          [
           "Cars 3"
          ],
          [
           "Red Notice"
          ],
          [
           "Clifford the Big Red Dog"
          ],
          [
           "Monsters, Inc."
          ],
          [
           "Doctor Strange"
          ],
          [
           "Jurassic World"
          ],
          [
           "The Dark Knight"
          ],
          [
           "Thor"
          ],
          [
           "The Amazing Spider-Man"
          ],
          [
           "Shrek the Third"
          ],
          [
           "Maleficent: Mistress of Evil"
          ],
          [
           "Thor: Ragnarok"
          ],
          [
           "A Man Called Otto"
          ],
          [
           "The Avengers"
          ],
          [
           "Terminator Genisys"
          ],
          [
           "Spider-Man: Far From Home"
          ],
          [
           "Coraline"
          ],
          [
           "Soul"
          ],
          [
           "Charlie and the Chocolate Factory"
          ],
          [
           "Jurassic World: Fallen Kingdom"
          ],
          [
           "Big Hero 6"
          ],
          [
           "Frozen"
          ],
          [
           "The Gray Man"
          ],
          [
           "Deadpool"
          ],
          [
           "Pacific Rim"
          ],
          [
           "Toy Story 2"
          ],
          [
           "Pirates of the Caribbean: Dead Man's Chest"
          ],
          [
           "Cars 2"
          ],
          [
           "Teenage Mutant Ninja Turtles"
          ],
          [
           "The Hobbit: The Battle of the Five Armies"
          ],
          [
           "The Tomorrow War"
          ],
          [
           "Spider-Man"
          ],
          [
           "The Adam Project"
          ],
          [
           "Fifty Shades Darker"
          ],
          [
           "The Equalizer"
          ],
          [
           "Up"
          ],
          [
           "The Croods: A New Age"
          ],
          [
           "How to Train Your Dragon: The Hidden World"
          ],
          [
           "Joker"
          ],
          [
           "American Sniper"
          ],
          [
           "Mission: Impossible - Fallout"
          ],
          [
           "No Time to Die"
          ],
          [
           "Wonder Woman 1984"
          ],
          [
           "Wreck-It Ralph"
          ],
          [
           "Lightyear"
          ],
          [
           "Deadpool 2"
          ],
          [
           "Free Guy"
          ],
          [
           "Ted 2"
          ],
          [
           "Aquaman"
          ],
          [
           "Avengers: Age of Ultron"
          ],
          [
           "Inside Out"
          ],
          [
           "Saving Private Ryan"
          ],
          [
           "Hercules"
          ],
          [
           "World War Z"
          ],
          [
           "Kung Fu Panda"
          ],
          [
           "Pirates of the Caribbean: Dead Men Tell No Tales"
          ],
          [
           "Babylon"
          ],
          [
           "Zack Snyder's Justice League"
          ],
          [
           "Moonfall"
          ],
          [
           "The Mummy"
          ],
          [
           "Tangled"
          ],
          [
           "It Chapter Two"
          ],
          [
           "San Andreas"
          ],
          [
           "John Wick: Chapter 3 - Parabellum"
          ],
          [
           "Nope"
          ],
          [
           "Rambo: Last Blood"
          ],
          [
           "Black Widow"
          ],
          [
           "Batman v Superman: Dawn of Justice"
          ],
          [
           "The Lord of the Rings: The Return of the King"
          ],
          [
           "The Hobbit: An Unexpected Journey"
          ],
          [
           "Sonic the Hedgehog"
          ],
          [
           "Scooby-Doo"
          ],
          [
           "Fight Club"
          ],
          [
           "How to Train Your Dragon 2"
          ],
          [
           "Sing"
          ],
          [
           "Kingsman: The Secret Service"
          ],
          [
           "xXx: Return of Xander Cage"
          ],
          [
           "Godzilla vs. Kong"
          ],
          [
           "Captain America: Civil War"
          ],
          [
           "Penguins of Madagascar"
          ],
          [
           "Inception"
          ],
          [
           "The SpongeBob Movie: Sponge on the Run"
          ],
          [
           "Bad Boys for Life"
          ],
          [
           "Grown Ups"
          ],
          [
           "Rambo"
          ],
          [
           "The Green Mile"
          ],
          [
           "The Call of the Wild"
          ],
          [
           "Pixels"
          ],
          [
           "The Dark Knight Rises"
          ],
          [
           "I Am Legend"
          ],
          [
           "Kung Fu Panda 3"
          ],
          [
           "Maleficent"
          ],
          [
           "Journey 2: The Mysterious Island"
          ],
          [
           "Madagascar"
          ],
          [
           "Spider-Man 3"
          ],
          [
           "Tears of the Sun"
          ],
          [
           "Exodus: Gods and Kings"
          ],
          [
           "Pacific Rim: Uprising"
          ],
          [
           "Cinderella"
          ],
          [
           "Birds of Prey (and the Fantabulous Emancipation of One Harley Quinn)"
          ],
          [
           "A Bug's Life"
          ],
          [
           "The Lord of the Rings: The Two Towers"
          ],
          [
           "Kung Fu Panda 2"
          ],
          [
           "Extraction"
          ],
          [
           "Finding Nemo"
          ],
          [
           "Terminator 2: Judgment Day"
          ],
          [
           "Fantastic Beasts and Where to Find Them"
          ],
          [
           "The King's Man"
          ],
          [
           "How to Train Your Dragon"
          ],
          [
           "Kingsman: The Golden Circle"
          ],
          [
           "2012"
          ],
          [
           "Justice League"
          ],
          [
           "Kong: Skull Island"
          ],
          [
           "Monster Hunter"
          ],
          [
           "Cars"
          ],
          [
           "The Simpsons Movie"
          ],
          [
           "Spirit: Stallion of the Cimarron"
          ],
          [
           "Grown Ups 2"
          ],
          [
           "Madagascar 3: Europe's Most Wanted"
          ],
          [
           "The Hangover Part III"
          ],
          [
           "Star Wars: The Last Jedi"
          ],
          [
           "Mulan"
          ],
          [
           "Man of Steel"
          ],
          [
           "Toy Story 3"
          ],
          [
           "Toy Story 4"
          ],
          [
           "Logan"
          ],
          [
           "Rampage"
          ],
          [
           "Jungle Cruise"
          ],
          [
           "Catch Me If You Can"
          ],
          [
           "The Godfather Part III"
          ],
          [
           "Jumanji: The Next Level"
          ],
          [
           "Venom"
          ],
          [
           "John Carter"
          ],
          [
           "Django Unchained"
          ],
          [
           "Tarzan"
          ],
          [
           "The Hangover Part II"
          ],
          [
           "Brave"
          ],
          [
           "The Matrix"
          ],
          [
           "Heat"
          ],
          [
           "Alien: Covenant"
          ],
          [
           "Inglourious Basterds"
          ],
          [
           "The Croods"
          ],
          [
           "The Mummy Returns"
          ],
          [
           "The Incredibles"
          ],
          [
           "Mission: Impossible - Rogue Nation"
          ],
          [
           "Just Go with It"
          ],
          [
           "Mission: Impossible III"
          ],
          [
           "Madagascar: Escape 2 Africa"
          ],
          [
           "The Hobbit: The Desolation of Smaug"
          ],
          [
           "Despicable Me"
          ],
          [
           "Rio"
          ],
          [
           "Ralph Breaks the Internet"
          ],
          [
           "Abraham Lincoln: Vampire Hunter"
          ],
          [
           "Wonder Woman"
          ],
          [
           "Ted"
          ],
          [
           "The Adventures of Sharkboy and Lavagirl"
          ],
          [
           "The Secret Life of Pets 2"
          ],
          [
           "Star Wars: The Force Awakens"
          ],
          [
           "Rise of the Planet of the Apes"
          ],
          [
           "Gone Girl"
          ],
          [
           "Ice Age: Continental Drift"
          ],
          [
           "Snake Eyes: G.I. Joe Origins"
          ],
          [
           "Ghostbusters: Afterlife"
          ],
          [
           "Incredibles 2"
          ],
          [
           "Tom & Jerry"
          ],
          [
           "Constantine"
          ],
          [
           "Brother Bear"
          ],
          [
           "Monsters University"
          ],
          [
           "WALL·E"
          ],
          [
           "Godzilla: King of the Monsters"
          ],
          [
           "Black Hawk Down"
          ],
          [
           "Green Lantern"
          ],
          [
           "The Incredible Hulk"
          ],
          [
           "Clash of the Titans"
          ],
          [
           "Ice Age: The Meltdown"
          ],
          [
           "13 Hours: The Secret Soldiers of Benghazi"
          ],
          [
           "Hancock"
          ],
          [
           "Rio 2"
          ],
          [
           "Ghost Rider: Spirit of Vengeance"
          ],
          [
           "Hansel & Gretel: Witch Hunters"
          ],
          [
           "The Meg"
          ],
          [
           "Ice Age: Dawn of the Dinosaurs"
          ],
          [
           "Bridge to Terabithia"
          ],
          [
           "Lilo & Stitch"
          ],
          [
           "Captain Marvel"
          ],
          [
           "Tenet"
          ],
          [
           "Beauty and the Beast"
          ],
          [
           "Teenage Mutant Ninja Turtles: Out of the Shadows"
          ],
          [
           "Black Panther"
          ],
          [
           "Mad Max: Fury Road"
          ],
          [
           "Rango"
          ],
          [
           "Terminator Salvation"
          ],
          [
           "The Expendables"
          ],
          [
           "Dawn of the Planet of the Apes"
          ],
          [
           "Rush Hour 3"
          ],
          [
           "300: Rise of an Empire"
          ],
          [
           "Ghost Rider"
          ],
          [
           "Prince of Persia: The Sands of Time"
          ],
          [
           "Gladiator"
          ],
          [
           "The Expendables 3"
          ],
          [
           "The Good Dinosaur"
          ],
          [
           "Alita: Battle Angel"
          ],
          [
           "That's My Boy"
          ],
          [
           "Megamind"
          ],
          [
           "Battle: Los Angeles"
          ],
          [
           "Now You See Me"
          ],
          [
           "Star Wars: The Rise of Skywalker"
          ],
          [
           "Batman Begins"
          ],
          [
           "Jack Reacher"
          ],
          [
           "The Pursuit of Happyness"
          ],
          [
           "The Fifth Element"
          ],
          [
           "Shooter"
          ],
          [
           "Scott Pilgrim vs. the World"
          ],
          [
           "300"
          ],
          [
           "Meet Joe Black"
          ],
          [
           "Hotel Transylvania 3: Summer Vacation"
          ],
          [
           "Happy Feet"
          ],
          [
           "How the Grinch Stole Christmas"
          ],
          [
           "The Patriot"
          ],
          [
           "Terminator: Dark Fate"
          ],
          [
           "The Hunchback of Notre Dame"
          ],
          [
           "X-Men: Days of Future Past"
          ],
          [
           "Iron Man 3"
          ],
          [
           "Perfume: The Story of a Murderer"
          ],
          [
           "Fantastic Beasts: The Crimes of Grindelwald"
          ],
          [
           "Bolt"
          ],
          [
           "The Cat in the Hat"
          ],
          [
           "Power Rangers"
          ],
          [
           "American Reunion"
          ],
          [
           "Underworld: Awakening"
          ],
          [
           "Dark Phoenix"
          ],
          [
           "Ant-Man and the Wasp"
          ],
          [
           "Suicide Squad"
          ],
          [
           "The Book of Life"
          ],
          [
           "The Wolfman"
          ],
          [
           "Rise of the Guardians"
          ],
          [
           "Captain America: The First Avenger"
          ],
          [
           "Garfield"
          ],
          [
           "The Predator"
          ],
          [
           "The Mummy: Tomb of the Dragon Emperor"
          ],
          [
           "Trolls"
          ],
          [
           "Superman"
          ],
          [
           "Don't Look Up"
          ],
          [
           "Jupiter Ascending"
          ],
          [
           "Alpha"
          ],
          [
           "Aladdin"
          ],
          [
           "Mission: Impossible"
          ],
          [
           "G.I. Joe: The Rise of Cobra"
          ],
          [
           "X-Men: Apocalypse"
          ],
          [
           "White House Down"
          ],
          [
           "Shutter Island"
          ],
          [
           "6 Underground"
          ],
          [
           "The Martian"
          ],
          [
           "Need for Speed"
          ],
          [
           "Warcraft"
          ],
          [
           "Godzilla"
          ],
          [
           "Elvis"
          ],
          [
           "Godzilla"
          ],
          [
           "Baywatch"
          ],
          [
           "Hercules"
          ],
          [
           "King Richard"
          ],
          [
           "Angels & Demons"
          ],
          [
           "Chicken Little"
          ],
          [
           "Die Hard: With a Vengeance"
          ],
          [
           "Hellboy"
          ],
          [
           "Ford v Ferrari"
          ],
          [
           "The Last Airbender"
          ],
          [
           "Shark Tale"
          ],
          [
           "Onward"
          ],
          [
           "Battleship"
          ],
          [
           "Van Helsing"
          ],
          [
           "Edge of Tomorrow"
          ],
          [
           "The Magnificent Seven"
          ],
          [
           "Ferdinand"
          ],
          [
           "A Quiet Place Part II"
          ],
          [
           "Skyfall"
          ],
          [
           "Tomorrowland"
          ],
          [
           "Pocahontas"
          ],
          [
           "Armageddon"
          ],
          [
           "Enchanted"
          ],
          [
           "Tomb Raider"
          ],
          [
           "Fantastic Four"
          ],
          [
           "Home on the Range"
          ],
          [
           "Finding Dory"
          ],
          [
           "Dinosaur"
          ],
          [
           "King Kong"
          ],
          [
           "Valerian and the City of a Thousand Planets"
          ],
          [
           "Despicable Me 2"
          ],
          [
           "The Curious Case of Benjamin Button"
          ],
          [
           "Solo: A Star Wars Story"
          ],
          [
           "Gods of Egypt"
          ],
          [
           "Casino Royale"
          ],
          [
           "Rogue One: A Star Wars Story"
          ],
          [
           "Men in Black"
          ],
          [
           "Night at the Museum: Secret of the Tomb"
          ],
          [
           "Hulk"
          ],
          [
           "Alice Through the Looking Glass"
          ],
          [
           "The Grinch"
          ],
          [
           "Knowing"
          ],
          [
           "The Lorax"
          ],
          [
           "Wrath of the Titans"
          ],
          [
           "War for the Planet of the Apes"
          ],
          [
           "Jack the Giant Slayer"
          ],
          [
           "The SpongeBob Movie: Sponge Out of Water"
          ],
          [
           "Jack Reacher: Never Go Back"
          ],
          [
           "The Angry Birds Movie"
          ],
          [
           "Hotel Transylvania 2"
          ],
          [
           "The Book of Eli"
          ],
          [
           "Anastasia"
          ],
          [
           "The Legend of Tarzan"
          ],
          [
           "Alvin and the Chipmunks"
          ],
          [
           "The Prince of Egypt"
          ],
          [
           "Treasure Planet"
          ],
          [
           "The Road to El Dorado"
          ],
          [
           "Star Trek"
          ],
          [
           "Nightmare Alley"
          ],
          [
           "The Polar Express"
          ],
          [
           "Casper"
          ],
          [
           "Olympus Has Fallen"
          ],
          [
           "Cloudy with a Chance of Meatballs 2"
          ],
          [
           "Oblivion"
          ],
          [
           "The Expendables 2"
          ],
          [
           "Pokémon Detective Pikachu"
          ],
          [
           "Conan the Barbarian"
          ],
          [
           "The Last Witch Hunter"
          ],
          [
           "Murder on the Orient Express"
          ],
          [
           "Bruce Almighty"
          ],
          [
           "Planet of the Apes"
          ],
          [
           "Hitman's Wife's Bodyguard"
          ],
          [
           "Bumblebee"
          ],
          [
           "Independence Day"
          ],
          [
           "The Great Gatsby"
          ],
          [
           "Star Trek Into Darkness"
          ],
          [
           "The Matrix Reloaded"
          ],
          [
           "Asterix & Obelix: Mission Cleopatra"
          ],
          [
           "The A-Team"
          ],
          [
           "The Emoji Movie"
          ],
          [
           "The Longest Yard"
          ],
          [
           "Focus"
          ],
          [
           "The Mask of Zorro"
          ],
          [
           "War of the Worlds"
          ],
          [
           "Star Wars: Episode II - Attack of the Clones"
          ],
          [
           "Scoob!"
          ],
          [
           "Zodiac"
          ],
          [
           "Indiana Jones and the Kingdom of the Crystal Skull"
          ],
          [
           "Home"
          ],
          [
           "xXx"
          ],
          [
           "Dolittle"
          ],
          [
           "Little Man"
          ],
          [
           "Ocean's Eleven"
          ],
          [
           "Stuart Little"
          ],
          [
           "The Day the Earth Stood Still"
          ],
          [
           "Independence Day: Resurgence"
          ],
          [
           "Ice Age: Collision Course"
          ],
          [
           "King Arthur: Legend of the Sword"
          ],
          [
           "Star Wars: Episode III - Revenge of the Sith"
          ],
          [
           "True Lies"
          ],
          [
           "Peter Pan"
          ],
          [
           "The Matrix Revolutions"
          ],
          [
           "Kubo and the Two Strings"
          ],
          [
           "1917"
          ],
          [
           "Annie"
          ],
          [
           "Geostorm"
          ],
          [
           "Death on the Nile"
          ],
          [
           "The Iron Giant"
          ],
          [
           "TRON: Legacy"
          ],
          [
           "The Greatest Showman"
          ],
          [
           "Watchmen"
          ],
          [
           "Sin City: A Dame to Kill For"
          ],
          [
           "V for Vendetta"
          ],
          [
           "50 First Dates"
          ],
          [
           "Ocean's Eight"
          ],
          [
           "Deep Impact"
          ],
          [
           "Alvin and the Chipmunks: Chipwrecked"
          ],
          [
           "Captain America: The Winter Soldier"
          ],
          [
           "Alvin and the Chipmunks: The Squeakquel"
          ],
          [
           "The Smurfs"
          ],
          [
           "Batman Forever"
          ],
          [
           "National Treasure"
          ],
          [
           "Hotel Transylvania"
          ],
          [
           "Star Wars: Episode I - The Phantom Menace"
          ],
          [
           "Sully"
          ],
          [
           "Once Upon a Time… in Hollywood"
          ],
          [
           "Escape Plan"
          ],
          [
           "Snow White and the Huntsman"
          ],
          [
           "Goosebumps"
          ],
          [
           "The Mummy"
          ],
          [
           "The Jungle Book"
          ],
          [
           "Blade II"
          ],
          [
           "Men in Black II"
          ],
          [
           "Trolls World Tour"
          ],
          [
           "The Mitchells vs. the Machines"
          ],
          [
           "Bee Movie"
          ],
          [
           "Fantastic Four"
          ],
          [
           "Cowboys & Aliens"
          ],
          [
           "London Has Fallen"
          ],
          [
           "The Great Wall"
          ],
          [
           "Inkheart"
          ],
          [
           "Night at the Museum"
          ],
          [
           "What Women Want"
          ],
          [
           "Monster House"
          ],
          [
           "Me, Myself & Irene"
          ],
          [
           "Signs"
          ],
          [
           "Zathura: A Space Adventure"
          ],
          [
           "Batman Returns"
          ],
          [
           "2 Guns"
          ],
          [
           "Storks"
          ],
          [
           "Ghost in the Shell"
          ],
          [
           "The Day After Tomorrow"
          ],
          [
           "The Last Samurai"
          ],
          [
           "Silent Hill"
          ],
          [
           "R.I.P.D."
          ],
          [
           "American Gangster"
          ],
          [
           "Starship Troopers"
          ],
          [
           "The Departed"
          ],
          [
           "The Ring Two"
          ],
          [
           "Central Intelligence"
          ],
          [
           "Flushed Away"
          ],
          [
           "Red Dawn"
          ],
          [
           "Ghostbusters"
          ],
          [
           "Despicable Me 3"
          ],
          [
           "Man on Fire"
          ],
          [
           "Men in Black 3"
          ],
          [
           "Underworld: Evolution"
          ],
          [
           "Everest"
          ],
          [
           "Herbie Fully Loaded"
          ],
          [
           "Superman II"
          ],
          [
           "Star Trek Beyond"
          ],
          [
           "Fantastic Four: Rise of the Silver Surfer"
          ],
          [
           "Rambo III"
          ],
          [
           "Knight and Day"
          ],
          [
           "Men in Black: International"
          ],
          [
           "Point Break"
          ],
          [
           "Mr. & Mrs. Smith"
          ],
          [
           "The 13th Warrior"
          ],
          [
           "Pearl Harbor"
          ],
          [
           "Big Fish"
          ],
          [
           "A.I. Artificial Intelligence"
          ],
          [
           "The Adventures of Tintin"
          ],
          [
           "Due Date"
          ],
          [
           "The Rock"
          ],
          [
           "Sinbad: Legend of the Seven Seas"
          ],
          [
           "Nutty Professor II: The Klumps"
          ],
          [
           "Cloudy with a Chance of Meatballs"
          ],
          [
           "The BFG"
          ],
          [
           "The Devil's Advocate"
          ],
          [
           "Mamma Mia!"
          ],
          [
           "Quantum of Solace"
          ],
          [
           "Life of Pi"
          ],
          [
           "Hellboy"
          ],
          [
           "RED"
          ],
          [
           "Gemini Man"
          ],
          [
           "Charlie's Angels: Full Throttle"
          ],
          [
           "Elysium"
          ],
          [
           "Sherlock Holmes: A Game of Shadows"
          ],
          [
           "Evolution"
          ],
          [
           "Smurfs: The Lost Village"
          ],
          [
           "The Lego Batman Movie"
          ],
          [
           "The Da Vinci Code"
          ],
          [
           "Immortals"
          ],
          [
           "Salt"
          ],
          [
           "A Beautiful Mind"
          ],
          [
           "Amsterdam"
          ],
          [
           "Charlie's Angels"
          ],
          [
           "Die Hard 2"
          ],
          [
           "Midway"
          ],
          [
           "The Old Guard"
          ],
          [
           "Mr. Peabody & Sherman"
          ],
          [
           "Sherlock Holmes"
          ],
          [
           "The Tuxedo"
          ],
          [
           "You Don't Mess with the Zohan"
          ],
          [
           "Fool's Gold"
          ],
          [
           "Enemy at the Gates"
          ],
          [
           "Spectre"
          ],
          [
           "Greyhound"
          ],
          [
           "Robin Hood"
          ],
          [
           "Total Recall"
          ],
          [
           "AVP: Alien vs. Predator"
          ],
          [
           "Poseidon"
          ],
          [
           "The Dictator"
          ],
          [
           "Kingdom of Heaven"
          ],
          [
           "Austin Powers in Goldmember"
          ],
          [
           "Hellboy II: The Golden Army"
          ],
          [
           "Minions"
          ],
          [
           "The World Is Not Enough"
          ],
          [
           "Sleepy Hollow"
          ],
          [
           "Lara Croft: Tomb Raider - The Cradle of Life"
          ],
          [
           "Night at the Museum: Battle of the Smithsonian"
          ],
          [
           "Tropic Thunder"
          ],
          [
           "Batman & Robin"
          ],
          [
           "Antz"
          ],
          [
           "Interview with the Vampire"
          ],
          [
           "Blood Diamond"
          ],
          [
           "American Made"
          ],
          [
           "The Pacifier"
          ],
          [
           "I, Robot"
          ],
          [
           "Daredevil"
          ],
          [
           "Gone in Sixty Seconds"
          ],
          [
           "Assassin's Creed"
          ],
          [
           "The Nutcracker and the Four Realms"
          ],
          [
           "Robots"
          ],
          [
           "Monsters vs Aliens"
          ],
          [
           "Now You See Me 2"
          ],
          [
           "Over the Hedge"
          ],
          [
           "The Angry Birds Movie 2"
          ],
          [
           "Total Recall"
          ],
          [
           "Abominable"
          ],
          [
           "Where the Wild Things Are"
          ],
          [
           "The Bourne Legacy"
          ],
          [
           "Blade: Trinity"
          ],
          [
           "The Ridiculous 6"
          ],
          [
           "The Other Guys"
          ],
          [
           "Crazy, Stupid, Love."
          ],
          [
           "Turbo"
          ],
          [
           "Click"
          ],
          [
           "Yes Man"
          ],
          [
           "Jurassic Park"
          ],
          [
           "101 Dalmatians"
          ],
          [
           "Spies in Disguise"
          ],
          [
           "After Earth"
          ],
          [
           "Horton Hears a Who!"
          ],
          [
           "Stuart Little 2"
          ],
          [
           "Con Air"
          ],
          [
           "The Happening"
          ],
          [
           "Passengers"
          ],
          [
           "Ben-Hur"
          ],
          [
           "Event Horizon"
          ],
          [
           "Garfield: A Tail of Two Kitties"
          ],
          [
           "The Little Prince"
          ],
          [
           "The Core"
          ],
          [
           "The New Mutants"
          ],
          [
           "Chaos Walking"
          ],
          [
           "22 Jump Street"
          ],
          [
           "Super 8"
          ],
          [
           "RV"
          ],
          [
           "Anger Management"
          ],
          [
           "Happy Feet Two"
          ],
          [
           "National Treasure: Book of Secrets"
          ],
          [
           "Planes"
          ],
          [
           "Cast Away"
          ],
          [
           "The Bourne Identity"
          ],
          [
           "A Christmas Carol"
          ],
          [
           "The Game"
          ],
          [
           "The Lego Movie"
          ],
          [
           "The Smurfs 2"
          ],
          [
           "Daddy Day Care"
          ],
          [
           "Transformers: Dark of the Moon"
          ],
          [
           "The Tourist"
          ],
          [
           "Sex and the City 2"
          ],
          [
           "Allied"
          ],
          [
           "47 Ronin"
          ],
          [
           "Blue Streak"
          ],
          [
           "S.W.A.T."
          ],
          [
           "Marley & Me"
          ],
          [
           "House of Gucci"
          ],
          [
           "Dracula Untold"
          ],
          [
           "The Secret Life of Walter Mitty"
          ],
          [
           "Braveheart"
          ],
          [
           "Spider-Man 2"
          ],
          [
           "Alvin and the Chipmunks: The Road Chip"
          ],
          [
           "Live Free or Die Hard"
          ],
          [
           "The Bone Collector"
          ],
          [
           "Space Jam"
          ],
          [
           "The Irishman"
          ],
          [
           "Alien Resurrection"
          ],
          [
           "Zoolander 2"
          ],
          [
           "Cold Pursuit"
          ],
          [
           "Sweeney Todd: The Demon Barber of Fleet Street"
          ],
          [
           "Cliffhanger"
          ],
          [
           "Last Action Hero"
          ],
          [
           "A Knight's Tale"
          ],
          [
           "As Good as It Gets"
          ],
          [
           "Gravity"
          ],
          [
           "George of the Jungle"
          ],
          [
           "The Lone Ranger"
          ],
          [
           "Noah"
          ],
          [
           "The Time Machine"
          ],
          [
           "Son of the Mask"
          ],
          [
           "Who Framed Roger Rabbit"
          ],
          [
           "The Lego Movie 2: The Second Part"
          ],
          [
           "Jason Bourne"
          ],
          [
           "Atlantis: The Lost Empire"
          ],
          [
           "Daddy's Home 2"
          ],
          [
           "3:10 to Yuma"
          ],
          [
           "Collateral"
          ],
          [
           "Artemis Fowl"
          ],
          [
           "Die Another Day"
          ],
          [
           "G.I. Joe: Retaliation"
          ],
          [
           "Children of Men"
          ],
          [
           "Deepwater Horizon"
          ],
          [
           "Evan Almighty"
          ],
          [
           "Minority Report"
          ],
          [
           "The Island"
          ],
          [
           "Life"
          ],
          [
           "Spectral"
          ],
          [
           "Dumbo"
          ],
          [
           "Superman Returns"
          ],
          [
           "Around the World in 80 Days"
          ],
          [
           "Lara Croft: Tomb Raider"
          ],
          [
           "The Judge"
          ],
          [
           "Unbreakable"
          ],
          [
           "The Scorpion King"
          ],
          [
           "The X Files"
          ],
          [
           "Scooby-Doo 2: Monsters Unleashed"
          ],
          [
           "Alien³"
          ],
          [
           "Lord of War"
          ],
          [
           "Unbroken"
          ],
          [
           "Isle of Dogs"
          ],
          [
           "The Taking of Pelham 1 2 3"
          ],
          [
           "The Ant Bully"
          ],
          [
           "Double Jeopardy"
          ],
          [
           "Bright"
          ],
          [
           "Epic"
          ],
          [
           "Priest"
          ],
          [
           "Judge Dredd"
          ],
          [
           "Volcano"
          ],
          [
           "Face/Off"
          ],
          [
           "Dreamcatcher"
          ],
          [
           "Blackhat"
          ],
          [
           "RoboCop"
          ],
          [
           "The Forbidden Kingdom"
          ],
          [
           "What Dreams May Come"
          ],
          [
           "End of Days"
          ],
          [
           "Days of Thunder"
          ],
          [
           "Beverly Hills Cop III"
          ],
          [
           "ParaNorman"
          ],
          [
           "Ocean's Twelve"
          ],
          [
           "Year One"
          ],
          [
           "Robin Hood"
          ],
          [
           "Couples Retreat"
          ],
          [
           "Déjà Vu"
          ],
          [
           "RED 2"
          ],
          [
           "Zookeeper"
          ],
          [
           "Into the Blue"
          ],
          [
           "Casino"
          ],
          [
           "Underwater"
          ],
          [
           "Coming 2 America"
          ],
          [
           "Cats & Dogs"
          ],
          [
           "World Trade Center"
          ],
          [
           "Stargate"
          ],
          [
           "Demolition Man"
          ],
          [
           "Tomorrow Never Dies"
          ],
          [
           "Land of the Lost"
          ],
          [
           "Eraser"
          ],
          [
           "Inferno"
          ],
          [
           "Catwoman"
          ],
          [
           "Hitch"
          ],
          [
           "Jack and Jill"
          ],
          [
           "The Rundown"
          ],
          [
           "Bedtime Stories"
          ],
          [
           "First Man"
          ],
          [
           "The Boxtrolls"
          ],
          [
           "Jumper"
          ],
          [
           "State of Play"
          ],
          [
           "The Holiday"
          ],
          [
           "Astérix at the Olympic Games"
          ],
          [
           "Transformers: Revenge of the Fallen"
          ],
          [
           "Reminiscence"
          ],
          [
           "Moulin Rouge!"
          ],
          [
           "The Mule"
          ],
          [
           "Daddy's Home"
          ],
          [
           "Walking Tall"
          ],
          [
           "Spy"
          ],
          [
           "Twister"
          ],
          [
           "The League of Extraordinary Gentlemen"
          ],
          [
           "Cloud Atlas"
          ],
          [
           "The Three Musketeers"
          ],
          [
           "Bicentennial Man"
          ],
          [
           "Hostage"
          ],
          [
           "Shanghai Noon"
          ],
          [
           "The Huntsman: Winter's War"
          ],
          [
           "The Dark Tower"
          ],
          [
           "Bullet to the Head"
          ],
          [
           "Vanilla Sky"
          ],
          [
           "We Were Soldiers"
          ],
          [
           "Tango & Cash"
          ],
          [
           "Dark Shadows"
          ],
          [
           "Date Night"
          ],
          [
           "The Terminal"
          ],
          [
           "Patch Adams"
          ],
          [
           "Death Becomes Her"
          ],
          [
           "Memoirs of a Geisha"
          ],
          [
           "Jack Ryan: Shadow Recruit"
          ],
          [
           "The Bourne Supremacy"
          ],
          [
           "Shanghai Knights"
          ],
          [
           "Jarhead"
          ],
          [
           "Safe House"
          ],
          [
           "King Arthur"
          ],
          [
           "Arthur and the Invisibles"
          ],
          [
           "City of Angels"
          ],
          [
           "Waterworld"
          ],
          [
           "Contagion"
          ],
          [
           "Gangs of New York"
          ],
          [
           "Jerry Maguire"
          ],
          [
           "Into the Storm"
          ],
          [
           "Contact"
          ],
          [
           "Mars Attacks!"
          ],
          [
           "The Hitchhiker's Guide to the Galaxy"
          ],
          [
           "War Horse"
          ],
          [
           "The Man from U.N.C.L.E."
          ],
          [
           "Any Given Sunday"
          ],
          [
           "Open Season"
          ],
          [
           "GoldenEye"
          ],
          [
           "Charlotte's Web"
          ],
          [
           "The Bourne Ultimatum"
          ],
          [
           "The Italian Job"
          ],
          [
           "Hollow Man"
          ],
          [
           "Unstoppable"
          ],
          [
           "Master and Commander: The Far Side of the World"
          ],
          [
           "The Sorcerer's Apprentice"
          ],
          [
           "Captain Phillips"
          ],
          [
           "Get Smart"
          ],
          [
           "Mary Poppins Returns"
          ],
          [
           "Planet 51"
          ],
          [
           "Seven Years in Tibet"
          ],
          [
           "Looney Tunes: Back in Action"
          ],
          [
           "Dante's Peak"
          ],
          [
           "Body of Lies"
          ],
          [
           "Road to Perdition"
          ],
          [
           "Surrogates"
          ],
          [
           "I Still Know What You Did Last Summer"
          ],
          [
           "Joy"
          ],
          [
           "The Manchurian Candidate"
          ],
          [
           "Apollo 13"
          ],
          [
           "The Brothers Grimm"
          ],
          [
           "Gulliver's Travels"
          ],
          [
           "Downsizing"
          ],
          [
           "Surf's Up"
          ],
          [
           "A Perfect Murder"
          ],
          [
           "Valkyrie"
          ],
          [
           "Speed 2: Cruise Control"
          ],
          [
           "You've Got Mail"
          ],
          [
           "Meet Dave"
          ],
          [
           "Deep Blue Sea"
          ],
          [
           "Enemy of the State"
          ],
          [
           "Windtalkers"
          ],
          [
           "Stardust"
          ],
          [
           "10,000 BC"
          ],
          [
           "Cheaper by the Dozen 2"
          ],
          [
           "Outbreak"
          ],
          [
           "Killers"
          ],
          [
           "Mr. Popper's Penguins"
          ],
          [
           "Assassins"
          ],
          [
           "Mowgli: Legend of the Jungle"
          ],
          [
           "Conspiracy Theory"
          ],
          [
           "I, Frankenstein"
          ],
          [
           "The Negotiator"
          ],
          [
           "Little Nicky"
          ],
          [
           "Crimson Tide"
          ],
          [
           "Australia"
          ],
          [
           "Sunshine"
          ],
          [
           "The Phantom of the Opera"
          ],
          [
           "The Boss Baby"
          ],
          [
           "West Side Story"
          ],
          [
           "Child 44"
          ],
          [
           "Okja"
          ],
          [
           "The Sum of All Fears"
          ],
          [
           "Arthur 3: The War of the Two Worlds"
          ],
          [
           "Pan"
          ],
          [
           "Killer Elite"
          ],
          [
           "Les Misérables"
          ],
          [
           "Doctor Dolittle"
          ],
          [
           "Star Trek: Nemesis"
          ],
          [
           "Legend of the Guardians: The Owls of Ga'Hoole"
          ],
          [
           "Outlander"
          ],
          [
           "Blow"
          ],
          [
           "Lethal Weapon 4"
          ],
          [
           "The Pink Panther"
          ],
          [
           "Mortdecai"
          ],
          [
           "Doom"
          ],
          [
           "The Adjustment Bureau"
          ],
          [
           "The Abyss"
          ],
          [
           "Ronin"
          ],
          [
           "Pompeii"
          ],
          [
           "DragonHeart"
          ],
          [
           "The Legend of Zorro"
          ],
          [
           "This Means War"
          ],
          [
           "The Chronicles of Riddick"
          ],
          [
           "Dredd"
          ],
          [
           "Broken City"
          ],
          [
           "Along Came a Spider"
          ],
          [
           "Arthur and the Revenge of Maltazard"
          ],
          [
           "The Invasion"
          ],
          [
           "Broken Arrow"
          ],
          [
           "The Boat That Rocked"
          ],
          [
           "Non-Stop"
          ],
          [
           "The Fast and the Furious: Tokyo Drift"
          ],
          [
           "Paddington"
          ],
          [
           "Cinderella Man"
          ],
          [
           "The Perfect Storm"
          ],
          [
           "Peter Rabbit"
          ],
          [
           "Ip Man 4: The Finale"
          ],
          [
           "Eat Pray Love"
          ],
          [
           "Payback"
          ],
          [
           "Run All Night"
          ],
          [
           "The Thin Red Line"
          ],
          [
           "Pete's Dragon"
          ],
          [
           "Crimson Peak"
          ],
          [
           "Erin Brockovich"
          ],
          [
           "Blades of Glory"
          ],
          [
           "Lost in Space"
          ],
          [
           "Transcendence"
          ],
          [
           "G-Force"
          ],
          [
           "The Haunting"
          ],
          [
           "Paycheck"
          ],
          [
           "Ocean's Thirteen"
          ],
          [
           "The Watch"
          ],
          [
           "Awake"
          ],
          [
           "Babylon A.D."
          ],
          [
           "Mirror Mirror"
          ],
          [
           "The Village"
          ],
          [
           "Moana"
          ],
          [
           "Seven Pounds"
          ],
          [
           "Two Weeks Notice"
          ],
          [
           "Mr. Deeds"
          ],
          [
           "The Aviator"
          ],
          [
           "Daylight"
          ],
          [
           "Spanglish"
          ],
          [
           "Elizabeth: The Golden Age"
          ],
          [
           "Flubber"
          ],
          [
           "New Year's Eve"
          ],
          [
           "U.S. Marshals"
          ],
          [
           "Just Like Heaven"
          ],
          [
           "We Bought a Zoo"
          ],
          [
           "Green Zone"
          ],
          [
           "Stepmom"
          ],
          [
           "The Green Hornet"
          ],
          [
           "Wild Wild West"
          ],
          [
           "The Post"
          ],
          [
           "The Peanuts Movie"
          ],
          [
           "Winter's Tale"
          ],
          [
           "I Now Pronounce You Chuck & Larry"
          ],
          [
           "The Stepford Wives"
          ],
          [
           "Gangster Squad"
          ],
          [
           "Upside Down"
          ],
          [
           "Speed Racer"
          ],
          [
           "Next"
          ],
          [
           "Changeling"
          ],
          [
           "Mercury Rising"
          ],
          [
           "The Insider"
          ],
          [
           "The Nutty Professor"
          ],
          [
           "Gamer"
          ],
          [
           "Something's Gotta Give"
          ],
          [
           "Jingle All the Way"
          ],
          [
           "Mamma Mia! Here We Go Again"
          ],
          [
           "Clear and Present Danger"
          ],
          [
           "Vice"
          ],
          [
           "The Break-Up"
          ],
          [
           "Fun with Dick and Jane"
          ],
          [
           "Three Kings"
          ],
          [
           "Reign of Fire"
          ],
          [
           "Little Fockers"
          ],
          [
           "Hook"
          ],
          [
           "Agora"
          ],
          [
           "Analyze This"
          ],
          [
           "Flightplan"
          ],
          [
           "Transformers"
          ],
          [
           "Miami Vice"
          ],
          [
           "Moneyball"
          ],
          [
           "The Haunted Mansion"
          ],
          [
           "Runaway Jury"
          ],
          [
           "Mona Lisa Smile"
          ],
          [
           "Almost Famous"
          ],
          [
           "Talladega Nights: The Ballad of Ricky Bobby"
          ],
          [
           "What Lies Beneath"
          ],
          [
           "Hidalgo"
          ],
          [
           "The Hurricane"
          ],
          [
           "Sphere"
          ],
          [
           "The Devil's Own"
          ],
          [
           "Final Fantasy: The Spirits Within"
          ],
          [
           "Six Days Seven Nights"
          ],
          [
           "The Last Castle"
          ],
          [
           "Maverick"
          ],
          [
           "Sahara"
          ],
          [
           "Spy Game"
          ],
          [
           "Into the Woods"
          ],
          [
           "Snake Eyes"
          ],
          [
           "16 Blocks"
          ],
          [
           "The Finest Hours"
          ],
          [
           "Collateral Damage"
          ],
          [
           "Flags of Our Fathers"
          ],
          [
           "Hairspray"
          ],
          [
           "The Jackal"
          ],
          [
           "Air Force One"
          ],
          [
           "Hop"
          ],
          [
           "102 Dalmatians"
          ],
          [
           "The Campaign"
          ],
          [
           "Rumor Has It..."
          ],
          [
           "The Monuments Men"
          ],
          [
           "Fantasia 2000"
          ],
          [
           "Hostiles"
          ],
          [
           "Burlesque"
          ],
          [
           "Far and Away"
          ],
          [
           "From Paris with Love"
          ],
          [
           "The Life of David Gale"
          ],
          [
           "Babe: Pig in the City"
          ],
          [
           "Swordfish"
          ],
          [
           "The Life Aquatic with Steve Zissou"
          ],
          [
           "Asterix & Obelix: God Save Britannia"
          ],
          [
           "The 6th Day"
          ],
          [
           "Meet the Parents"
          ],
          [
           "The Chaser"
          ],
          [
           "Eagle Eye"
          ],
          [
           "Race to Witch Mountain"
          ],
          [
           "Intolerable Cruelty"
          ],
          [
           "Fast & Furious"
          ],
          [
           "The Family Man"
          ],
          [
           "Domino"
          ],
          [
           "Maid in Manhattan"
          ],
          [
           "Space Cowboys"
          ],
          [
           "All the Money in the World"
          ],
          [
           "Munich"
          ],
          [
           "Ransom"
          ],
          [
           "The Mexican"
          ],
          [
           "Æon Flux"
          ],
          [
           "Invictus"
          ],
          [
           "Free State of Jones"
          ],
          [
           "Backdraft"
          ],
          [
           "Dr. Dolittle 2"
          ],
          [
           "Sky Captain and the World of Tomorrow"
          ],
          [
           "Funny People"
          ],
          [
           "Lincoln"
          ],
          [
           "Mission to Mars"
          ],
          [
           "Escape from L.A."
          ],
          [
           "Edge of Darkness"
          ],
          [
           "The Secret Life of Pets"
          ],
          [
           "The Kingdom"
          ],
          [
           "City of Ember"
          ],
          [
           "The Score"
          ],
          [
           "Syriana"
          ],
          [
           "A Wrinkle in Time"
          ],
          [
           "Runaway Bride"
          ],
          [
           "It's Complicated"
          ],
          [
           "U-571"
          ],
          [
           "The Legend of Hercules"
          ],
          [
           "Ad Astra"
          ],
          [
           "Ali"
          ],
          [
           "Stay"
          ],
          [
           "Dinner for Schmucks"
          ],
          [
           "Starsky & Hutch"
          ],
          [
           "Lady in the Water"
          ],
          [
           "The Santa Clause 2"
          ],
          [
           "Practical Magic"
          ],
          [
           "Shall We Dance?"
          ],
          [
           "Anchorman 2: The Legend Continues"
          ],
          [
           "Black Mass"
          ],
          [
           "Man on the Moon"
          ],
          [
           "You, Me and Dupree"
          ],
          [
           "Rock of Ages"
          ],
          [
           "Righteous Kill"
          ],
          [
           "Hereafter"
          ],
          [
           "Analyze That"
          ],
          [
           "Junior"
          ],
          [
           "Fast Five"
          ],
          [
           "Fast & Furious 6"
          ],
          [
           "Wall Street: Money Never Sleeps"
          ],
          [
           "When in Rome"
          ],
          [
           "Pleasantville"
          ],
          [
           "Grindhouse"
          ],
          [
           "Trouble with the Curve"
          ],
          [
           "Charlie Wilson's War"
          ],
          [
           "The Siege"
          ],
          [
           "Bewitched"
          ],
          [
           "First Knight"
          ],
          [
           "The International"
          ],
          [
           "Dream House"
          ],
          [
           "Inspector Gadget"
          ],
          [
           "The Interpreter"
          ],
          [
           "Live by Night"
          ],
          [
           "2 Fast 2 Furious"
          ],
          [
           "The Wolverine"
          ],
          [
           "Matchstick Men"
          ],
          [
           "Hannibal"
          ],
          [
           "Red Dragon"
          ],
          [
           "X-Men Origins: Wolverine"
          ],
          [
           "Hannibal Rising"
          ],
          [
           "Resident Evil: Retribution"
          ],
          [
           "X-Men: First Class"
          ],
          [
           "The Lost World: Jurassic Park"
          ],
          [
           "Jurassic Park III"
          ],
          [
           "Resident Evil: Afterlife"
          ],
          [
           "X-Men"
          ],
          [
           "The Internship"
          ]
         ],
         "hovertemplate": "vote_average=%{x}<br>popularity=%{y}<br>title=%{customdata[0]}<extra></extra>",
         "legendgroup": "",
         "marker": {
          "color": "#636efa",
          "symbol": "circle"
         },
         "mode": "markers",
         "name": "",
         "showlegend": false,
         "type": "scattergl",
         "x": [
          7.079,
          7.34,
          6.507,
          7.262,
          7.275,
          7.495,
          6.947,
          8.64,
          6.781,
          8.053,
          8.284,
          7.827,
          7.795,
          8.3,
          7.623,
          7.798,
          6.625,
          7.179,
          6.99,
          6.9,
          7.226,
          7.495,
          7.656,
          7.599,
          8.273,
          7.569,
          7.654,
          7.465,
          7.798,
          7.054,
          7.49,
          7.38,
          6.873,
          7.904,
          7.423,
          7.992,
          7.716,
          8.268,
          5.9,
          8,
          6.8,
          8.255,
          6.699,
          6.889,
          7.89,
          7.714,
          6.181,
          6.654,
          7.2,
          7.6,
          8.391,
          7.043,
          5.319,
          8.2,
          7.594,
          6.823,
          7.112,
          7.5,
          6.3,
          7.237,
          6.528,
          7.5,
          8.1,
          6.1,
          7.9,
          7.131,
          7.525,
          6.865,
          6.521,
          7.789,
          7.794,
          7.239,
          6.5,
          6.488,
          7.083,
          7.7,
          7.345,
          7.6,
          6.5,
          8.036,
          8.402,
          6.552,
          7.418,
          7.281,
          7.5,
          7.746,
          6.955,
          6.892,
          8.083,
          7.937,
          7.34,
          7.2,
          6.835,
          8.406,
          6.969,
          6.9,
          7.744,
          6.8,
          6.795,
          7.3,
          7.831,
          7.425,
          6.678,
          8.508,
          6.767,
          6.682,
          6.281,
          7.345,
          7.6,
          7.885,
          7.71,
          5.921,
          7.5,
          7.8,
          8.161,
          7.037,
          6.6,
          7.741,
          7.25,
          7.011,
          7.604,
          6.863,
          7.583,
          7.337,
          6,
          5.9,
          7.3,
          7.9,
          7.264,
          7.067,
          6.5,
          7.2,
          7.942,
          7.5,
          7.8,
          8.17,
          7.434,
          7.414,
          7.4,
          6.51,
          7.3,
          7.082,
          7.494,
          7.59,
          6.3,
          6.898,
          7.277,
          7.92,
          8.204,
          7.507,
          6.8,
          7.221,
          6.646,
          7.489,
          8.2,
          6.4,
          6.882,
          7.6,
          6.9,
          6.207,
          7.446,
          6.928,
          6.518,
          7.32,
          5.951,
          8.5,
          7.323,
          7.352,
          6.05,
          8.431,
          7.7,
          7.115,
          7.637,
          6.131,
          7.676,
          7.443,
          6.514,
          8.361,
          7.545,
          7.2,
          6.352,
          6.6,
          8.507,
          7.6,
          5.705,
          7.774,
          7.194,
          6.861,
          7.09,
          6.1,
          6.882,
          6.382,
          6.803,
          5.8,
          6.1,
          6.8,
          6.981,
          6.967,
          8.384,
          6.9,
          7.346,
          7.823,
          8.095,
          7.341,
          6.824,
          7.8,
          6.979,
          5.808,
          6.101,
          6.508,
          6.7,
          6.9,
          6.995,
          7.692,
          6.107,
          6.6,
          6.213,
          6.842,
          6.915,
          6.608,
          7.791,
          7.536,
          7.815,
          6.4,
          7.442,
          7.966,
          7.4,
          6.9,
          6.827,
          6.3,
          8.161,
          7.4,
          6.456,
          7.006,
          8.202,
          7.903,
          6.1,
          8.216,
          6.915,
          6.328,
          7.7,
          7.189,
          6.668,
          6.707,
          6.471,
          7.569,
          7.225,
          6.7,
          7.214,
          5.675,
          7.24,
          6.392,
          5.128,
          7,
          7.303,
          7.3,
          7.892,
          6.3,
          6.6,
          7.503,
          7.491,
          6.9,
          7,
          7.254,
          7,
          8.075,
          6.667,
          7.369,
          5.2,
          6.204,
          5.9,
          6.7,
          7.3,
          6.343,
          6.5,
          5.007,
          6.014,
          6.211,
          6.735,
          7.28,
          7.5,
          6.9,
          7.202,
          7,
          6,
          7.391,
          7.575,
          6.804,
          6,
          6.22,
          7.301,
          6.4,
          6.09,
          5.5,
          6.256,
          8.206,
          6.2,
          6.742,
          7.209,
          5.8,
          6.945,
          5.7,
          7.3,
          6.393,
          7.694,
          6.593,
          7.902,
          7.5,
          7.1,
          7.465,
          7.167,
          7.267,
          6.9,
          6.16,
          6.746,
          7.2,
          6.455,
          7.1,
          7.5,
          6.927,
          7.346,
          6.9,
          6.485,
          5.322,
          6.3,
          6.3,
          6.3,
          6,
          6.953,
          5.9,
          7.535,
          5.832,
          7.4,
          6.994,
          5.7,
          5.6,
          5.5,
          6.7,
          7.1,
          7.154,
          5.4,
          6.473,
          7.1,
          7,
          5.766,
          6.514,
          6.4,
          8.197,
          6.3,
          7.7,
          6.361,
          6.4,
          5.601,
          7.609,
          6.269,
          6.099,
          5.8,
          7.731,
          6.695,
          5.9,
          7.242,
          5.541,
          8.005,
          4.66,
          6,
          7.752,
          5.795,
          6.3,
          7.598,
          6.404,
          7.243,
          7.511,
          7.219,
          6.242,
          6.935,
          6.8,
          6.802,
          6.35,
          4.414,
          6,
          7.045,
          6.5,
          6.869,
          6.629,
          6.915,
          7.574,
          6.563,
          5.6,
          7.5,
          7.487,
          7.178,
          6.2,
          5.525,
          6.55,
          6.829,
          6.167,
          6.5,
          5.7,
          7.15,
          5.8,
          6,
          5.921,
          6.2,
          6.8,
          6.8,
          7.608,
          5.883,
          5.806,
          7.2,
          7.526,
          7.242,
          7.432,
          7.006,
          6.707,
          6.308,
          6.4,
          6.4,
          6.6,
          6.3,
          6.963,
          5.3,
          5.9,
          6.705,
          6.701,
          5.725,
          6.733,
          6.7,
          6.858,
          7.381,
          7.331,
          7.038,
          7.4,
          6.391,
          5.5,
          6.596,
          6.9,
          6.5,
          6.5,
          6.548,
          7.1,
          7.5,
          6,
          6.781,
          5.9,
          6.7,
          5.9,
          7.4,
          6.029,
          5.583,
          5.3,
          6.1,
          6.533,
          7.398,
          7.042,
          7.173,
          6.701,
          7.6,
          7.986,
          6.2,
          6.072,
          6.48,
          7.92,
          6.445,
          7.918,
          7.328,
          6.358,
          7.901,
          6.828,
          7,
          6.2,
          5.697,
          7.674,
          5.644,
          5.775,
          5.4,
          6.595,
          6.953,
          6.523,
          7.2,
          7.435,
          6.721,
          6,
          6.316,
          5.502,
          6.857,
          6.507,
          6.354,
          7.3,
          7.969,
          6.002,
          5.771,
          5.574,
          6.2,
          5.987,
          6.288,
          6.566,
          6.4,
          6.7,
          6.583,
          6.675,
          6.4,
          6.9,
          6.5,
          6.6,
          6.063,
          6.502,
          7.563,
          6.539,
          5.817,
          7.6,
          7,
          8.164,
          5.7,
          6.4,
          6.2,
          5.661,
          5.4,
          6.5,
          7.4,
          6.502,
          6.6,
          6.8,
          5.7,
          6.736,
          6.8,
          5.586,
          6.2,
          6.182,
          5.956,
          5.9,
          6.672,
          6.654,
          6.9,
          7.765,
          7.042,
          6.9,
          6.347,
          7.1,
          6.9,
          4.988,
          6.6,
          6.2,
          7.445,
          6.958,
          6.307,
          7.397,
          6.7,
          6.699,
          6.316,
          5.4,
          6.491,
          7.125,
          6.047,
          6.3,
          7.2,
          6.722,
          5.9,
          6.4,
          7.852,
          6.1,
          5.8,
          6.9,
          7.1,
          7.185,
          6.7,
          7.199,
          5.7,
          5.678,
          5.7,
          7.4,
          6.53,
          7.412,
          6.379,
          6,
          5.9,
          5.8,
          6.2,
          6.9,
          5.995,
          6.8,
          6.393,
          6.3,
          7.163,
          5.7,
          6.124,
          6.6,
          4.319,
          6.139,
          7.4,
          7.524,
          6.8,
          6.042,
          6.939,
          5.24,
          6.391,
          5.4,
          6.1,
          6.42,
          6.202,
          6.825,
          6.516,
          7.1,
          7.3,
          7.529,
          6.5,
          6.2,
          5.9,
          5.2,
          6.3,
          7.258,
          6.2,
          6.256,
          6.65,
          7.932,
          5.9,
          7.666,
          5.193,
          6.5,
          5.7,
          6.715,
          5.333,
          6.9,
          5.7,
          6.5,
          5.5,
          7.613,
          5.7,
          6.152,
          6.7,
          6.8,
          6.753,
          5.881,
          6.1,
          6.1,
          6.3,
          5.9,
          7.658,
          7.456,
          6.859,
          7.556,
          7.415,
          5.8,
          5.9,
          6.166,
          6.2,
          6.1,
          6.8,
          6.148,
          6.47,
          6.1,
          7.203,
          6.6,
          6.388,
          7.162,
          7.9,
          7.238,
          6.015,
          6.604,
          6.771,
          6.8,
          7.6,
          6.1,
          4.866,
          5.7,
          7.201,
          6.5,
          6.411,
          6.862,
          7.395,
          7.16,
          5.6,
          6.1,
          5.642,
          6.2,
          4.126,
          7.514,
          6.7,
          6.3,
          7,
          6.3,
          7.197,
          7.2,
          5.642,
          6,
          5.6,
          7.603,
          6.8,
          5.546,
          7.33,
          6.7,
          6.4,
          6.4,
          6.7,
          5.7,
          5.907,
          5.878,
          7.309,
          7.134,
          5.6,
          6.833,
          6.031,
          6.348,
          7.3,
          7.4,
          7.862,
          6.3,
          5.704,
          6.5,
          6.169,
          6.5,
          5.7,
          5.8,
          5.9,
          7,
          5.6,
          5.5,
          5.838,
          6.599,
          7.174,
          6,
          6.348,
          5.9,
          7,
          6.6,
          4.9,
          5.9,
          5.5,
          6.826,
          6.5,
          5.418,
          5.872,
          8.004,
          6.294,
          6.5,
          5.4,
          6.2,
          7,
          6.666,
          6.3,
          5.4,
          6,
          6,
          4.589,
          6.5,
          4.318,
          6.4,
          6.1,
          7,
          6.655,
          6.1,
          6.786,
          7.1,
          5.187,
          6.1,
          6.7,
          7.594,
          6.8,
          6.258,
          6.3,
          6.824,
          6.453,
          6,
          6.869,
          5.8,
          7.241,
          6.338,
          6.4,
          6.3,
          5.7,
          5.6,
          6.8,
          7.1,
          6.4,
          6,
          6.1,
          7.324,
          7.307,
          6.8,
          7.682,
          6.1,
          7.3,
          6.128,
          6.602,
          6.43,
          6.3,
          6.382,
          6.8,
          6.2,
          6.6,
          7.314,
          6.9,
          6,
          7.4,
          6.39,
          6.7,
          7.295,
          7.091,
          6.8,
          6.1,
          6.9,
          6.207,
          7.418,
          6.8,
          5.907,
          6.546,
          7.101,
          6.1,
          7.555,
          6.169,
          6.5,
          5.8,
          7.162,
          6.4,
          6.2,
          6.6,
          7.359,
          6.093,
          5.328,
          6.515,
          6.447,
          7.4,
          5.8,
          5.177,
          5.303,
          6.3,
          6.496,
          6.9,
          4.6,
          6.657,
          5.3,
          5.9,
          6.987,
          6.22,
          7.2,
          5.4,
          6.129,
          6.527,
          6,
          5.922,
          6.5,
          6.5,
          6.6,
          5.3,
          7.06,
          5.9,
          7.2,
          6.6,
          7,
          7.278,
          6.5,
          7.1,
          6.3,
          7.401,
          6.3,
          5.8,
          6,
          6.3,
          7.3,
          5.7,
          6.29,
          6.8,
          6.4,
          7.366,
          6.6,
          5.824,
          5.505,
          5.095,
          6.718,
          7.3,
          6.9,
          5.5,
          6.5,
          6.1,
          6.146,
          6.5,
          6.8,
          5.902,
          6.331,
          5.7,
          6,
          6.029,
          7.2,
          6.8,
          6.4,
          7.1,
          7.534,
          6.4,
          6.7,
          7.2,
          6.2,
          6.8,
          6.404,
          7.449,
          6.4,
          6.6,
          7.4,
          6.1,
          5.4,
          6.014,
          5.4,
          5.4,
          6.18,
          6.709,
          5.6,
          6.433,
          5.6,
          5.9,
          6.438,
          7.565,
          7.609,
          6.358,
          5.8,
          7.2,
          6.1,
          6,
          6.714,
          5.6,
          5.9,
          6.5,
          6.9,
          6.739,
          6.5,
          7.148,
          5.6,
          5.317,
          7,
          6.863,
          6.272,
          6.019,
          5.689,
          6.348,
          6.249,
          6.2,
          6,
          7.6,
          6.2,
          7.5,
          5.6,
          5.72,
          6.6,
          6,
          7.144,
          6.613,
          7.052,
          5.832,
          6.2,
          6.641,
          6.142,
          5.6,
          6.833,
          6.98,
          6.5,
          6.4,
          6.8,
          6,
          7.247,
          5.6,
          6.9,
          6.9,
          7.485,
          6.3,
          6.4,
          6.8,
          7.4,
          6.083,
          6.1,
          6.18,
          6,
          7.116,
          6.8,
          5.9,
          6.9,
          5.754,
          6.1,
          6.4,
          6.6,
          5.8,
          6.8,
          6.663,
          6.3,
          6.452,
          5.7,
          5.5,
          5.8,
          5.6,
          6,
          7,
          6.9,
          7.2,
          6.732,
          6.3,
          7.4,
          5.556,
          6.2,
          7.1,
          5.1,
          5.9,
          6.7,
          7.788,
          6.432,
          5.8,
          5.928,
          6.666,
          6.8,
          5.957,
          6.1,
          6.4,
          6.5,
          7.1,
          6.7,
          5.9,
          5.6,
          7.2,
          6.7,
          6.6,
          5.3,
          5.8,
          5.844,
          6.9,
          6,
          5.9,
          6.3,
          6.262,
          6.7,
          6.3,
          6.7,
          6.423,
          5.1,
          6.1,
          6.5,
          6.5,
          4.8,
          6.1,
          6.8,
          6.58,
          5.7,
          5.8,
          5.571,
          5.9,
          6.7,
          6.4,
          6.1,
          6.452,
          7.267,
          5.6,
          6.2,
          5.922,
          6,
          5.8,
          5.2,
          7.249,
          6.817,
          6.1,
          6,
          7.2,
          7,
          6.9,
          6.6,
          6.3,
          5,
          6.045,
          6.2,
          6.1,
          4.444,
          6.3,
          6.2,
          6.5,
          6.391,
          7,
          6.762,
          7.009,
          6.3,
          6.227,
          5.799,
          7.294,
          6.524,
          6.1,
          6,
          6.992,
          6.3
         ],
         "xaxis": "x",
         "y": [
          8763.998,
          5409.104,
          4425.387,
          3994.342,
          3583.861,
          3303.401,
          2768.382,
          2550.738,
          2010.98,
          965.585,
          904.25,
          659.169,
          606.721,
          590.47,
          459.47,
          398.983,
          394.087,
          389.065,
          329.063,
          326.317,
          310.783,
          302.905,
          298.881,
          297.805,
          297.574,
          296.05,
          281.488,
          265.678,
          262.576,
          257.264,
          249.16,
          243.528,
          237.124,
          226.317,
          218.057,
          215.904,
          207.13,
          201.42,
          199.987,
          195.589,
          190.547,
          188.593,
          188.422,
          188.259,
          167.631,
          165.673,
          164.75,
          161.315,
          153.021,
          152.859,
          151.161,
          147.231,
          145.127,
          144.713,
          144.638,
          144.183,
          142.497,
          141.751,
          141.218,
          140.868,
          137.609,
          135.909,
          133.995,
          133.686,
          132.456,
          131.16,
          130.233,
          130.097,
          129.022,
          127.575,
          123.968,
          122.389,
          122.226,
          121.075,
          120.506,
          118.852,
          117.558,
          116.068,
          114.592,
          114.327,
          114.069,
          113.743,
          113.412,
          112.847,
          112.418,
          111.664,
          111.402,
          111.317,
          110.44,
          109.791,
          109.263,
          108.825,
          108.428,
          108.301,
          108.176,
          107.735,
          106.42,
          106.248,
          105.783,
          105.602,
          105.366,
          104.302,
          104.103,
          104.022,
          103.396,
          103.377,
          102.464,
          101.739,
          101.65,
          101.353,
          100.8,
          100.678,
          99.709,
          98.929,
          98.308,
          98.168,
          97.921,
          97.839,
          97.537,
          97.335,
          97.045,
          96.347,
          95.912,
          95.856,
          95.233,
          95.214,
          95.09,
          94.513,
          93.543,
          93.203,
          92.892,
          92.847,
          92.753,
          92.521,
          91.531,
          91.236,
          90.64,
          90.371,
          90.122,
          89.816,
          88.88,
          88.79,
          88.506,
          88.432,
          88.342,
          88.071,
          87.546,
          87.317,
          87.283,
          87.007,
          86.827,
          86.122,
          85.865,
          85.615,
          85.46,
          85.04,
          84.979,
          84.873,
          84.317,
          84.289,
          84.255,
          83.914,
          83.672,
          82.963,
          82.25,
          82.045,
          81.291,
          81.283,
          81.084,
          80.926,
          80.86,
          80.856,
          80.72,
          80.549,
          80.388,
          79.957,
          79.781,
          79.545,
          79.236,
          79.213,
          79.141,
          79.08,
          78.412,
          77.62,
          77.53,
          77.329,
          76.978,
          76.825,
          76.437,
          76.422,
          76.281,
          76.157,
          76.042,
          75.809,
          75.288,
          75.014,
          74.611,
          74.571,
          74.211,
          74.077,
          73.999,
          73.866,
          72.923,
          72.692,
          72.406,
          72.156,
          71.483,
          71.35,
          71.324,
          71.14,
          71.093,
          70.655,
          70.516,
          70.495,
          70.389,
          70.042,
          69.939,
          69.695,
          69.624,
          69.384,
          69.377,
          69.356,
          68.993,
          68.694,
          68.323,
          68.168,
          67.934,
          67.707,
          67.319,
          67.307,
          67.235,
          66.88,
          66.849,
          66.581,
          66.157,
          66.091,
          66.057,
          65.797,
          65.672,
          65.641,
          65.374,
          65.233,
          65.123,
          64.645,
          64.592,
          64.512,
          64.463,
          64.382,
          63.768,
          63.745,
          63.529,
          63.412,
          63.329,
          63.282,
          63.173,
          63.084,
          62.884,
          62.849,
          62.834,
          62.01,
          61.45,
          61.13,
          60.849,
          60.753,
          60.555,
          60.241,
          60.08,
          59.941,
          59.651,
          59.44,
          59.346,
          59.271,
          59.142,
          58.881,
          58.74,
          58.517,
          58.301,
          58.277,
          58.259,
          57.942,
          57.766,
          57.765,
          57.341,
          57.307,
          57.264,
          57.153,
          56.955,
          56.835,
          56.554,
          56.32,
          56.216,
          56.134,
          56.011,
          55.685,
          55.368,
          55.201,
          55.116,
          54.922,
          54.686,
          54.424,
          54.257,
          54.184,
          54.155,
          53.997,
          53.942,
          53.929,
          53.891,
          53.821,
          53.804,
          53.79,
          53.512,
          53.489,
          53.453,
          53.385,
          53.375,
          53.265,
          53.251,
          53.222,
          53.206,
          52.653,
          52.183,
          52.083,
          51.613,
          51.576,
          51.529,
          51.504,
          51.489,
          51.459,
          51.359,
          51.35,
          51.124,
          50.758,
          50.467,
          50.265,
          50.033,
          49.898,
          49.785,
          49.736,
          49.669,
          49.538,
          49.457,
          49.338,
          49.295,
          49.231,
          49.095,
          49.061,
          49.012,
          48.778,
          48.74,
          48.685,
          48.558,
          48.424,
          48.185,
          47.954,
          47.888,
          47.837,
          47.822,
          47.67,
          47.646,
          47.59,
          47.557,
          47.545,
          47.482,
          47.471,
          47.205,
          47.176,
          47.11,
          46.999,
          46.847,
          46.687,
          46.667,
          46.269,
          46.095,
          46.035,
          45.907,
          45.61,
          45.498,
          45.483,
          45.452,
          45.349,
          45.129,
          44.982,
          44.817,
          44.571,
          44.569,
          44.56,
          44.469,
          44.417,
          44.315,
          44.122,
          44.031,
          43.941,
          43.817,
          43.561,
          43.492,
          43.436,
          43.311,
          43.304,
          43.294,
          43.273,
          43.166,
          42.89,
          42.821,
          42.785,
          42.478,
          42.392,
          42.166,
          42.033,
          42.027,
          41.916,
          41.768,
          41.76,
          41.606,
          41.59,
          41.572,
          41.545,
          41.311,
          41.279,
          41.224,
          41.216,
          41.19,
          40.995,
          40.764,
          40.739,
          40.679,
          40.63,
          40.543,
          40.49,
          40.489,
          40.468,
          40.388,
          40.288,
          40.259,
          40.256,
          39.836,
          39.731,
          39.62,
          39.555,
          39.386,
          39.356,
          39.264,
          39.209,
          39.146,
          39.083,
          38.995,
          38.956,
          38.898,
          38.81,
          38.657,
          38.594,
          38.524,
          38.27,
          38.242,
          38.228,
          38.132,
          37.937,
          37.861,
          37.846,
          37.796,
          37.732,
          37.729,
          37.69,
          37.607,
          37.565,
          37.562,
          37.478,
          37.41,
          37.306,
          37.269,
          37.202,
          37.189,
          37.187,
          37.126,
          37.092,
          37.07,
          37.029,
          36.996,
          36.902,
          36.902,
          36.842,
          36.67,
          36.641,
          36.492,
          36.243,
          36.14,
          36.118,
          36.032,
          36.022,
          35.998,
          35.975,
          35.959,
          35.929,
          35.828,
          35.686,
          35.628,
          35.61,
          35.56,
          35.521,
          35.48,
          35.466,
          35.462,
          35.276,
          35.266,
          35.246,
          34.952,
          34.859,
          34.823,
          34.802,
          34.749,
          34.701,
          34.577,
          34.527,
          34.409,
          34.346,
          34.341,
          34.29,
          34.274,
          34.257,
          34.226,
          34.21,
          34.158,
          34.102,
          34.099,
          34.098,
          34.073,
          34.014,
          33.886,
          33.699,
          33.652,
          33.498,
          33.463,
          33.432,
          33.411,
          33.391,
          33.313,
          33.283,
          33.272,
          33.256,
          33.248,
          33.204,
          33.166,
          33.14,
          33.115,
          33.102,
          33.075,
          33.038,
          32.988,
          32.941,
          32.911,
          32.88,
          32.843,
          32.782,
          32.574,
          32.533,
          32.528,
          32.478,
          32.364,
          32.327,
          32.214,
          32.203,
          32.145,
          32.089,
          32.073,
          32.015,
          31.999,
          31.912,
          31.909,
          31.885,
          31.816,
          31.715,
          31.663,
          31.605,
          31.602,
          31.5,
          31.456,
          31.443,
          31.441,
          31.434,
          31.412,
          31.322,
          31.314,
          31.31,
          31.302,
          31.269,
          31.259,
          31.225,
          31.212,
          31.195,
          31.154,
          31.137,
          31.096,
          31.09,
          31.067,
          31.046,
          31.02,
          30.989,
          30.943,
          30.915,
          30.914,
          30.832,
          30.808,
          30.801,
          30.792,
          30.595,
          30.553,
          30.453,
          30.415,
          30.355,
          30.303,
          30.252,
          30.23,
          30.14,
          30.121,
          29.97,
          29.957,
          29.946,
          29.889,
          29.885,
          29.852,
          29.727,
          29.592,
          29.563,
          29.445,
          29.411,
          29.382,
          29.366,
          29.339,
          29.296,
          29.294,
          29.272,
          29.218,
          29.191,
          29.185,
          29.138,
          29.113,
          29.112,
          29.094,
          29.036,
          29.007,
          28.957,
          28.816,
          28.639,
          28.542,
          28.514,
          28.507,
          28.486,
          28.47,
          28.443,
          28.439,
          28.422,
          28.412,
          28.34,
          28.323,
          28.32,
          28.04,
          27.938,
          27.845,
          27.82,
          27.8,
          27.782,
          27.739,
          27.725,
          27.719,
          27.691,
          27.663,
          27.66,
          27.527,
          27.518,
          27.498,
          27.466,
          27.453,
          27.391,
          27.375,
          27.339,
          27.311,
          27.276,
          27.269,
          27.179,
          27.157,
          27.15,
          27.133,
          27.04,
          27.027,
          27.024,
          27.013,
          26.971,
          26.966,
          26.96,
          26.947,
          26.902,
          26.886,
          26.874,
          26.865,
          26.787,
          26.74,
          26.719,
          26.659,
          26.619,
          26.569,
          26.566,
          26.549,
          26.537,
          26.505,
          26.484,
          26.248,
          26.083,
          26.075,
          26.052,
          25.989,
          25.967,
          25.942,
          25.938,
          25.904,
          25.903,
          25.903,
          25.878,
          25.775,
          25.759,
          25.744,
          25.723,
          25.69,
          25.687,
          25.668,
          25.641,
          25.635,
          25.571,
          25.571,
          25.545,
          25.478,
          25.449,
          25.362,
          25.332,
          25.18,
          25.178,
          25.094,
          25.067,
          25.029,
          24.969,
          24.957,
          24.928,
          24.919,
          24.915,
          24.892,
          24.876,
          24.819,
          24.691,
          24.69,
          24.653,
          24.608,
          24.534,
          24.527,
          24.467,
          24.441,
          24.44,
          24.402,
          24.358,
          24.305,
          24.23,
          24.197,
          24.072,
          24.07,
          24.058,
          24.038,
          23.948,
          23.897,
          23.886,
          23.8,
          23.716,
          23.711,
          23.618,
          23.611,
          23.551,
          23.506,
          23.486,
          23.454,
          23.378,
          23.374,
          23.327,
          23.314,
          23.311,
          23.305,
          23.302,
          23.268,
          23.262,
          23.249,
          23.232,
          23.221,
          23.213,
          23.156,
          23.118,
          23.107,
          23.104,
          23.056,
          23.019,
          23.006,
          22.962,
          22.953,
          22.939,
          22.934,
          22.872,
          22.847,
          22.843,
          22.827,
          22.733,
          22.713,
          22.696,
          22.692,
          22.65,
          22.577,
          22.555,
          22.551,
          22.433,
          22.404,
          22.376,
          22.322,
          22.209,
          22.201,
          22.196,
          22.168,
          22.129,
          22.112,
          22.1,
          22.074,
          22.022,
          21.975,
          21.974,
          21.944,
          21.899,
          21.869,
          21.831,
          21.781,
          21.681,
          21.609,
          21.558,
          21.548,
          21.5,
          21.496,
          21.49,
          21.49,
          21.474,
          21.468,
          21.408,
          21.381,
          21.367,
          21.319,
          21.283,
          21.185,
          21.125,
          21.125,
          21.122,
          21.114,
          21.079,
          21.07,
          21.062,
          21.022,
          20.986,
          20.913,
          20.899,
          20.893,
          20.878,
          20.873,
          20.786,
          20.78,
          20.745,
          20.745,
          20.735,
          20.709,
          20.676,
          20.645,
          20.635,
          20.63,
          20.598,
          20.59,
          20.489,
          20.469,
          20.466,
          20.462,
          20.432,
          20.407,
          20.405,
          20.4,
          20.392,
          20.3,
          20.278,
          20.255,
          20.253,
          20.215,
          20.197,
          20.193,
          20.167,
          20.126,
          20.112,
          20.105,
          19.982,
          19.763,
          19.72,
          19.694,
          19.636,
          19.617,
          19.559,
          19.48,
          19.41,
          19.403,
          19.38,
          19.372,
          19.336,
          19.219,
          19.206,
          19.184,
          19.165,
          19.133,
          18.967,
          18.961,
          18.935,
          18.925,
          18.92,
          18.895,
          18.797,
          18.769,
          18.746,
          18.712,
          18.703,
          18.658,
          18.654,
          18.626,
          18.626,
          18.607,
          18.534,
          18.516,
          18.478,
          18.474,
          18.443,
          18.386,
          18.362,
          18.336,
          18.25,
          18.248,
          18.212,
          18.166,
          17.902,
          17.9,
          17.894,
          17.886,
          17.886,
          17.789,
          17.703,
          17.634,
          17.602,
          17.495,
          17.481,
          17.463,
          17.315,
          17.25,
          17.234,
          17.221,
          17.193,
          17.176,
          17.15,
          17.122,
          17.072,
          17.016,
          17.015,
          16.993,
          16.922,
          16.895,
          16.747,
          16.658,
          16.411,
          16.382,
          16.366,
          16.305,
          16.304,
          16.172,
          16.143,
          16.107,
          16.102,
          15.992,
          15.986,
          15.978,
          15.968,
          15.879,
          15.866,
          15.848,
          15.822,
          15.818,
          15.798,
          15.751,
          15.741,
          15.724,
          15.578,
          15.575,
          15.571,
          15.564,
          15.538,
          15.505,
          15.502,
          15.409,
          15.363,
          15.337,
          15.293,
          15.248,
          15.232,
          15.183,
          15.161,
          15.157,
          15.156,
          15.101,
          15.061,
          14.962,
          14.924,
          14.874,
          14.86,
          14.798,
          14.782,
          14.711,
          14.675,
          14.639,
          14.531,
          14.498,
          14.407,
          14.313,
          14.129,
          14.107,
          14.1,
          14.071,
          14.002,
          13.885,
          13.883,
          13.866,
          13.764,
          13.728,
          13.695,
          13.638,
          13.596,
          13.349,
          13.299,
          13.189,
          13.186,
          13.025,
          13.017,
          12.958,
          12.901,
          12.834,
          12.766,
          12.7,
          12.655,
          12.643,
          12.64,
          12.614,
          12.601,
          12.571,
          12.484,
          12.484,
          12.341,
          12.311,
          12.288,
          12.221,
          12.094,
          11.987,
          11.806,
          11.767,
          11.638,
          11.628,
          11.402,
          10.894,
          10.446,
          9.581,
          9.372,
          8.395,
          6.614,
          6.29,
          6.254,
          6.139,
          4.724,
          2.172,
          2.116,
          1.926,
          1.625,
          1.423,
          0.822
         ],
         "yaxis": "y"
        }
       ],
       "layout": {
        "legend": {
         "tracegroupgap": 0
        },
        "template": {
         "data": {
          "bar": [
           {
            "error_x": {
             "color": "#2a3f5f"
            },
            "error_y": {
             "color": "#2a3f5f"
            },
            "marker": {
             "line": {
              "color": "#E5ECF6",
              "width": 0.5
             },
             "pattern": {
              "fillmode": "overlay",
              "size": 10,
              "solidity": 0.2
             }
            },
            "type": "bar"
           }
          ],
          "barpolar": [
           {
            "marker": {
             "line": {
              "color": "#E5ECF6",
              "width": 0.5
             },
             "pattern": {
              "fillmode": "overlay",
              "size": 10,
              "solidity": 0.2
             }
            },
            "type": "barpolar"
           }
          ],
          "carpet": [
           {
            "aaxis": {
             "endlinecolor": "#2a3f5f",
             "gridcolor": "white",
             "linecolor": "white",
             "minorgridcolor": "white",
             "startlinecolor": "#2a3f5f"
            },
            "baxis": {
             "endlinecolor": "#2a3f5f",
             "gridcolor": "white",
             "linecolor": "white",
             "minorgridcolor": "white",
             "startlinecolor": "#2a3f5f"
            },
            "type": "carpet"
           }
          ],
          "choropleth": [
           {
            "colorbar": {
             "outlinewidth": 0,
             "ticks": ""
            },
            "type": "choropleth"
           }
          ],
          "contour": [
           {
            "colorbar": {
             "outlinewidth": 0,
             "ticks": ""
            },
            "colorscale": [
             [
              0,
              "#0d0887"
             ],
             [
              0.1111111111111111,
              "#46039f"
             ],
             [
              0.2222222222222222,
              "#7201a8"
             ],
             [
              0.3333333333333333,
              "#9c179e"
             ],
             [
              0.4444444444444444,
              "#bd3786"
             ],
             [
              0.5555555555555556,
              "#d8576b"
             ],
             [
              0.6666666666666666,
              "#ed7953"
             ],
             [
              0.7777777777777778,
              "#fb9f3a"
             ],
             [
              0.8888888888888888,
              "#fdca26"
             ],
             [
              1,
              "#f0f921"
             ]
            ],
            "type": "contour"
           }
          ],
          "contourcarpet": [
           {
            "colorbar": {
             "outlinewidth": 0,
             "ticks": ""
            },
            "type": "contourcarpet"
           }
          ],
          "heatmap": [
           {
            "colorbar": {
             "outlinewidth": 0,
             "ticks": ""
            },
            "colorscale": [
             [
              0,
              "#0d0887"
             ],
             [
              0.1111111111111111,
              "#46039f"
             ],
             [
              0.2222222222222222,
              "#7201a8"
             ],
             [
              0.3333333333333333,
              "#9c179e"
             ],
             [
              0.4444444444444444,
              "#bd3786"
             ],
             [
              0.5555555555555556,
              "#d8576b"
             ],
             [
              0.6666666666666666,
              "#ed7953"
             ],
             [
              0.7777777777777778,
              "#fb9f3a"
             ],
             [
              0.8888888888888888,
              "#fdca26"
             ],
             [
              1,
              "#f0f921"
             ]
            ],
            "type": "heatmap"
           }
          ],
          "heatmapgl": [
           {
            "colorbar": {
             "outlinewidth": 0,
             "ticks": ""
            },
            "colorscale": [
             [
              0,
              "#0d0887"
             ],
             [
              0.1111111111111111,
              "#46039f"
             ],
             [
              0.2222222222222222,
              "#7201a8"
             ],
             [
              0.3333333333333333,
              "#9c179e"
             ],
             [
              0.4444444444444444,
              "#bd3786"
             ],
             [
              0.5555555555555556,
              "#d8576b"
             ],
             [
              0.6666666666666666,
              "#ed7953"
             ],
             [
              0.7777777777777778,
              "#fb9f3a"
             ],
             [
              0.8888888888888888,
              "#fdca26"
             ],
             [
              1,
              "#f0f921"
             ]
            ],
            "type": "heatmapgl"
           }
          ],
          "histogram": [
           {
            "marker": {
             "pattern": {
              "fillmode": "overlay",
              "size": 10,
              "solidity": 0.2
             }
            },
            "type": "histogram"
           }
          ],
          "histogram2d": [
           {
            "colorbar": {
             "outlinewidth": 0,
             "ticks": ""
            },
            "colorscale": [
             [
              0,
              "#0d0887"
             ],
             [
              0.1111111111111111,
              "#46039f"
             ],
             [
              0.2222222222222222,
              "#7201a8"
             ],
             [
              0.3333333333333333,
              "#9c179e"
             ],
             [
              0.4444444444444444,
              "#bd3786"
             ],
             [
              0.5555555555555556,
              "#d8576b"
             ],
             [
              0.6666666666666666,
              "#ed7953"
             ],
             [
              0.7777777777777778,
              "#fb9f3a"
             ],
             [
              0.8888888888888888,
              "#fdca26"
             ],
             [
              1,
              "#f0f921"
             ]
            ],
            "type": "histogram2d"
           }
          ],
          "histogram2dcontour": [
           {
            "colorbar": {
             "outlinewidth": 0,
             "ticks": ""
            },
            "colorscale": [
             [
              0,
              "#0d0887"
             ],
             [
              0.1111111111111111,
              "#46039f"
             ],
             [
              0.2222222222222222,
              "#7201a8"
             ],
             [
              0.3333333333333333,
              "#9c179e"
             ],
             [
              0.4444444444444444,
              "#bd3786"
             ],
             [
              0.5555555555555556,
              "#d8576b"
             ],
             [
              0.6666666666666666,
              "#ed7953"
             ],
             [
              0.7777777777777778,
              "#fb9f3a"
             ],
             [
              0.8888888888888888,
              "#fdca26"
             ],
             [
              1,
              "#f0f921"
             ]
            ],
            "type": "histogram2dcontour"
           }
          ],
          "mesh3d": [
           {
            "colorbar": {
             "outlinewidth": 0,
             "ticks": ""
            },
            "type": "mesh3d"
           }
          ],
          "parcoords": [
           {
            "line": {
             "colorbar": {
              "outlinewidth": 0,
              "ticks": ""
             }
            },
            "type": "parcoords"
           }
          ],
          "pie": [
           {
            "automargin": true,
            "type": "pie"
           }
          ],
          "scatter": [
           {
            "fillpattern": {
             "fillmode": "overlay",
             "size": 10,
             "solidity": 0.2
            },
            "type": "scatter"
           }
          ],
          "scatter3d": [
           {
            "line": {
             "colorbar": {
              "outlinewidth": 0,
              "ticks": ""
             }
            },
            "marker": {
             "colorbar": {
              "outlinewidth": 0,
              "ticks": ""
             }
            },
            "type": "scatter3d"
           }
          ],
          "scattercarpet": [
           {
            "marker": {
             "colorbar": {
              "outlinewidth": 0,
              "ticks": ""
             }
            },
            "type": "scattercarpet"
           }
          ],
          "scattergeo": [
           {
            "marker": {
             "colorbar": {
              "outlinewidth": 0,
              "ticks": ""
             }
            },
            "type": "scattergeo"
           }
          ],
          "scattergl": [
           {
            "marker": {
             "colorbar": {
              "outlinewidth": 0,
              "ticks": ""
             }
            },
            "type": "scattergl"
           }
          ],
          "scattermapbox": [
           {
            "marker": {
             "colorbar": {
              "outlinewidth": 0,
              "ticks": ""
             }
            },
            "type": "scattermapbox"
           }
          ],
          "scatterpolar": [
           {
            "marker": {
             "colorbar": {
              "outlinewidth": 0,
              "ticks": ""
             }
            },
            "type": "scatterpolar"
           }
          ],
          "scatterpolargl": [
           {
            "marker": {
             "colorbar": {
              "outlinewidth": 0,
              "ticks": ""
             }
            },
            "type": "scatterpolargl"
           }
          ],
          "scatterternary": [
           {
            "marker": {
             "colorbar": {
              "outlinewidth": 0,
              "ticks": ""
             }
            },
            "type": "scatterternary"
           }
          ],
          "surface": [
           {
            "colorbar": {
             "outlinewidth": 0,
             "ticks": ""
            },
            "colorscale": [
             [
              0,
              "#0d0887"
             ],
             [
              0.1111111111111111,
              "#46039f"
             ],
             [
              0.2222222222222222,
              "#7201a8"
             ],
             [
              0.3333333333333333,
              "#9c179e"
             ],
             [
              0.4444444444444444,
              "#bd3786"
             ],
             [
              0.5555555555555556,
              "#d8576b"
             ],
             [
              0.6666666666666666,
              "#ed7953"
             ],
             [
              0.7777777777777778,
              "#fb9f3a"
             ],
             [
              0.8888888888888888,
              "#fdca26"
             ],
             [
              1,
              "#f0f921"
             ]
            ],
            "type": "surface"
           }
          ],
          "table": [
           {
            "cells": {
             "fill": {
              "color": "#EBF0F8"
             },
             "line": {
              "color": "white"
             }
            },
            "header": {
             "fill": {
              "color": "#C8D4E3"
             },
             "line": {
              "color": "white"
             }
            },
            "type": "table"
           }
          ]
         },
         "layout": {
          "annotationdefaults": {
           "arrowcolor": "#2a3f5f",
           "arrowhead": 0,
           "arrowwidth": 1
          },
          "autotypenumbers": "strict",
          "coloraxis": {
           "colorbar": {
            "outlinewidth": 0,
            "ticks": ""
           }
          },
          "colorscale": {
           "diverging": [
            [
             0,
             "#8e0152"
            ],
            [
             0.1,
             "#c51b7d"
            ],
            [
             0.2,
             "#de77ae"
            ],
            [
             0.3,
             "#f1b6da"
            ],
            [
             0.4,
             "#fde0ef"
            ],
            [
             0.5,
             "#f7f7f7"
            ],
            [
             0.6,
             "#e6f5d0"
            ],
            [
             0.7,
             "#b8e186"
            ],
            [
             0.8,
             "#7fbc41"
            ],
            [
             0.9,
             "#4d9221"
            ],
            [
             1,
             "#276419"
            ]
           ],
           "sequential": [
            [
             0,
             "#0d0887"
            ],
            [
             0.1111111111111111,
             "#46039f"
            ],
            [
             0.2222222222222222,
             "#7201a8"
            ],
            [
             0.3333333333333333,
             "#9c179e"
            ],
            [
             0.4444444444444444,
             "#bd3786"
            ],
            [
             0.5555555555555556,
             "#d8576b"
            ],
            [
             0.6666666666666666,
             "#ed7953"
            ],
            [
             0.7777777777777778,
             "#fb9f3a"
            ],
            [
             0.8888888888888888,
             "#fdca26"
            ],
            [
             1,
             "#f0f921"
            ]
           ],
           "sequentialminus": [
            [
             0,
             "#0d0887"
            ],
            [
             0.1111111111111111,
             "#46039f"
            ],
            [
             0.2222222222222222,
             "#7201a8"
            ],
            [
             0.3333333333333333,
             "#9c179e"
            ],
            [
             0.4444444444444444,
             "#bd3786"
            ],
            [
             0.5555555555555556,
             "#d8576b"
            ],
            [
             0.6666666666666666,
             "#ed7953"
            ],
            [
             0.7777777777777778,
             "#fb9f3a"
            ],
            [
             0.8888888888888888,
             "#fdca26"
            ],
            [
             1,
             "#f0f921"
            ]
           ]
          },
          "colorway": [
           "#636efa",
           "#EF553B",
           "#00cc96",
           "#ab63fa",
           "#FFA15A",
           "#19d3f3",
           "#FF6692",
           "#B6E880",
           "#FF97FF",
           "#FECB52"
          ],
          "font": {
           "color": "#2a3f5f"
          },
          "geo": {
           "bgcolor": "white",
           "lakecolor": "white",
           "landcolor": "#E5ECF6",
           "showlakes": true,
           "showland": true,
           "subunitcolor": "white"
          },
          "hoverlabel": {
           "align": "left"
          },
          "hovermode": "closest",
          "mapbox": {
           "style": "light"
          },
          "paper_bgcolor": "white",
          "plot_bgcolor": "#E5ECF6",
          "polar": {
           "angularaxis": {
            "gridcolor": "white",
            "linecolor": "white",
            "ticks": ""
           },
           "bgcolor": "#E5ECF6",
           "radialaxis": {
            "gridcolor": "white",
            "linecolor": "white",
            "ticks": ""
           }
          },
          "scene": {
           "xaxis": {
            "backgroundcolor": "#E5ECF6",
            "gridcolor": "white",
            "gridwidth": 2,
            "linecolor": "white",
            "showbackground": true,
            "ticks": "",
            "zerolinecolor": "white"
           },
           "yaxis": {
            "backgroundcolor": "#E5ECF6",
            "gridcolor": "white",
            "gridwidth": 2,
            "linecolor": "white",
            "showbackground": true,
            "ticks": "",
            "zerolinecolor": "white"
           },
           "zaxis": {
            "backgroundcolor": "#E5ECF6",
            "gridcolor": "white",
            "gridwidth": 2,
            "linecolor": "white",
            "showbackground": true,
            "ticks": "",
            "zerolinecolor": "white"
           }
          },
          "shapedefaults": {
           "line": {
            "color": "#2a3f5f"
           }
          },
          "ternary": {
           "aaxis": {
            "gridcolor": "white",
            "linecolor": "white",
            "ticks": ""
           },
           "baxis": {
            "gridcolor": "white",
            "linecolor": "white",
            "ticks": ""
           },
           "bgcolor": "#E5ECF6",
           "caxis": {
            "gridcolor": "white",
            "linecolor": "white",
            "ticks": ""
           }
          },
          "title": {
           "x": 0.05
          },
          "xaxis": {
           "automargin": true,
           "gridcolor": "white",
           "linecolor": "white",
           "ticks": "",
           "title": {
            "standoff": 15
           },
           "zerolinecolor": "white",
           "zerolinewidth": 2
          },
          "yaxis": {
           "automargin": true,
           "gridcolor": "white",
           "linecolor": "white",
           "ticks": "",
           "title": {
            "standoff": 15
           },
           "zerolinecolor": "white",
           "zerolinewidth": 2
          }
         }
        },
        "title": {
         "text": "Correlation between Vote Average and Popularity"
        },
        "xaxis": {
         "anchor": "y",
         "domain": [
          0,
          1
         ],
         "title": {
          "text": "Vote Average"
         }
        },
        "yaxis": {
         "anchor": "x",
         "domain": [
          0,
          1
         ],
         "title": {
          "text": "Popularity"
         }
        }
       }
      }
     },
     "metadata": {},
     "output_type": "display_data"
    }
   ],
   "source": [
    "# Create a scatter plot to visualize the correlation between vote average and popularity with tooltips\n",
    "fig = px.scatter(pdf, x='vote_average', y='popularity', hover_data=['title'], title='Correlation between Vote Average and Popularity')\n",
    "fig.update_layout(xaxis_title='Vote Average', yaxis_title='Popularity')\n",
    "fig.show()"
   ]
  },
  {
   "cell_type": "code",
   "execution_count": 11,
   "metadata": {},
   "outputs": [
    {
     "data": {
      "application/vnd.plotly.v1+json": {
       "config": {
        "plotlyServerURL": "https://plot.ly"
       },
       "data": [
        {
         "customdata": [
          [
           "Meg 2: The Trench"
          ],
          [
           "Transformers: Rise of the Beasts"
          ],
          [
           "Ant-Man and the Wasp: Quantumania"
          ],
          [
           "Creed III"
          ],
          [
           "Fast X"
          ],
          [
           "Barbie"
          ],
          [
           "The Flash"
          ],
          [
           "Spider-Man: Across the Spider-Verse"
          ],
          [
           "Shazam! Fury of the Gods"
          ],
          [
           "Guardians of the Galaxy Vol. 3"
          ],
          [
           "Puss in Boots: The Last Wish"
          ],
          [
           "John Wick: Chapter 4"
          ],
          [
           "The Super Mario Bros. Movie"
          ],
          [
           "Oppenheimer"
          ],
          [
           "Guardians of the Galaxy Vol. 2"
          ],
          [
           "The Woman King"
          ],
          [
           "Thor: Love and Thunder"
          ],
          [
           "F9"
          ],
          [
           "Creed II"
          ],
          [
           "Jurassic World Dominion"
          ],
          [
           "Black Panther: Wakanda Forever"
          ],
          [
           "Bullet Train"
          ],
          [
           "Avatar: The Way of Water"
          ],
          [
           "Sonic the Hedgehog 2"
          ],
          [
           "Top Gun: Maverick"
          ],
          [
           "Avatar"
          ],
          [
           "Encanto"
          ],
          [
           "Minions: The Rise of Gru"
          ],
          [
           "Prey"
          ],
          [
           "Black Adam"
          ],
          [
           "Turning Red"
          ],
          [
           "Doctor Strange in the Multiverse of Madness"
          ],
          [
           "Venom: Let There Be Carnage"
          ],
          [
           "Guardians of the Galaxy"
          ],
          [
           "DC League of Super-Pets"
          ],
          [
           "Spider-Man: No Way Home"
          ],
          [
           "Shrek"
          ],
          [
           "Avengers: Endgame"
          ],
          [
           "Transformers: Age of Extinction"
          ],
          [
           "Sing 2"
          ],
          [
           "Fantastic Beasts: The Secrets of Dumbledore"
          ],
          [
           "Avengers: Infinity War"
          ],
          [
           "Fifty Shades Freed"
          ],
          [
           "Meet the Robinsons"
          ],
          [
           "Titanic"
          ],
          [
           "The Batman"
          ],
          [
           "Morbius"
          ],
          [
           "The Lost City"
          ],
          [
           "Shrek 2"
          ],
          [
           "Shang-Chi and the Legend of the Ten Rings"
          ],
          [
           "Interstellar"
          ],
          [
           "Uncharted"
          ],
          [
           "A Good Day to Die Hard"
          ],
          [
           "Coco"
          ],
          [
           "The Suicide Squad"
          ],
          [
           "Samaritan"
          ],
          [
           "The Northman"
          ],
          [
           "Dungeons & Dragons: Honor Among Thieves"
          ],
          [
           "Shrek Forever After"
          ],
          [
           "Pirates of the Caribbean: At World's End"
          ],
          [
           "Pirates of the Caribbean: On Stranger Tides"
          ],
          [
           "The Emperor's New Groove"
          ],
          [
           "The Truman Show"
          ],
          [
           "Transformers: The Last Knight"
          ],
          [
           "Luca"
          ],
          [
           "The Lion King"
          ],
          [
           "Blade Runner 2049"
          ],
          [
           "Fast & Furious Presents: Hobbs & Shaw"
          ],
          [
           "Puss in Boots"
          ],
          [
           "Pirates of the Caribbean: The Curse of the Black Pearl"
          ],
          [
           "Ratatouille"
          ],
          [
           "Furious 7"
          ],
          [
           "The Matrix Resurrections"
          ],
          [
           "The Amazing Spider-Man 2"
          ],
          [
           "Ant-Man"
          ],
          [
           "The Bad Guys"
          ],
          [
           "Spider-Man: Homecoming"
          ],
          [
           "Iron Man"
          ],
          [
           "Prometheus"
          ],
          [
           "The Wolf of Wall Street"
          ],
          [
           "The Lord of the Rings: The Fellowship of the Ring"
          ],
          [
           "Thor: The Dark World"
          ],
          [
           "Air"
          ],
          [
           "Frozen II"
          ],
          [
           "Fury"
          ],
          [
           "Zootopia"
          ],
          [
           "Real Steel"
          ],
          [
           "The Fate of the Furious"
          ],
          [
           "Cruella"
          ],
          [
           "Raya and the Last Dragon"
          ],
          [
           "Ice Age"
          ],
          [
           "The Princess and the Frog"
          ],
          [
           "Iron Man 2"
          ],
          [
           "Spider-Man: Into the Spider-Verse"
          ],
          [
           "Eternals"
          ],
          [
           "Space Jam: A New Legacy"
          ],
          [
           "Dune"
          ],
          [
           "Cars 3"
          ],
          [
           "Red Notice"
          ],
          [
           "Clifford the Big Red Dog"
          ],
          [
           "Monsters, Inc."
          ],
          [
           "Doctor Strange"
          ],
          [
           "Jurassic World"
          ],
          [
           "The Dark Knight"
          ],
          [
           "Thor"
          ],
          [
           "The Amazing Spider-Man"
          ],
          [
           "Shrek the Third"
          ],
          [
           "Maleficent: Mistress of Evil"
          ],
          [
           "Thor: Ragnarok"
          ],
          [
           "A Man Called Otto"
          ],
          [
           "The Avengers"
          ],
          [
           "Terminator Genisys"
          ],
          [
           "Spider-Man: Far From Home"
          ],
          [
           "Coraline"
          ],
          [
           "Soul"
          ],
          [
           "Charlie and the Chocolate Factory"
          ],
          [
           "Jurassic World: Fallen Kingdom"
          ],
          [
           "Big Hero 6"
          ],
          [
           "Frozen"
          ],
          [
           "The Gray Man"
          ],
          [
           "Deadpool"
          ],
          [
           "Pacific Rim"
          ],
          [
           "Toy Story 2"
          ],
          [
           "Pirates of the Caribbean: Dead Man's Chest"
          ],
          [
           "Cars 2"
          ],
          [
           "Teenage Mutant Ninja Turtles"
          ],
          [
           "The Hobbit: The Battle of the Five Armies"
          ],
          [
           "The Tomorrow War"
          ],
          [
           "Spider-Man"
          ],
          [
           "The Adam Project"
          ],
          [
           "Fifty Shades Darker"
          ],
          [
           "The Equalizer"
          ],
          [
           "Up"
          ],
          [
           "The Croods: A New Age"
          ],
          [
           "How to Train Your Dragon: The Hidden World"
          ],
          [
           "Joker"
          ],
          [
           "American Sniper"
          ],
          [
           "Mission: Impossible - Fallout"
          ],
          [
           "No Time to Die"
          ],
          [
           "Wonder Woman 1984"
          ],
          [
           "Wreck-It Ralph"
          ],
          [
           "Lightyear"
          ],
          [
           "Deadpool 2"
          ],
          [
           "Free Guy"
          ],
          [
           "Ted 2"
          ],
          [
           "Aquaman"
          ],
          [
           "Avengers: Age of Ultron"
          ],
          [
           "Inside Out"
          ],
          [
           "Saving Private Ryan"
          ],
          [
           "Hercules"
          ],
          [
           "World War Z"
          ],
          [
           "Kung Fu Panda"
          ],
          [
           "Pirates of the Caribbean: Dead Men Tell No Tales"
          ],
          [
           "Babylon"
          ],
          [
           "Zack Snyder's Justice League"
          ],
          [
           "Moonfall"
          ],
          [
           "The Mummy"
          ],
          [
           "Tangled"
          ],
          [
           "It Chapter Two"
          ],
          [
           "San Andreas"
          ],
          [
           "John Wick: Chapter 3 - Parabellum"
          ],
          [
           "Nope"
          ],
          [
           "Rambo: Last Blood"
          ],
          [
           "Black Widow"
          ],
          [
           "Batman v Superman: Dawn of Justice"
          ],
          [
           "The Lord of the Rings: The Return of the King"
          ],
          [
           "The Hobbit: An Unexpected Journey"
          ],
          [
           "Sonic the Hedgehog"
          ],
          [
           "Scooby-Doo"
          ],
          [
           "Fight Club"
          ],
          [
           "How to Train Your Dragon 2"
          ],
          [
           "Sing"
          ],
          [
           "Kingsman: The Secret Service"
          ],
          [
           "xXx: Return of Xander Cage"
          ],
          [
           "Godzilla vs. Kong"
          ],
          [
           "Captain America: Civil War"
          ],
          [
           "Penguins of Madagascar"
          ],
          [
           "Inception"
          ],
          [
           "The SpongeBob Movie: Sponge on the Run"
          ],
          [
           "Bad Boys for Life"
          ],
          [
           "Grown Ups"
          ],
          [
           "Rambo"
          ],
          [
           "The Green Mile"
          ],
          [
           "The Call of the Wild"
          ],
          [
           "Pixels"
          ],
          [
           "The Dark Knight Rises"
          ],
          [
           "I Am Legend"
          ],
          [
           "Kung Fu Panda 3"
          ],
          [
           "Maleficent"
          ],
          [
           "Journey 2: The Mysterious Island"
          ],
          [
           "Madagascar"
          ],
          [
           "Spider-Man 3"
          ],
          [
           "Tears of the Sun"
          ],
          [
           "Exodus: Gods and Kings"
          ],
          [
           "Pacific Rim: Uprising"
          ],
          [
           "Cinderella"
          ],
          [
           "Birds of Prey (and the Fantabulous Emancipation of One Harley Quinn)"
          ],
          [
           "A Bug's Life"
          ],
          [
           "The Lord of the Rings: The Two Towers"
          ],
          [
           "Kung Fu Panda 2"
          ],
          [
           "Extraction"
          ],
          [
           "Finding Nemo"
          ],
          [
           "Terminator 2: Judgment Day"
          ],
          [
           "Fantastic Beasts and Where to Find Them"
          ],
          [
           "The King's Man"
          ],
          [
           "How to Train Your Dragon"
          ],
          [
           "Kingsman: The Golden Circle"
          ],
          [
           "2012"
          ],
          [
           "Justice League"
          ],
          [
           "Kong: Skull Island"
          ],
          [
           "Monster Hunter"
          ],
          [
           "Cars"
          ],
          [
           "The Simpsons Movie"
          ],
          [
           "Spirit: Stallion of the Cimarron"
          ],
          [
           "Grown Ups 2"
          ],
          [
           "Madagascar 3: Europe's Most Wanted"
          ],
          [
           "The Hangover Part III"
          ],
          [
           "Star Wars: The Last Jedi"
          ],
          [
           "Mulan"
          ],
          [
           "Man of Steel"
          ],
          [
           "Toy Story 3"
          ],
          [
           "Toy Story 4"
          ],
          [
           "Logan"
          ],
          [
           "Rampage"
          ],
          [
           "Jungle Cruise"
          ],
          [
           "Catch Me If You Can"
          ],
          [
           "The Godfather Part III"
          ],
          [
           "Jumanji: The Next Level"
          ],
          [
           "Venom"
          ],
          [
           "John Carter"
          ],
          [
           "Django Unchained"
          ],
          [
           "Tarzan"
          ],
          [
           "The Hangover Part II"
          ],
          [
           "Brave"
          ],
          [
           "The Matrix"
          ],
          [
           "Heat"
          ],
          [
           "Alien: Covenant"
          ],
          [
           "Inglourious Basterds"
          ],
          [
           "The Croods"
          ],
          [
           "The Mummy Returns"
          ],
          [
           "The Incredibles"
          ],
          [
           "Mission: Impossible - Rogue Nation"
          ],
          [
           "Just Go with It"
          ],
          [
           "Mission: Impossible III"
          ],
          [
           "Madagascar: Escape 2 Africa"
          ],
          [
           "The Hobbit: The Desolation of Smaug"
          ],
          [
           "Despicable Me"
          ],
          [
           "Rio"
          ],
          [
           "Ralph Breaks the Internet"
          ],
          [
           "Abraham Lincoln: Vampire Hunter"
          ],
          [
           "Wonder Woman"
          ],
          [
           "Ted"
          ],
          [
           "The Adventures of Sharkboy and Lavagirl"
          ],
          [
           "The Secret Life of Pets 2"
          ],
          [
           "Star Wars: The Force Awakens"
          ],
          [
           "Rise of the Planet of the Apes"
          ],
          [
           "Gone Girl"
          ],
          [
           "Ice Age: Continental Drift"
          ],
          [
           "Snake Eyes: G.I. Joe Origins"
          ],
          [
           "Ghostbusters: Afterlife"
          ],
          [
           "Incredibles 2"
          ],
          [
           "Tom & Jerry"
          ],
          [
           "Constantine"
          ],
          [
           "Brother Bear"
          ],
          [
           "Monsters University"
          ],
          [
           "WALL·E"
          ],
          [
           "Godzilla: King of the Monsters"
          ],
          [
           "Black Hawk Down"
          ],
          [
           "Green Lantern"
          ],
          [
           "The Incredible Hulk"
          ],
          [
           "Clash of the Titans"
          ],
          [
           "Ice Age: The Meltdown"
          ],
          [
           "13 Hours: The Secret Soldiers of Benghazi"
          ],
          [
           "Hancock"
          ],
          [
           "Rio 2"
          ],
          [
           "Ghost Rider: Spirit of Vengeance"
          ],
          [
           "Hansel & Gretel: Witch Hunters"
          ],
          [
           "The Meg"
          ],
          [
           "Ice Age: Dawn of the Dinosaurs"
          ],
          [
           "Bridge to Terabithia"
          ],
          [
           "Lilo & Stitch"
          ],
          [
           "Captain Marvel"
          ],
          [
           "Tenet"
          ],
          [
           "Beauty and the Beast"
          ],
          [
           "Teenage Mutant Ninja Turtles: Out of the Shadows"
          ],
          [
           "Black Panther"
          ],
          [
           "Mad Max: Fury Road"
          ],
          [
           "Rango"
          ],
          [
           "Terminator Salvation"
          ],
          [
           "The Expendables"
          ],
          [
           "Dawn of the Planet of the Apes"
          ],
          [
           "Rush Hour 3"
          ],
          [
           "300: Rise of an Empire"
          ],
          [
           "Ghost Rider"
          ],
          [
           "Prince of Persia: The Sands of Time"
          ],
          [
           "Gladiator"
          ],
          [
           "The Expendables 3"
          ],
          [
           "The Good Dinosaur"
          ],
          [
           "Alita: Battle Angel"
          ],
          [
           "That's My Boy"
          ],
          [
           "Megamind"
          ],
          [
           "Battle: Los Angeles"
          ],
          [
           "Now You See Me"
          ],
          [
           "Star Wars: The Rise of Skywalker"
          ],
          [
           "Batman Begins"
          ],
          [
           "Jack Reacher"
          ],
          [
           "The Pursuit of Happyness"
          ],
          [
           "The Fifth Element"
          ],
          [
           "Shooter"
          ],
          [
           "Scott Pilgrim vs. the World"
          ],
          [
           "300"
          ],
          [
           "Meet Joe Black"
          ],
          [
           "Hotel Transylvania 3: Summer Vacation"
          ],
          [
           "Happy Feet"
          ],
          [
           "How the Grinch Stole Christmas"
          ],
          [
           "The Patriot"
          ],
          [
           "Terminator: Dark Fate"
          ],
          [
           "The Hunchback of Notre Dame"
          ],
          [
           "X-Men: Days of Future Past"
          ],
          [
           "Iron Man 3"
          ],
          [
           "Perfume: The Story of a Murderer"
          ],
          [
           "Fantastic Beasts: The Crimes of Grindelwald"
          ],
          [
           "Bolt"
          ],
          [
           "The Cat in the Hat"
          ],
          [
           "Power Rangers"
          ],
          [
           "American Reunion"
          ],
          [
           "Underworld: Awakening"
          ],
          [
           "Dark Phoenix"
          ],
          [
           "Ant-Man and the Wasp"
          ],
          [
           "Suicide Squad"
          ],
          [
           "The Book of Life"
          ],
          [
           "The Wolfman"
          ],
          [
           "Rise of the Guardians"
          ],
          [
           "Captain America: The First Avenger"
          ],
          [
           "Garfield"
          ],
          [
           "The Predator"
          ],
          [
           "The Mummy: Tomb of the Dragon Emperor"
          ],
          [
           "Trolls"
          ],
          [
           "Superman"
          ],
          [
           "Don't Look Up"
          ],
          [
           "Jupiter Ascending"
          ],
          [
           "Alpha"
          ],
          [
           "Aladdin"
          ],
          [
           "Mission: Impossible"
          ],
          [
           "G.I. Joe: The Rise of Cobra"
          ],
          [
           "X-Men: Apocalypse"
          ],
          [
           "White House Down"
          ],
          [
           "Shutter Island"
          ],
          [
           "6 Underground"
          ],
          [
           "The Martian"
          ],
          [
           "Need for Speed"
          ],
          [
           "Warcraft"
          ],
          [
           "Godzilla"
          ],
          [
           "Elvis"
          ],
          [
           "Godzilla"
          ],
          [
           "Baywatch"
          ],
          [
           "Hercules"
          ],
          [
           "King Richard"
          ],
          [
           "Angels & Demons"
          ],
          [
           "Chicken Little"
          ],
          [
           "Die Hard: With a Vengeance"
          ],
          [
           "Hellboy"
          ],
          [
           "Ford v Ferrari"
          ],
          [
           "The Last Airbender"
          ],
          [
           "Shark Tale"
          ],
          [
           "Onward"
          ],
          [
           "Battleship"
          ],
          [
           "Van Helsing"
          ],
          [
           "Edge of Tomorrow"
          ],
          [
           "The Magnificent Seven"
          ],
          [
           "Ferdinand"
          ],
          [
           "A Quiet Place Part II"
          ],
          [
           "Skyfall"
          ],
          [
           "Tomorrowland"
          ],
          [
           "Pocahontas"
          ],
          [
           "Armageddon"
          ],
          [
           "Enchanted"
          ],
          [
           "Tomb Raider"
          ],
          [
           "Fantastic Four"
          ],
          [
           "Home on the Range"
          ],
          [
           "Finding Dory"
          ],
          [
           "Dinosaur"
          ],
          [
           "King Kong"
          ],
          [
           "Valerian and the City of a Thousand Planets"
          ],
          [
           "Despicable Me 2"
          ],
          [
           "The Curious Case of Benjamin Button"
          ],
          [
           "Solo: A Star Wars Story"
          ],
          [
           "Gods of Egypt"
          ],
          [
           "Casino Royale"
          ],
          [
           "Rogue One: A Star Wars Story"
          ],
          [
           "Men in Black"
          ],
          [
           "Night at the Museum: Secret of the Tomb"
          ],
          [
           "Hulk"
          ],
          [
           "Alice Through the Looking Glass"
          ],
          [
           "The Grinch"
          ],
          [
           "Knowing"
          ],
          [
           "The Lorax"
          ],
          [
           "Wrath of the Titans"
          ],
          [
           "War for the Planet of the Apes"
          ],
          [
           "Jack the Giant Slayer"
          ],
          [
           "The SpongeBob Movie: Sponge Out of Water"
          ],
          [
           "Jack Reacher: Never Go Back"
          ],
          [
           "The Angry Birds Movie"
          ],
          [
           "Hotel Transylvania 2"
          ],
          [
           "The Book of Eli"
          ],
          [
           "Anastasia"
          ],
          [
           "The Legend of Tarzan"
          ],
          [
           "Alvin and the Chipmunks"
          ],
          [
           "The Prince of Egypt"
          ],
          [
           "Treasure Planet"
          ],
          [
           "The Road to El Dorado"
          ],
          [
           "Star Trek"
          ],
          [
           "Nightmare Alley"
          ],
          [
           "The Polar Express"
          ],
          [
           "Casper"
          ],
          [
           "Olympus Has Fallen"
          ],
          [
           "Cloudy with a Chance of Meatballs 2"
          ],
          [
           "Oblivion"
          ],
          [
           "The Expendables 2"
          ],
          [
           "Pokémon Detective Pikachu"
          ],
          [
           "Conan the Barbarian"
          ],
          [
           "The Last Witch Hunter"
          ],
          [
           "Murder on the Orient Express"
          ],
          [
           "Bruce Almighty"
          ],
          [
           "Planet of the Apes"
          ],
          [
           "Hitman's Wife's Bodyguard"
          ],
          [
           "Bumblebee"
          ],
          [
           "Independence Day"
          ],
          [
           "The Great Gatsby"
          ],
          [
           "Star Trek Into Darkness"
          ],
          [
           "The Matrix Reloaded"
          ],
          [
           "Asterix & Obelix: Mission Cleopatra"
          ],
          [
           "The A-Team"
          ],
          [
           "The Emoji Movie"
          ],
          [
           "The Longest Yard"
          ],
          [
           "Focus"
          ],
          [
           "The Mask of Zorro"
          ],
          [
           "War of the Worlds"
          ],
          [
           "Star Wars: Episode II - Attack of the Clones"
          ],
          [
           "Scoob!"
          ],
          [
           "Zodiac"
          ],
          [
           "Indiana Jones and the Kingdom of the Crystal Skull"
          ],
          [
           "Home"
          ],
          [
           "xXx"
          ],
          [
           "Dolittle"
          ],
          [
           "Little Man"
          ],
          [
           "Ocean's Eleven"
          ],
          [
           "Stuart Little"
          ],
          [
           "The Day the Earth Stood Still"
          ],
          [
           "Independence Day: Resurgence"
          ],
          [
           "Ice Age: Collision Course"
          ],
          [
           "King Arthur: Legend of the Sword"
          ],
          [
           "Star Wars: Episode III - Revenge of the Sith"
          ],
          [
           "True Lies"
          ],
          [
           "Peter Pan"
          ],
          [
           "The Matrix Revolutions"
          ],
          [
           "Kubo and the Two Strings"
          ],
          [
           "1917"
          ],
          [
           "Annie"
          ],
          [
           "Geostorm"
          ],
          [
           "Death on the Nile"
          ],
          [
           "The Iron Giant"
          ],
          [
           "TRON: Legacy"
          ],
          [
           "The Greatest Showman"
          ],
          [
           "Watchmen"
          ],
          [
           "Sin City: A Dame to Kill For"
          ],
          [
           "V for Vendetta"
          ],
          [
           "50 First Dates"
          ],
          [
           "Ocean's Eight"
          ],
          [
           "Deep Impact"
          ],
          [
           "Alvin and the Chipmunks: Chipwrecked"
          ],
          [
           "Captain America: The Winter Soldier"
          ],
          [
           "Alvin and the Chipmunks: The Squeakquel"
          ],
          [
           "The Smurfs"
          ],
          [
           "Batman Forever"
          ],
          [
           "National Treasure"
          ],
          [
           "Hotel Transylvania"
          ],
          [
           "Star Wars: Episode I - The Phantom Menace"
          ],
          [
           "Sully"
          ],
          [
           "Once Upon a Time… in Hollywood"
          ],
          [
           "Escape Plan"
          ],
          [
           "Snow White and the Huntsman"
          ],
          [
           "Goosebumps"
          ],
          [
           "The Mummy"
          ],
          [
           "The Jungle Book"
          ],
          [
           "Blade II"
          ],
          [
           "Men in Black II"
          ],
          [
           "Trolls World Tour"
          ],
          [
           "The Mitchells vs. the Machines"
          ],
          [
           "Bee Movie"
          ],
          [
           "Fantastic Four"
          ],
          [
           "Cowboys & Aliens"
          ],
          [
           "London Has Fallen"
          ],
          [
           "The Great Wall"
          ],
          [
           "Inkheart"
          ],
          [
           "Night at the Museum"
          ],
          [
           "What Women Want"
          ],
          [
           "Monster House"
          ],
          [
           "Me, Myself & Irene"
          ],
          [
           "Signs"
          ],
          [
           "Zathura: A Space Adventure"
          ],
          [
           "Batman Returns"
          ],
          [
           "2 Guns"
          ],
          [
           "Storks"
          ],
          [
           "Ghost in the Shell"
          ],
          [
           "The Day After Tomorrow"
          ],
          [
           "The Last Samurai"
          ],
          [
           "Silent Hill"
          ],
          [
           "R.I.P.D."
          ],
          [
           "American Gangster"
          ],
          [
           "Starship Troopers"
          ],
          [
           "The Departed"
          ],
          [
           "The Ring Two"
          ],
          [
           "Central Intelligence"
          ],
          [
           "Flushed Away"
          ],
          [
           "Red Dawn"
          ],
          [
           "Ghostbusters"
          ],
          [
           "Despicable Me 3"
          ],
          [
           "Man on Fire"
          ],
          [
           "Men in Black 3"
          ],
          [
           "Underworld: Evolution"
          ],
          [
           "Everest"
          ],
          [
           "Herbie Fully Loaded"
          ],
          [
           "Superman II"
          ],
          [
           "Star Trek Beyond"
          ],
          [
           "Fantastic Four: Rise of the Silver Surfer"
          ],
          [
           "Rambo III"
          ],
          [
           "Knight and Day"
          ],
          [
           "Men in Black: International"
          ],
          [
           "Point Break"
          ],
          [
           "Mr. & Mrs. Smith"
          ],
          [
           "The 13th Warrior"
          ],
          [
           "Pearl Harbor"
          ],
          [
           "Big Fish"
          ],
          [
           "A.I. Artificial Intelligence"
          ],
          [
           "The Adventures of Tintin"
          ],
          [
           "Due Date"
          ],
          [
           "The Rock"
          ],
          [
           "Sinbad: Legend of the Seven Seas"
          ],
          [
           "Nutty Professor II: The Klumps"
          ],
          [
           "Cloudy with a Chance of Meatballs"
          ],
          [
           "The BFG"
          ],
          [
           "The Devil's Advocate"
          ],
          [
           "Mamma Mia!"
          ],
          [
           "Quantum of Solace"
          ],
          [
           "Life of Pi"
          ],
          [
           "Hellboy"
          ],
          [
           "RED"
          ],
          [
           "Gemini Man"
          ],
          [
           "Charlie's Angels: Full Throttle"
          ],
          [
           "Elysium"
          ],
          [
           "Sherlock Holmes: A Game of Shadows"
          ],
          [
           "Evolution"
          ],
          [
           "Smurfs: The Lost Village"
          ],
          [
           "The Lego Batman Movie"
          ],
          [
           "The Da Vinci Code"
          ],
          [
           "Immortals"
          ],
          [
           "Salt"
          ],
          [
           "A Beautiful Mind"
          ],
          [
           "Amsterdam"
          ],
          [
           "Charlie's Angels"
          ],
          [
           "Die Hard 2"
          ],
          [
           "Midway"
          ],
          [
           "The Old Guard"
          ],
          [
           "Mr. Peabody & Sherman"
          ],
          [
           "Sherlock Holmes"
          ],
          [
           "The Tuxedo"
          ],
          [
           "You Don't Mess with the Zohan"
          ],
          [
           "Fool's Gold"
          ],
          [
           "Enemy at the Gates"
          ],
          [
           "Spectre"
          ],
          [
           "Greyhound"
          ],
          [
           "Robin Hood"
          ],
          [
           "Total Recall"
          ],
          [
           "AVP: Alien vs. Predator"
          ],
          [
           "Poseidon"
          ],
          [
           "The Dictator"
          ],
          [
           "Kingdom of Heaven"
          ],
          [
           "Austin Powers in Goldmember"
          ],
          [
           "Hellboy II: The Golden Army"
          ],
          [
           "Minions"
          ],
          [
           "The World Is Not Enough"
          ],
          [
           "Sleepy Hollow"
          ],
          [
           "Lara Croft: Tomb Raider - The Cradle of Life"
          ],
          [
           "Night at the Museum: Battle of the Smithsonian"
          ],
          [
           "Tropic Thunder"
          ],
          [
           "Batman & Robin"
          ],
          [
           "Antz"
          ],
          [
           "Interview with the Vampire"
          ],
          [
           "Blood Diamond"
          ],
          [
           "American Made"
          ],
          [
           "The Pacifier"
          ],
          [
           "I, Robot"
          ],
          [
           "Daredevil"
          ],
          [
           "Gone in Sixty Seconds"
          ],
          [
           "Assassin's Creed"
          ],
          [
           "The Nutcracker and the Four Realms"
          ],
          [
           "Robots"
          ],
          [
           "Monsters vs Aliens"
          ],
          [
           "Now You See Me 2"
          ],
          [
           "Over the Hedge"
          ],
          [
           "The Angry Birds Movie 2"
          ],
          [
           "Total Recall"
          ],
          [
           "Abominable"
          ],
          [
           "Where the Wild Things Are"
          ],
          [
           "The Bourne Legacy"
          ],
          [
           "Blade: Trinity"
          ],
          [
           "The Ridiculous 6"
          ],
          [
           "The Other Guys"
          ],
          [
           "Crazy, Stupid, Love."
          ],
          [
           "Turbo"
          ],
          [
           "Click"
          ],
          [
           "Yes Man"
          ],
          [
           "Jurassic Park"
          ],
          [
           "101 Dalmatians"
          ],
          [
           "Spies in Disguise"
          ],
          [
           "After Earth"
          ],
          [
           "Horton Hears a Who!"
          ],
          [
           "Stuart Little 2"
          ],
          [
           "Con Air"
          ],
          [
           "The Happening"
          ],
          [
           "Passengers"
          ],
          [
           "Ben-Hur"
          ],
          [
           "Event Horizon"
          ],
          [
           "Garfield: A Tail of Two Kitties"
          ],
          [
           "The Little Prince"
          ],
          [
           "The Core"
          ],
          [
           "The New Mutants"
          ],
          [
           "Chaos Walking"
          ],
          [
           "22 Jump Street"
          ],
          [
           "Super 8"
          ],
          [
           "RV"
          ],
          [
           "Anger Management"
          ],
          [
           "Happy Feet Two"
          ],
          [
           "National Treasure: Book of Secrets"
          ],
          [
           "Planes"
          ],
          [
           "Cast Away"
          ],
          [
           "The Bourne Identity"
          ],
          [
           "A Christmas Carol"
          ],
          [
           "The Game"
          ],
          [
           "The Lego Movie"
          ],
          [
           "The Smurfs 2"
          ],
          [
           "Daddy Day Care"
          ],
          [
           "Transformers: Dark of the Moon"
          ],
          [
           "The Tourist"
          ],
          [
           "Sex and the City 2"
          ],
          [
           "Allied"
          ],
          [
           "47 Ronin"
          ],
          [
           "Blue Streak"
          ],
          [
           "S.W.A.T."
          ],
          [
           "Marley & Me"
          ],
          [
           "House of Gucci"
          ],
          [
           "Dracula Untold"
          ],
          [
           "The Secret Life of Walter Mitty"
          ],
          [
           "Braveheart"
          ],
          [
           "Spider-Man 2"
          ],
          [
           "Alvin and the Chipmunks: The Road Chip"
          ],
          [
           "Live Free or Die Hard"
          ],
          [
           "The Bone Collector"
          ],
          [
           "Space Jam"
          ],
          [
           "The Irishman"
          ],
          [
           "Alien Resurrection"
          ],
          [
           "Zoolander 2"
          ],
          [
           "Cold Pursuit"
          ],
          [
           "Sweeney Todd: The Demon Barber of Fleet Street"
          ],
          [
           "Cliffhanger"
          ],
          [
           "Last Action Hero"
          ],
          [
           "A Knight's Tale"
          ],
          [
           "As Good as It Gets"
          ],
          [
           "Gravity"
          ],
          [
           "George of the Jungle"
          ],
          [
           "The Lone Ranger"
          ],
          [
           "Noah"
          ],
          [
           "The Time Machine"
          ],
          [
           "Son of the Mask"
          ],
          [
           "Who Framed Roger Rabbit"
          ],
          [
           "The Lego Movie 2: The Second Part"
          ],
          [
           "Jason Bourne"
          ],
          [
           "Atlantis: The Lost Empire"
          ],
          [
           "Daddy's Home 2"
          ],
          [
           "3:10 to Yuma"
          ],
          [
           "Collateral"
          ],
          [
           "Artemis Fowl"
          ],
          [
           "Die Another Day"
          ],
          [
           "G.I. Joe: Retaliation"
          ],
          [
           "Children of Men"
          ],
          [
           "Deepwater Horizon"
          ],
          [
           "Evan Almighty"
          ],
          [
           "Minority Report"
          ],
          [
           "The Island"
          ],
          [
           "Life"
          ],
          [
           "Spectral"
          ],
          [
           "Dumbo"
          ],
          [
           "Superman Returns"
          ],
          [
           "Around the World in 80 Days"
          ],
          [
           "Lara Croft: Tomb Raider"
          ],
          [
           "The Judge"
          ],
          [
           "Unbreakable"
          ],
          [
           "The Scorpion King"
          ],
          [
           "The X Files"
          ],
          [
           "Scooby-Doo 2: Monsters Unleashed"
          ],
          [
           "Alien³"
          ],
          [
           "Lord of War"
          ],
          [
           "Unbroken"
          ],
          [
           "Isle of Dogs"
          ],
          [
           "The Taking of Pelham 1 2 3"
          ],
          [
           "The Ant Bully"
          ],
          [
           "Double Jeopardy"
          ],
          [
           "Bright"
          ],
          [
           "Epic"
          ],
          [
           "Priest"
          ],
          [
           "Judge Dredd"
          ],
          [
           "Volcano"
          ],
          [
           "Face/Off"
          ],
          [
           "Dreamcatcher"
          ],
          [
           "Blackhat"
          ],
          [
           "RoboCop"
          ],
          [
           "The Forbidden Kingdom"
          ],
          [
           "What Dreams May Come"
          ],
          [
           "End of Days"
          ],
          [
           "Days of Thunder"
          ],
          [
           "Beverly Hills Cop III"
          ],
          [
           "ParaNorman"
          ],
          [
           "Ocean's Twelve"
          ],
          [
           "Year One"
          ],
          [
           "Robin Hood"
          ],
          [
           "Couples Retreat"
          ],
          [
           "Déjà Vu"
          ],
          [
           "RED 2"
          ],
          [
           "Zookeeper"
          ],
          [
           "Into the Blue"
          ],
          [
           "Casino"
          ],
          [
           "Underwater"
          ],
          [
           "Coming 2 America"
          ],
          [
           "Cats & Dogs"
          ],
          [
           "World Trade Center"
          ],
          [
           "Stargate"
          ],
          [
           "Demolition Man"
          ],
          [
           "Tomorrow Never Dies"
          ],
          [
           "Land of the Lost"
          ],
          [
           "Eraser"
          ],
          [
           "Inferno"
          ],
          [
           "Catwoman"
          ],
          [
           "Hitch"
          ],
          [
           "Jack and Jill"
          ],
          [
           "The Rundown"
          ],
          [
           "Bedtime Stories"
          ],
          [
           "First Man"
          ],
          [
           "The Boxtrolls"
          ],
          [
           "Jumper"
          ],
          [
           "State of Play"
          ],
          [
           "The Holiday"
          ],
          [
           "Astérix at the Olympic Games"
          ],
          [
           "Transformers: Revenge of the Fallen"
          ],
          [
           "Reminiscence"
          ],
          [
           "Moulin Rouge!"
          ],
          [
           "The Mule"
          ],
          [
           "Daddy's Home"
          ],
          [
           "Walking Tall"
          ],
          [
           "Spy"
          ],
          [
           "Twister"
          ],
          [
           "The League of Extraordinary Gentlemen"
          ],
          [
           "Cloud Atlas"
          ],
          [
           "The Three Musketeers"
          ],
          [
           "Bicentennial Man"
          ],
          [
           "Hostage"
          ],
          [
           "Shanghai Noon"
          ],
          [
           "The Huntsman: Winter's War"
          ],
          [
           "The Dark Tower"
          ],
          [
           "Bullet to the Head"
          ],
          [
           "Vanilla Sky"
          ],
          [
           "We Were Soldiers"
          ],
          [
           "Tango & Cash"
          ],
          [
           "Dark Shadows"
          ],
          [
           "Date Night"
          ],
          [
           "The Terminal"
          ],
          [
           "Patch Adams"
          ],
          [
           "Death Becomes Her"
          ],
          [
           "Memoirs of a Geisha"
          ],
          [
           "Jack Ryan: Shadow Recruit"
          ],
          [
           "The Bourne Supremacy"
          ],
          [
           "Shanghai Knights"
          ],
          [
           "Jarhead"
          ],
          [
           "Safe House"
          ],
          [
           "King Arthur"
          ],
          [
           "Arthur and the Invisibles"
          ],
          [
           "City of Angels"
          ],
          [
           "Waterworld"
          ],
          [
           "Contagion"
          ],
          [
           "Gangs of New York"
          ],
          [
           "Jerry Maguire"
          ],
          [
           "Into the Storm"
          ],
          [
           "Contact"
          ],
          [
           "Mars Attacks!"
          ],
          [
           "The Hitchhiker's Guide to the Galaxy"
          ],
          [
           "War Horse"
          ],
          [
           "The Man from U.N.C.L.E."
          ],
          [
           "Any Given Sunday"
          ],
          [
           "Open Season"
          ],
          [
           "GoldenEye"
          ],
          [
           "Charlotte's Web"
          ],
          [
           "The Bourne Ultimatum"
          ],
          [
           "The Italian Job"
          ],
          [
           "Hollow Man"
          ],
          [
           "Unstoppable"
          ],
          [
           "Master and Commander: The Far Side of the World"
          ],
          [
           "The Sorcerer's Apprentice"
          ],
          [
           "Captain Phillips"
          ],
          [
           "Get Smart"
          ],
          [
           "Mary Poppins Returns"
          ],
          [
           "Planet 51"
          ],
          [
           "Seven Years in Tibet"
          ],
          [
           "Looney Tunes: Back in Action"
          ],
          [
           "Dante's Peak"
          ],
          [
           "Body of Lies"
          ],
          [
           "Road to Perdition"
          ],
          [
           "Surrogates"
          ],
          [
           "I Still Know What You Did Last Summer"
          ],
          [
           "Joy"
          ],
          [
           "The Manchurian Candidate"
          ],
          [
           "Apollo 13"
          ],
          [
           "The Brothers Grimm"
          ],
          [
           "Gulliver's Travels"
          ],
          [
           "Downsizing"
          ],
          [
           "Surf's Up"
          ],
          [
           "A Perfect Murder"
          ],
          [
           "Valkyrie"
          ],
          [
           "Speed 2: Cruise Control"
          ],
          [
           "You've Got Mail"
          ],
          [
           "Meet Dave"
          ],
          [
           "Deep Blue Sea"
          ],
          [
           "Enemy of the State"
          ],
          [
           "Windtalkers"
          ],
          [
           "Stardust"
          ],
          [
           "10,000 BC"
          ],
          [
           "Cheaper by the Dozen 2"
          ],
          [
           "Outbreak"
          ],
          [
           "Killers"
          ],
          [
           "Mr. Popper's Penguins"
          ],
          [
           "Assassins"
          ],
          [
           "Mowgli: Legend of the Jungle"
          ],
          [
           "Conspiracy Theory"
          ],
          [
           "I, Frankenstein"
          ],
          [
           "The Negotiator"
          ],
          [
           "Little Nicky"
          ],
          [
           "Crimson Tide"
          ],
          [
           "Australia"
          ],
          [
           "Sunshine"
          ],
          [
           "The Phantom of the Opera"
          ],
          [
           "The Boss Baby"
          ],
          [
           "West Side Story"
          ],
          [
           "Child 44"
          ],
          [
           "Okja"
          ],
          [
           "The Sum of All Fears"
          ],
          [
           "Arthur 3: The War of the Two Worlds"
          ],
          [
           "Pan"
          ],
          [
           "Killer Elite"
          ],
          [
           "Les Misérables"
          ],
          [
           "Doctor Dolittle"
          ],
          [
           "Star Trek: Nemesis"
          ],
          [
           "Legend of the Guardians: The Owls of Ga'Hoole"
          ],
          [
           "Outlander"
          ],
          [
           "Blow"
          ],
          [
           "Lethal Weapon 4"
          ],
          [
           "The Pink Panther"
          ],
          [
           "Mortdecai"
          ],
          [
           "Doom"
          ],
          [
           "The Adjustment Bureau"
          ],
          [
           "The Abyss"
          ],
          [
           "Ronin"
          ],
          [
           "Pompeii"
          ],
          [
           "DragonHeart"
          ],
          [
           "The Legend of Zorro"
          ],
          [
           "This Means War"
          ],
          [
           "The Chronicles of Riddick"
          ],
          [
           "Dredd"
          ],
          [
           "Broken City"
          ],
          [
           "Along Came a Spider"
          ],
          [
           "Arthur and the Revenge of Maltazard"
          ],
          [
           "The Invasion"
          ],
          [
           "Broken Arrow"
          ],
          [
           "The Boat That Rocked"
          ],
          [
           "Non-Stop"
          ],
          [
           "The Fast and the Furious: Tokyo Drift"
          ],
          [
           "Paddington"
          ],
          [
           "Cinderella Man"
          ],
          [
           "The Perfect Storm"
          ],
          [
           "Peter Rabbit"
          ],
          [
           "Ip Man 4: The Finale"
          ],
          [
           "Eat Pray Love"
          ],
          [
           "Payback"
          ],
          [
           "Run All Night"
          ],
          [
           "The Thin Red Line"
          ],
          [
           "Pete's Dragon"
          ],
          [
           "Crimson Peak"
          ],
          [
           "Erin Brockovich"
          ],
          [
           "Blades of Glory"
          ],
          [
           "Lost in Space"
          ],
          [
           "Transcendence"
          ],
          [
           "G-Force"
          ],
          [
           "The Haunting"
          ],
          [
           "Paycheck"
          ],
          [
           "Ocean's Thirteen"
          ],
          [
           "The Watch"
          ],
          [
           "Awake"
          ],
          [
           "Babylon A.D."
          ],
          [
           "Mirror Mirror"
          ],
          [
           "The Village"
          ],
          [
           "Moana"
          ],
          [
           "Seven Pounds"
          ],
          [
           "Two Weeks Notice"
          ],
          [
           "Mr. Deeds"
          ],
          [
           "The Aviator"
          ],
          [
           "Daylight"
          ],
          [
           "Spanglish"
          ],
          [
           "Elizabeth: The Golden Age"
          ],
          [
           "Flubber"
          ],
          [
           "New Year's Eve"
          ],
          [
           "U.S. Marshals"
          ],
          [
           "Just Like Heaven"
          ],
          [
           "We Bought a Zoo"
          ],
          [
           "Green Zone"
          ],
          [
           "Stepmom"
          ],
          [
           "The Green Hornet"
          ],
          [
           "Wild Wild West"
          ],
          [
           "The Post"
          ],
          [
           "The Peanuts Movie"
          ],
          [
           "Winter's Tale"
          ],
          [
           "I Now Pronounce You Chuck & Larry"
          ],
          [
           "The Stepford Wives"
          ],
          [
           "Gangster Squad"
          ],
          [
           "Upside Down"
          ],
          [
           "Speed Racer"
          ],
          [
           "Next"
          ],
          [
           "Changeling"
          ],
          [
           "Mercury Rising"
          ],
          [
           "The Insider"
          ],
          [
           "The Nutty Professor"
          ],
          [
           "Gamer"
          ],
          [
           "Something's Gotta Give"
          ],
          [
           "Jingle All the Way"
          ],
          [
           "Mamma Mia! Here We Go Again"
          ],
          [
           "Clear and Present Danger"
          ],
          [
           "Vice"
          ],
          [
           "The Break-Up"
          ],
          [
           "Fun with Dick and Jane"
          ],
          [
           "Three Kings"
          ],
          [
           "Reign of Fire"
          ],
          [
           "Little Fockers"
          ],
          [
           "Hook"
          ],
          [
           "Agora"
          ],
          [
           "Analyze This"
          ],
          [
           "Flightplan"
          ],
          [
           "Transformers"
          ],
          [
           "Miami Vice"
          ],
          [
           "Moneyball"
          ],
          [
           "The Haunted Mansion"
          ],
          [
           "Runaway Jury"
          ],
          [
           "Mona Lisa Smile"
          ],
          [
           "Almost Famous"
          ],
          [
           "Talladega Nights: The Ballad of Ricky Bobby"
          ],
          [
           "What Lies Beneath"
          ],
          [
           "Hidalgo"
          ],
          [
           "The Hurricane"
          ],
          [
           "Sphere"
          ],
          [
           "The Devil's Own"
          ],
          [
           "Final Fantasy: The Spirits Within"
          ],
          [
           "Six Days Seven Nights"
          ],
          [
           "The Last Castle"
          ],
          [
           "Maverick"
          ],
          [
           "Sahara"
          ],
          [
           "Spy Game"
          ],
          [
           "Into the Woods"
          ],
          [
           "Snake Eyes"
          ],
          [
           "16 Blocks"
          ],
          [
           "The Finest Hours"
          ],
          [
           "Collateral Damage"
          ],
          [
           "Flags of Our Fathers"
          ],
          [
           "Hairspray"
          ],
          [
           "The Jackal"
          ],
          [
           "Air Force One"
          ],
          [
           "Hop"
          ],
          [
           "102 Dalmatians"
          ],
          [
           "The Campaign"
          ],
          [
           "Rumor Has It..."
          ],
          [
           "The Monuments Men"
          ],
          [
           "Fantasia 2000"
          ],
          [
           "Hostiles"
          ],
          [
           "Burlesque"
          ],
          [
           "Far and Away"
          ],
          [
           "From Paris with Love"
          ],
          [
           "The Life of David Gale"
          ],
          [
           "Babe: Pig in the City"
          ],
          [
           "Swordfish"
          ],
          [
           "The Life Aquatic with Steve Zissou"
          ],
          [
           "Asterix & Obelix: God Save Britannia"
          ],
          [
           "The 6th Day"
          ],
          [
           "Meet the Parents"
          ],
          [
           "The Chaser"
          ],
          [
           "Eagle Eye"
          ],
          [
           "Race to Witch Mountain"
          ],
          [
           "Intolerable Cruelty"
          ],
          [
           "Fast & Furious"
          ],
          [
           "The Family Man"
          ],
          [
           "Domino"
          ],
          [
           "Maid in Manhattan"
          ],
          [
           "Space Cowboys"
          ],
          [
           "All the Money in the World"
          ],
          [
           "Munich"
          ],
          [
           "Ransom"
          ],
          [
           "The Mexican"
          ],
          [
           "Æon Flux"
          ],
          [
           "Invictus"
          ],
          [
           "Free State of Jones"
          ],
          [
           "Backdraft"
          ],
          [
           "Dr. Dolittle 2"
          ],
          [
           "Sky Captain and the World of Tomorrow"
          ],
          [
           "Funny People"
          ],
          [
           "Lincoln"
          ],
          [
           "Mission to Mars"
          ],
          [
           "Escape from L.A."
          ],
          [
           "Edge of Darkness"
          ],
          [
           "The Secret Life of Pets"
          ],
          [
           "The Kingdom"
          ],
          [
           "City of Ember"
          ],
          [
           "The Score"
          ],
          [
           "Syriana"
          ],
          [
           "A Wrinkle in Time"
          ],
          [
           "Runaway Bride"
          ],
          [
           "It's Complicated"
          ],
          [
           "U-571"
          ],
          [
           "The Legend of Hercules"
          ],
          [
           "Ad Astra"
          ],
          [
           "Ali"
          ],
          [
           "Stay"
          ],
          [
           "Dinner for Schmucks"
          ],
          [
           "Starsky & Hutch"
          ],
          [
           "Lady in the Water"
          ],
          [
           "The Santa Clause 2"
          ],
          [
           "Practical Magic"
          ],
          [
           "Shall We Dance?"
          ],
          [
           "Anchorman 2: The Legend Continues"
          ],
          [
           "Black Mass"
          ],
          [
           "Man on the Moon"
          ],
          [
           "You, Me and Dupree"
          ],
          [
           "Rock of Ages"
          ],
          [
           "Righteous Kill"
          ],
          [
           "Hereafter"
          ],
          [
           "Analyze That"
          ],
          [
           "Junior"
          ],
          [
           "Fast Five"
          ],
          [
           "Fast & Furious 6"
          ],
          [
           "Wall Street: Money Never Sleeps"
          ],
          [
           "When in Rome"
          ],
          [
           "Pleasantville"
          ],
          [
           "Grindhouse"
          ],
          [
           "Trouble with the Curve"
          ],
          [
           "Charlie Wilson's War"
          ],
          [
           "The Siege"
          ],
          [
           "Bewitched"
          ],
          [
           "First Knight"
          ],
          [
           "The International"
          ],
          [
           "Dream House"
          ],
          [
           "Inspector Gadget"
          ],
          [
           "The Interpreter"
          ],
          [
           "Live by Night"
          ],
          [
           "2 Fast 2 Furious"
          ],
          [
           "The Wolverine"
          ],
          [
           "Matchstick Men"
          ],
          [
           "Hannibal"
          ],
          [
           "Red Dragon"
          ],
          [
           "X-Men Origins: Wolverine"
          ],
          [
           "Hannibal Rising"
          ],
          [
           "Resident Evil: Retribution"
          ],
          [
           "X-Men: First Class"
          ],
          [
           "The Lost World: Jurassic Park"
          ],
          [
           "Jurassic Park III"
          ],
          [
           "Resident Evil: Afterlife"
          ],
          [
           "X-Men"
          ],
          [
           "The Internship"
          ]
         ],
         "hovertemplate": "vote_average=%{x}<br>budget=%{y}<br>title=%{customdata[0]}<extra></extra>",
         "legendgroup": "",
         "marker": {
          "color": "#636efa",
          "symbol": "circle"
         },
         "mode": "markers",
         "name": "",
         "showlegend": false,
         "type": "scattergl",
         "x": [
          7.079,
          7.34,
          6.507,
          7.262,
          7.275,
          7.495,
          6.947,
          8.64,
          6.781,
          8.053,
          8.284,
          7.827,
          7.795,
          8.3,
          7.623,
          7.798,
          6.625,
          7.179,
          6.99,
          6.9,
          7.226,
          7.495,
          7.656,
          7.599,
          8.273,
          7.569,
          7.654,
          7.465,
          7.798,
          7.054,
          7.49,
          7.38,
          6.873,
          7.904,
          7.423,
          7.992,
          7.716,
          8.268,
          5.9,
          8,
          6.8,
          8.255,
          6.699,
          6.889,
          7.89,
          7.714,
          6.181,
          6.654,
          7.2,
          7.6,
          8.391,
          7.043,
          5.319,
          8.2,
          7.594,
          6.823,
          7.112,
          7.5,
          6.3,
          7.237,
          6.528,
          7.5,
          8.1,
          6.1,
          7.9,
          7.131,
          7.525,
          6.865,
          6.521,
          7.789,
          7.794,
          7.239,
          6.5,
          6.488,
          7.083,
          7.7,
          7.345,
          7.6,
          6.5,
          8.036,
          8.402,
          6.552,
          7.418,
          7.281,
          7.5,
          7.746,
          6.955,
          6.892,
          8.083,
          7.937,
          7.34,
          7.2,
          6.835,
          8.406,
          6.969,
          6.9,
          7.744,
          6.8,
          6.795,
          7.3,
          7.831,
          7.425,
          6.678,
          8.508,
          6.767,
          6.682,
          6.281,
          7.345,
          7.6,
          7.885,
          7.71,
          5.921,
          7.5,
          7.8,
          8.161,
          7.037,
          6.6,
          7.741,
          7.25,
          7.011,
          7.604,
          6.863,
          7.583,
          7.337,
          6,
          5.9,
          7.3,
          7.9,
          7.264,
          7.067,
          6.5,
          7.2,
          7.942,
          7.5,
          7.8,
          8.17,
          7.434,
          7.414,
          7.4,
          6.51,
          7.3,
          7.082,
          7.494,
          7.59,
          6.3,
          6.898,
          7.277,
          7.92,
          8.204,
          7.507,
          6.8,
          7.221,
          6.646,
          7.489,
          8.2,
          6.4,
          6.882,
          7.6,
          6.9,
          6.207,
          7.446,
          6.928,
          6.518,
          7.32,
          5.951,
          8.5,
          7.323,
          7.352,
          6.05,
          8.431,
          7.7,
          7.115,
          7.637,
          6.131,
          7.676,
          7.443,
          6.514,
          8.361,
          7.545,
          7.2,
          6.352,
          6.6,
          8.507,
          7.6,
          5.705,
          7.774,
          7.194,
          6.861,
          7.09,
          6.1,
          6.882,
          6.382,
          6.803,
          5.8,
          6.1,
          6.8,
          6.981,
          6.967,
          8.384,
          6.9,
          7.346,
          7.823,
          8.095,
          7.341,
          6.824,
          7.8,
          6.979,
          5.808,
          6.101,
          6.508,
          6.7,
          6.9,
          6.995,
          7.692,
          6.107,
          6.6,
          6.213,
          6.842,
          6.915,
          6.608,
          7.791,
          7.536,
          7.815,
          6.4,
          7.442,
          7.966,
          7.4,
          6.9,
          6.827,
          6.3,
          8.161,
          7.4,
          6.456,
          7.006,
          8.202,
          7.903,
          6.1,
          8.216,
          6.915,
          6.328,
          7.7,
          7.189,
          6.668,
          6.707,
          6.471,
          7.569,
          7.225,
          6.7,
          7.214,
          5.675,
          7.24,
          6.392,
          5.128,
          7,
          7.303,
          7.3,
          7.892,
          6.3,
          6.6,
          7.503,
          7.491,
          6.9,
          7,
          7.254,
          7,
          8.075,
          6.667,
          7.369,
          5.2,
          6.204,
          5.9,
          6.7,
          7.3,
          6.343,
          6.5,
          5.007,
          6.014,
          6.211,
          6.735,
          7.28,
          7.5,
          6.9,
          7.202,
          7,
          6,
          7.391,
          7.575,
          6.804,
          6,
          6.22,
          7.301,
          6.4,
          6.09,
          5.5,
          6.256,
          8.206,
          6.2,
          6.742,
          7.209,
          5.8,
          6.945,
          5.7,
          7.3,
          6.393,
          7.694,
          6.593,
          7.902,
          7.5,
          7.1,
          7.465,
          7.167,
          7.267,
          6.9,
          6.16,
          6.746,
          7.2,
          6.455,
          7.1,
          7.5,
          6.927,
          7.346,
          6.9,
          6.485,
          5.322,
          6.3,
          6.3,
          6.3,
          6,
          6.953,
          5.9,
          7.535,
          5.832,
          7.4,
          6.994,
          5.7,
          5.6,
          5.5,
          6.7,
          7.1,
          7.154,
          5.4,
          6.473,
          7.1,
          7,
          5.766,
          6.514,
          6.4,
          8.197,
          6.3,
          7.7,
          6.361,
          6.4,
          5.601,
          7.609,
          6.269,
          6.099,
          5.8,
          7.731,
          6.695,
          5.9,
          7.242,
          5.541,
          8.005,
          4.66,
          6,
          7.752,
          5.795,
          6.3,
          7.598,
          6.404,
          7.243,
          7.511,
          7.219,
          6.242,
          6.935,
          6.8,
          6.802,
          6.35,
          4.414,
          6,
          7.045,
          6.5,
          6.869,
          6.629,
          6.915,
          7.574,
          6.563,
          5.6,
          7.5,
          7.487,
          7.178,
          6.2,
          5.525,
          6.55,
          6.829,
          6.167,
          6.5,
          5.7,
          7.15,
          5.8,
          6,
          5.921,
          6.2,
          6.8,
          6.8,
          7.608,
          5.883,
          5.806,
          7.2,
          7.526,
          7.242,
          7.432,
          7.006,
          6.707,
          6.308,
          6.4,
          6.4,
          6.6,
          6.3,
          6.963,
          5.3,
          5.9,
          6.705,
          6.701,
          5.725,
          6.733,
          6.7,
          6.858,
          7.381,
          7.331,
          7.038,
          7.4,
          6.391,
          5.5,
          6.596,
          6.9,
          6.5,
          6.5,
          6.548,
          7.1,
          7.5,
          6,
          6.781,
          5.9,
          6.7,
          5.9,
          7.4,
          6.029,
          5.583,
          5.3,
          6.1,
          6.533,
          7.398,
          7.042,
          7.173,
          6.701,
          7.6,
          7.986,
          6.2,
          6.072,
          6.48,
          7.92,
          6.445,
          7.918,
          7.328,
          6.358,
          7.901,
          6.828,
          7,
          6.2,
          5.697,
          7.674,
          5.644,
          5.775,
          5.4,
          6.595,
          6.953,
          6.523,
          7.2,
          7.435,
          6.721,
          6,
          6.316,
          5.502,
          6.857,
          6.507,
          6.354,
          7.3,
          7.969,
          6.002,
          5.771,
          5.574,
          6.2,
          5.987,
          6.288,
          6.566,
          6.4,
          6.7,
          6.583,
          6.675,
          6.4,
          6.9,
          6.5,
          6.6,
          6.063,
          6.502,
          7.563,
          6.539,
          5.817,
          7.6,
          7,
          8.164,
          5.7,
          6.4,
          6.2,
          5.661,
          5.4,
          6.5,
          7.4,
          6.502,
          6.6,
          6.8,
          5.7,
          6.736,
          6.8,
          5.586,
          6.2,
          6.182,
          5.956,
          5.9,
          6.672,
          6.654,
          6.9,
          7.765,
          7.042,
          6.9,
          6.347,
          7.1,
          6.9,
          4.988,
          6.6,
          6.2,
          7.445,
          6.958,
          6.307,
          7.397,
          6.7,
          6.699,
          6.316,
          5.4,
          6.491,
          7.125,
          6.047,
          6.3,
          7.2,
          6.722,
          5.9,
          6.4,
          7.852,
          6.1,
          5.8,
          6.9,
          7.1,
          7.185,
          6.7,
          7.199,
          5.7,
          5.678,
          5.7,
          7.4,
          6.53,
          7.412,
          6.379,
          6,
          5.9,
          5.8,
          6.2,
          6.9,
          5.995,
          6.8,
          6.393,
          6.3,
          7.163,
          5.7,
          6.124,
          6.6,
          4.319,
          6.139,
          7.4,
          7.524,
          6.8,
          6.042,
          6.939,
          5.24,
          6.391,
          5.4,
          6.1,
          6.42,
          6.202,
          6.825,
          6.516,
          7.1,
          7.3,
          7.529,
          6.5,
          6.2,
          5.9,
          5.2,
          6.3,
          7.258,
          6.2,
          6.256,
          6.65,
          7.932,
          5.9,
          7.666,
          5.193,
          6.5,
          5.7,
          6.715,
          5.333,
          6.9,
          5.7,
          6.5,
          5.5,
          7.613,
          5.7,
          6.152,
          6.7,
          6.8,
          6.753,
          5.881,
          6.1,
          6.1,
          6.3,
          5.9,
          7.658,
          7.456,
          6.859,
          7.556,
          7.415,
          5.8,
          5.9,
          6.166,
          6.2,
          6.1,
          6.8,
          6.148,
          6.47,
          6.1,
          7.203,
          6.6,
          6.388,
          7.162,
          7.9,
          7.238,
          6.015,
          6.604,
          6.771,
          6.8,
          7.6,
          6.1,
          4.866,
          5.7,
          7.201,
          6.5,
          6.411,
          6.862,
          7.395,
          7.16,
          5.6,
          6.1,
          5.642,
          6.2,
          4.126,
          7.514,
          6.7,
          6.3,
          7,
          6.3,
          7.197,
          7.2,
          5.642,
          6,
          5.6,
          7.603,
          6.8,
          5.546,
          7.33,
          6.7,
          6.4,
          6.4,
          6.7,
          5.7,
          5.907,
          5.878,
          7.309,
          7.134,
          5.6,
          6.833,
          6.031,
          6.348,
          7.3,
          7.4,
          7.862,
          6.3,
          5.704,
          6.5,
          6.169,
          6.5,
          5.7,
          5.8,
          5.9,
          7,
          5.6,
          5.5,
          5.838,
          6.599,
          7.174,
          6,
          6.348,
          5.9,
          7,
          6.6,
          4.9,
          5.9,
          5.5,
          6.826,
          6.5,
          5.418,
          5.872,
          8.004,
          6.294,
          6.5,
          5.4,
          6.2,
          7,
          6.666,
          6.3,
          5.4,
          6,
          6,
          4.589,
          6.5,
          4.318,
          6.4,
          6.1,
          7,
          6.655,
          6.1,
          6.786,
          7.1,
          5.187,
          6.1,
          6.7,
          7.594,
          6.8,
          6.258,
          6.3,
          6.824,
          6.453,
          6,
          6.869,
          5.8,
          7.241,
          6.338,
          6.4,
          6.3,
          5.7,
          5.6,
          6.8,
          7.1,
          6.4,
          6,
          6.1,
          7.324,
          7.307,
          6.8,
          7.682,
          6.1,
          7.3,
          6.128,
          6.602,
          6.43,
          6.3,
          6.382,
          6.8,
          6.2,
          6.6,
          7.314,
          6.9,
          6,
          7.4,
          6.39,
          6.7,
          7.295,
          7.091,
          6.8,
          6.1,
          6.9,
          6.207,
          7.418,
          6.8,
          5.907,
          6.546,
          7.101,
          6.1,
          7.555,
          6.169,
          6.5,
          5.8,
          7.162,
          6.4,
          6.2,
          6.6,
          7.359,
          6.093,
          5.328,
          6.515,
          6.447,
          7.4,
          5.8,
          5.177,
          5.303,
          6.3,
          6.496,
          6.9,
          4.6,
          6.657,
          5.3,
          5.9,
          6.987,
          6.22,
          7.2,
          5.4,
          6.129,
          6.527,
          6,
          5.922,
          6.5,
          6.5,
          6.6,
          5.3,
          7.06,
          5.9,
          7.2,
          6.6,
          7,
          7.278,
          6.5,
          7.1,
          6.3,
          7.401,
          6.3,
          5.8,
          6,
          6.3,
          7.3,
          5.7,
          6.29,
          6.8,
          6.4,
          7.366,
          6.6,
          5.824,
          5.505,
          5.095,
          6.718,
          7.3,
          6.9,
          5.5,
          6.5,
          6.1,
          6.146,
          6.5,
          6.8,
          5.902,
          6.331,
          5.7,
          6,
          6.029,
          7.2,
          6.8,
          6.4,
          7.1,
          7.534,
          6.4,
          6.7,
          7.2,
          6.2,
          6.8,
          6.404,
          7.449,
          6.4,
          6.6,
          7.4,
          6.1,
          5.4,
          6.014,
          5.4,
          5.4,
          6.18,
          6.709,
          5.6,
          6.433,
          5.6,
          5.9,
          6.438,
          7.565,
          7.609,
          6.358,
          5.8,
          7.2,
          6.1,
          6,
          6.714,
          5.6,
          5.9,
          6.5,
          6.9,
          6.739,
          6.5,
          7.148,
          5.6,
          5.317,
          7,
          6.863,
          6.272,
          6.019,
          5.689,
          6.348,
          6.249,
          6.2,
          6,
          7.6,
          6.2,
          7.5,
          5.6,
          5.72,
          6.6,
          6,
          7.144,
          6.613,
          7.052,
          5.832,
          6.2,
          6.641,
          6.142,
          5.6,
          6.833,
          6.98,
          6.5,
          6.4,
          6.8,
          6,
          7.247,
          5.6,
          6.9,
          6.9,
          7.485,
          6.3,
          6.4,
          6.8,
          7.4,
          6.083,
          6.1,
          6.18,
          6,
          7.116,
          6.8,
          5.9,
          6.9,
          5.754,
          6.1,
          6.4,
          6.6,
          5.8,
          6.8,
          6.663,
          6.3,
          6.452,
          5.7,
          5.5,
          5.8,
          5.6,
          6,
          7,
          6.9,
          7.2,
          6.732,
          6.3,
          7.4,
          5.556,
          6.2,
          7.1,
          5.1,
          5.9,
          6.7,
          7.788,
          6.432,
          5.8,
          5.928,
          6.666,
          6.8,
          5.957,
          6.1,
          6.4,
          6.5,
          7.1,
          6.7,
          5.9,
          5.6,
          7.2,
          6.7,
          6.6,
          5.3,
          5.8,
          5.844,
          6.9,
          6,
          5.9,
          6.3,
          6.262,
          6.7,
          6.3,
          6.7,
          6.423,
          5.1,
          6.1,
          6.5,
          6.5,
          4.8,
          6.1,
          6.8,
          6.58,
          5.7,
          5.8,
          5.571,
          5.9,
          6.7,
          6.4,
          6.1,
          6.452,
          7.267,
          5.6,
          6.2,
          5.922,
          6,
          5.8,
          5.2,
          7.249,
          6.817,
          6.1,
          6,
          7.2,
          7,
          6.9,
          6.6,
          6.3,
          5,
          6.045,
          6.2,
          6.1,
          4.444,
          6.3,
          6.2,
          6.5,
          6.391,
          7,
          6.762,
          7.009,
          6.3,
          6.227,
          5.799,
          7.294,
          6.524,
          6.1,
          6,
          6.992,
          6.3
         ],
         "xaxis": "x",
         "y": [
          129000000,
          200000000,
          200000000,
          75000000,
          340000000,
          145000000,
          190000000,
          100000000,
          125000000,
          250000000,
          90000000,
          90000000,
          100000000,
          100000000,
          200000000,
          50000000,
          250000000,
          200000000,
          50000000,
          165000000,
          250000000,
          90000000,
          460000000,
          110000000,
          170000000,
          237000000,
          50000000,
          85000000,
          65000000,
          200000000,
          190000000,
          200000000,
          110000000,
          170000000,
          90000000,
          200000000,
          60000000,
          356000000,
          210000000,
          85000000,
          200000000,
          300000000,
          55000000,
          150000000,
          200000000,
          185000000,
          75000000,
          74000000,
          150000000,
          150000000,
          165000000,
          120000000,
          92000000,
          175000000,
          185000000,
          100000000,
          70000000,
          151000000,
          165000000,
          300000000,
          380000000,
          100000000,
          60000000,
          217000000,
          200000000,
          260000000,
          150000000,
          200000000,
          130000000,
          140000000,
          150000000,
          190000000,
          190000000,
          200000000,
          130000000,
          80000000,
          175000000,
          140000000,
          130000000,
          100000000,
          93000000,
          170000000,
          90000000,
          150000000,
          68000000,
          150000000,
          110000000,
          250000000,
          200000000,
          100000000,
          59000000,
          105000000,
          200000000,
          90000000,
          200000000,
          161900000,
          165000000,
          175000000,
          160000000,
          64000000,
          115000000,
          165000000,
          150000000,
          185000000,
          150000000,
          215000000,
          160000000,
          185000000,
          180000000,
          50000000,
          220000000,
          155000000,
          160000000,
          60000000,
          150000000,
          150000000,
          170000000,
          165000000,
          150000000,
          200000000,
          58000000,
          180000000,
          90000000,
          200000000,
          200000000,
          125000000,
          250000000,
          200000000,
          139000000,
          116000000,
          55000000,
          55000000,
          175000000,
          65000000,
          129000000,
          55000000,
          58800000,
          178000000,
          250000000,
          200000000,
          165000000,
          200000000,
          110000000,
          110000000,
          68000000,
          160000000,
          365000000,
          175000000,
          70000000,
          85000000,
          200000000,
          130000000,
          230000000,
          78000000,
          70000000,
          146000000,
          80000000,
          260000000,
          79000000,
          110000000,
          55000000,
          68000000,
          50000000,
          200000000,
          250000000,
          94000000,
          250000000,
          85000000,
          84000000,
          63000000,
          145000000,
          75000000,
          81000000,
          85000000,
          200000000,
          250000000,
          132000000,
          160000000,
          60000000,
          90000000,
          80000000,
          50000000,
          60000000,
          109000000,
          88000000,
          250000000,
          150000000,
          145000000,
          180000000,
          79000000,
          75000000,
          258000000,
          75000000,
          140000000,
          150000000,
          95000000,
          75000000,
          120000000,
          79000000,
          150000000,
          65000000,
          94000000,
          102000000,
          180000000,
          100000000,
          165000000,
          104000000,
          200000000,
          300000000,
          185000000,
          60000000,
          120000000,
          75000000,
          80000000,
          80000000,
          145000000,
          103000000,
          200000000,
          200000000,
          225000000,
          200000000,
          175000000,
          97000000,
          120000000,
          200000000,
          52000000,
          54000000,
          125000000,
          116000000,
          250000000,
          100000000,
          130000000,
          80000000,
          185000000,
          63000000,
          60000000,
          97000000,
          70000000,
          135000000,
          98000000,
          92000000,
          150000000,
          80000000,
          150000000,
          150000000,
          250000000,
          69000000,
          90000000,
          175000000,
          69000000,
          149000000,
          50000000,
          50000000,
          80000000,
          245000000,
          93000000,
          61000000,
          95000000,
          88000000,
          75000000,
          200000000,
          50000000,
          100000000,
          128000000,
          200000000,
          180000000,
          170000000,
          92000000,
          200000000,
          150000000,
          125000000,
          80000000,
          50000000,
          150000000,
          103000000,
          57000000,
          50000000,
          150000000,
          90000000,
          60000000,
          80000000,
          152000000,
          205000000,
          160000000,
          135000000,
          200000000,
          150000000,
          135000000,
          200000000,
          80000000,
          170000000,
          140000000,
          110000000,
          110000000,
          200000000,
          103000000,
          95000000,
          175000000,
          170000000,
          70000000,
          130000000,
          70000000,
          75000000,
          250000000,
          150000000,
          60000000,
          55000000,
          90000000,
          61000000,
          85000000,
          65000000,
          90000000,
          80000000,
          100000000,
          123000000,
          110000000,
          185000000,
          100000000,
          250000000,
          200000000,
          60000000,
          200000000,
          150000000,
          109000000,
          105000000,
          50000000,
          70000000,
          200000000,
          140000000,
          175000000,
          50000000,
          150000000,
          145000000,
          140000000,
          50000000,
          88000000,
          145000000,
          125000000,
          55000000,
          75000000,
          176000003,
          51000000,
          183000000,
          80000000,
          175000000,
          178000000,
          150000000,
          80000000,
          150000000,
          108000000,
          66000000,
          160000000,
          130000000,
          85000000,
          160000000,
          69000000,
          100000000,
          50000000,
          150000000,
          150000000,
          90000000,
          50000000,
          97600000,
          150000000,
          75000000,
          200000000,
          209000000,
          160000000,
          178000000,
          90000000,
          111000000,
          61000000,
          200000000,
          190000000,
          55000000,
          140000000,
          85000000,
          94000000,
          120000000,
          110000000,
          200000000,
          127500000,
          207000000,
          177200000,
          76000000,
          150000000,
          250000000,
          140000000,
          150000000,
          200000000,
          90000000,
          127000000,
          137000000,
          170000000,
          75000000,
          50000000,
          70000000,
          150000000,
          150000000,
          195000000,
          74000000,
          60000000,
          73000000,
          80000000,
          80000000,
          53000000,
          180000000,
          60000000,
          70000000,
          140000000,
          95000000,
          150000000,
          60000000,
          165000000,
          50000000,
          70000000,
          78000000,
          120000000,
          100000000,
          150000000,
          90000000,
          90000000,
          55000000,
          80000000,
          100000000,
          70000000,
          135000000,
          75000000,
          105000000,
          190000000,
          150000000,
          58500000,
          110000000,
          50000000,
          82000000,
          50100000,
          95000000,
          132000000,
          120000000,
          90000000,
          65000000,
          185000000,
          135000000,
          70000000,
          175000000,
          64000000,
          85000000,
          133000000,
          80000000,
          165000000,
          105000000,
          175000000,
          113000000,
          115000000,
          100000000,
          150000000,
          60000000,
          100000000,
          65000000,
          120000000,
          90000000,
          70000000,
          170000000,
          84000000,
          130000000,
          65000000,
          54000000,
          75000000,
          70000000,
          75000000,
          75000000,
          170000000,
          75000000,
          110000000,
          100000000,
          100000000,
          85000000,
          115000000,
          60000000,
          95000000,
          50000000,
          170000000,
          58000000,
          125000000,
          175000000,
          54000000,
          140000000,
          90000000,
          75000000,
          150000000,
          100000000,
          163000000,
          60000000,
          150000000,
          60000000,
          110000000,
          70000000,
          75000000,
          51000000,
          72000000,
          65000000,
          80000000,
          61000000,
          70000000,
          110000000,
          125000000,
          140000000,
          50000000,
          130000000,
          100000000,
          105000000,
          90000000,
          50000000,
          50000000,
          149000000,
          65000000,
          144000000,
          80000000,
          70000000,
          225000000,
          50000000,
          55000000,
          50000000,
          54000000,
          185000000,
          130000000,
          63000000,
          117000000,
          110000000,
          105000000,
          110000000,
          160000000,
          140000000,
          70000000,
          100000000,
          130000000,
          65000000,
          75000000,
          60000000,
          84000000,
          100000000,
          140000000,
          57000000,
          52000000,
          200000000,
          120000000,
          66000000,
          58000000,
          140000000,
          120000000,
          115000000,
          125000000,
          80000000,
          60000000,
          80000000,
          125000000,
          75000000,
          110000000,
          60000000,
          80000000,
          92000000,
          70000000,
          100000000,
          70000000,
          145000000,
          90000000,
          60000000,
          90000000,
          70000000,
          68000000,
          245000000,
          50300000,
          200000000,
          125000000,
          70000000,
          160000000,
          65000000,
          130000000,
          63000000,
          85000000,
          74000000,
          135000000,
          100000000,
          95000000,
          150000000,
          92000000,
          125000000,
          60000000,
          60000000,
          100000000,
          50000000,
          56000000,
          120000000,
          78000000,
          90000000,
          125000000,
          120000000,
          75000000,
          175000000,
          90000000,
          80000000,
          65000000,
          65000000,
          75000000,
          100000000,
          130000000,
          65000000,
          60000000,
          100000000,
          50000000,
          135000000,
          82500000,
          70000000,
          63000000,
          54000000,
          100000000,
          130000000,
          85000000,
          120000000,
          75000000,
          60000000,
          110000000,
          100000000,
          60000000,
          60000000,
          64000000,
          60000000,
          67000000,
          125000000,
          50000000,
          50000000,
          50000000,
          75000000,
          130000000,
          130000000,
          50000000,
          90000000,
          60000000,
          200000000,
          50000000,
          60000000,
          105000000,
          60000000,
          195000000,
          100000000,
          100000000,
          85000000,
          175000000,
          65000000,
          80000000,
          60000000,
          75000000,
          70000000,
          90000000,
          72000000,
          200000000,
          90000000,
          110000000,
          73000000,
          80000000,
          159000000,
          70000000,
          50000000,
          60000000,
          50000000,
          70000000,
          85000000,
          65000000,
          50000000,
          105000000,
          55000000,
          215000000,
          125000000,
          80000000,
          84000000,
          70000000,
          99000000,
          120000000,
          120000000,
          69000000,
          55000000,
          65000000,
          125000000,
          140000000,
          130000000,
          76000000,
          110000000,
          175000000,
          102000000,
          126000000,
          58000000,
          70000000,
          170000000,
          270000000,
          110000000,
          115000000,
          50000000,
          75000000,
          60000000,
          66000000,
          80000000,
          50000000,
          50000000,
          65000000,
          62770198,
          100000000,
          50000000,
          70000000,
          90000000,
          100000000,
          60000000,
          90000000,
          90000000,
          80000000,
          68000000,
          70000000,
          120000000,
          55000000,
          85000000,
          100000000,
          60000000,
          50000000,
          60000000,
          110000000,
          60000000,
          100000000,
          70000000,
          75000000,
          84000000,
          80000000,
          50000000,
          50000000,
          50000000,
          60000000,
          60000000,
          65000000,
          55000000,
          57000000,
          110000000,
          100000000,
          100000000,
          75000000,
          100000000,
          70000000,
          79000000,
          85000000,
          80000000,
          70000000,
          60000000,
          85000000,
          60000000,
          85000000,
          97250400,
          200000000,
          68000000,
          52500000,
          50000000,
          50000000,
          56000000,
          65000000,
          92000000,
          78000000,
          102000000,
          75000000,
          100000000,
          52000000,
          55000000,
          115000000,
          60000000,
          55000000,
          68000000,
          75000000,
          55000000,
          150000000,
          55000000,
          60000000,
          50000000,
          55000000,
          85000000,
          60000000,
          75000000,
          50000000,
          72000000,
          85000000,
          120000000,
          86000000,
          55000000,
          175000000,
          60000000,
          100000000,
          50000000,
          50000000,
          90000000,
          70000000,
          50000000,
          66000000,
          75000000,
          55000000,
          85000000,
          58000000,
          85000000,
          70000000,
          60000000,
          95000000,
          100000000,
          150000000,
          150000000,
          55000000,
          80000000,
          130000000,
          70000000,
          70000000,
          80000000,
          116000000,
          70000000,
          80000000,
          80000000,
          65000000,
          60000000,
          80000000,
          52000000,
          88000000,
          112000000,
          68000000,
          85000000,
          60000000,
          75000000,
          160000000,
          65000000,
          60000000,
          60000000,
          90000000,
          115000000,
          70000000,
          105000000,
          60000000,
          50000000,
          75000000,
          55000000,
          50000000,
          175000000,
          75000000,
          65000000,
          50000000,
          85000000,
          53000000,
          130000000,
          50000000,
          70000000,
          125000000,
          100000000,
          50000000,
          50000000,
          68000000,
          70200000,
          150000000,
          66000000,
          61000000,
          71000000,
          60000000,
          80000000,
          50000000,
          53000000,
          140000000,
          65000000,
          60000000,
          60000000,
          50200000,
          70000000,
          55000000,
          100000000,
          57000000,
          75000000,
          65000000,
          105000000,
          50000000,
          56000000,
          60000000,
          87000000,
          80000000,
          50000000,
          50000000,
          50000000,
          85000000,
          55000000,
          88000000,
          120000000,
          50000000,
          52000000,
          60000000,
          90000000,
          50000000,
          52000000,
          65000000,
          55000000,
          52000000,
          53000000,
          80000000,
          100000000,
          150000000,
          80000000,
          60000000,
          85000000,
          68000000,
          86000000,
          70000000,
          85000000,
          60000000,
          150000000,
          55000000,
          60000000,
          50000000,
          110000000,
          80000000,
          80000000,
          55000000,
          80000000,
          56000000,
          60000000,
          58000000,
          50000000,
          100000000,
          50000000,
          120000000,
          170000000,
          50000000,
          99000000,
          60000000,
          85000000,
          90000000,
          60000000,
          60000000,
          120000000,
          70000000,
          55000000,
          60000000,
          90000000,
          54000000,
          50000000,
          80000000,
          60000000,
          75000000,
          62000000,
          60000000,
          52000000,
          100000000,
          75000000,
          60000000,
          100000000,
          70000000,
          70000000,
          80000000,
          55000000,
          150000000,
          135000000,
          50000000,
          90000000,
          60000000,
          65000000,
          60000000,
          72500000,
          100000000,
          100000000,
          50000000,
          80000000,
          90000000,
          137000000,
          70000000,
          72000000,
          75000000,
          130000000,
          115000000,
          50000000,
          73000000,
          55000000,
          80000000,
          85000000,
          90000000,
          50000000,
          60000000,
          85000000,
          63000000,
          85000000,
          95000000,
          70000000,
          70000000,
          80000000,
          55000000,
          55000000,
          60000000,
          52000000,
          50000000,
          90000000,
          102000000,
          50000000,
          61000000,
          82000000,
          55000000,
          120456666,
          80000000,
          50000000,
          60000000,
          85000000,
          60000000,
          50000000,
          55000000,
          65000000,
          50000000,
          70000000,
          80000000,
          57000000,
          62000000,
          60000000,
          50000000,
          75000000,
          70000000,
          70000000,
          75000000,
          65000000,
          90000000,
          50000000,
          80000000,
          75000000,
          70000000,
          55000000,
          68000000,
          50000000,
          103000000,
          70000000,
          85000000,
          62000000,
          70000000,
          87500000,
          107000000,
          50000000,
          69000000,
          60000000,
          70000000,
          65000000,
          75000000,
          50000000,
          50000000,
          53000000,
          82000000,
          54000000,
          75000000,
          60000000,
          50000000,
          60000000,
          60000000,
          125000000,
          160000000,
          70000000,
          55000000,
          60000000,
          67000000,
          60000000,
          75000000,
          70000000,
          85000000,
          55000000,
          50000000,
          50000000,
          75000000,
          80000000,
          108000000,
          76000000,
          120000000,
          62000000,
          87000000,
          78000000,
          150000000,
          50000000,
          65000000,
          160000000,
          73000000,
          93000000,
          60000000,
          75000000,
          58000000
         ],
         "yaxis": "y"
        },
        {
         "hovertemplate": "<b>OLS trendline</b><br>budget = 1.07001e+07 * vote_average + 3.26884e+07<br>R<sup>2</sup>=0.021753<br><br>vote_average=%{x}<br>budget=%{y} <b>(trend)</b><extra></extra>",
         "legendgroup": "",
         "line": {
          "color": "red"
         },
         "marker": {
          "color": "#636efa",
          "symbol": "circle"
         },
         "mode": "lines",
         "name": "",
         "showlegend": false,
         "type": "scattergl",
         "x": [
          4.126,
          4.318,
          4.319,
          4.414,
          4.444,
          4.589,
          4.6,
          4.66,
          4.8,
          4.866,
          4.9,
          4.988,
          5,
          5.007,
          5.095,
          5.1,
          5.1,
          5.128,
          5.177,
          5.187,
          5.193,
          5.2,
          5.2,
          5.2,
          5.24,
          5.3,
          5.3,
          5.3,
          5.3,
          5.3,
          5.303,
          5.317,
          5.319,
          5.322,
          5.328,
          5.333,
          5.4,
          5.4,
          5.4,
          5.4,
          5.4,
          5.4,
          5.4,
          5.4,
          5.4,
          5.4,
          5.4,
          5.418,
          5.5,
          5.5,
          5.5,
          5.5,
          5.5,
          5.5,
          5.5,
          5.5,
          5.502,
          5.505,
          5.525,
          5.541,
          5.546,
          5.556,
          5.571,
          5.574,
          5.583,
          5.586,
          5.6,
          5.6,
          5.6,
          5.6,
          5.6,
          5.6,
          5.6,
          5.6,
          5.6,
          5.6,
          5.6,
          5.6,
          5.6,
          5.6,
          5.6,
          5.6,
          5.6,
          5.601,
          5.642,
          5.642,
          5.644,
          5.661,
          5.675,
          5.678,
          5.689,
          5.697,
          5.7,
          5.7,
          5.7,
          5.7,
          5.7,
          5.7,
          5.7,
          5.7,
          5.7,
          5.7,
          5.7,
          5.7,
          5.7,
          5.7,
          5.7,
          5.7,
          5.7,
          5.7,
          5.7,
          5.704,
          5.705,
          5.72,
          5.725,
          5.754,
          5.766,
          5.771,
          5.775,
          5.795,
          5.799,
          5.8,
          5.8,
          5.8,
          5.8,
          5.8,
          5.8,
          5.8,
          5.8,
          5.8,
          5.8,
          5.8,
          5.8,
          5.8,
          5.8,
          5.8,
          5.8,
          5.8,
          5.8,
          5.8,
          5.806,
          5.808,
          5.817,
          5.824,
          5.832,
          5.832,
          5.838,
          5.844,
          5.872,
          5.878,
          5.881,
          5.883,
          5.9,
          5.9,
          5.9,
          5.9,
          5.9,
          5.9,
          5.9,
          5.9,
          5.9,
          5.9,
          5.9,
          5.9,
          5.9,
          5.9,
          5.9,
          5.9,
          5.9,
          5.9,
          5.9,
          5.9,
          5.9,
          5.9,
          5.9,
          5.9,
          5.9,
          5.9,
          5.9,
          5.902,
          5.907,
          5.907,
          5.921,
          5.921,
          5.922,
          5.922,
          5.928,
          5.951,
          5.956,
          5.957,
          5.987,
          5.995,
          6,
          6,
          6,
          6,
          6,
          6,
          6,
          6,
          6,
          6,
          6,
          6,
          6,
          6,
          6,
          6,
          6,
          6,
          6,
          6,
          6,
          6,
          6,
          6,
          6,
          6,
          6,
          6,
          6,
          6,
          6.002,
          6.014,
          6.014,
          6.015,
          6.019,
          6.029,
          6.029,
          6.031,
          6.042,
          6.045,
          6.047,
          6.05,
          6.063,
          6.072,
          6.083,
          6.09,
          6.093,
          6.099,
          6.1,
          6.1,
          6.1,
          6.1,
          6.1,
          6.1,
          6.1,
          6.1,
          6.1,
          6.1,
          6.1,
          6.1,
          6.1,
          6.1,
          6.1,
          6.1,
          6.1,
          6.1,
          6.1,
          6.1,
          6.1,
          6.1,
          6.1,
          6.1,
          6.1,
          6.1,
          6.1,
          6.1,
          6.1,
          6.1,
          6.1,
          6.1,
          6.101,
          6.107,
          6.124,
          6.128,
          6.129,
          6.131,
          6.139,
          6.142,
          6.146,
          6.148,
          6.152,
          6.16,
          6.166,
          6.167,
          6.169,
          6.169,
          6.18,
          6.18,
          6.181,
          6.182,
          6.2,
          6.2,
          6.2,
          6.2,
          6.2,
          6.2,
          6.2,
          6.2,
          6.2,
          6.2,
          6.2,
          6.2,
          6.2,
          6.2,
          6.2,
          6.2,
          6.2,
          6.2,
          6.2,
          6.2,
          6.2,
          6.2,
          6.2,
          6.2,
          6.2,
          6.202,
          6.204,
          6.207,
          6.207,
          6.211,
          6.213,
          6.22,
          6.22,
          6.227,
          6.242,
          6.249,
          6.256,
          6.256,
          6.258,
          6.262,
          6.269,
          6.272,
          6.281,
          6.288,
          6.29,
          6.294,
          6.3,
          6.3,
          6.3,
          6.3,
          6.3,
          6.3,
          6.3,
          6.3,
          6.3,
          6.3,
          6.3,
          6.3,
          6.3,
          6.3,
          6.3,
          6.3,
          6.3,
          6.3,
          6.3,
          6.3,
          6.3,
          6.3,
          6.3,
          6.3,
          6.3,
          6.3,
          6.3,
          6.3,
          6.3,
          6.3,
          6.3,
          6.3,
          6.3,
          6.3,
          6.307,
          6.308,
          6.316,
          6.316,
          6.328,
          6.331,
          6.338,
          6.343,
          6.347,
          6.348,
          6.348,
          6.348,
          6.35,
          6.352,
          6.354,
          6.358,
          6.358,
          6.361,
          6.379,
          6.382,
          6.382,
          6.388,
          6.39,
          6.391,
          6.391,
          6.391,
          6.392,
          6.393,
          6.393,
          6.4,
          6.4,
          6.4,
          6.4,
          6.4,
          6.4,
          6.4,
          6.4,
          6.4,
          6.4,
          6.4,
          6.4,
          6.4,
          6.4,
          6.4,
          6.4,
          6.4,
          6.4,
          6.4,
          6.4,
          6.4,
          6.4,
          6.4,
          6.4,
          6.4,
          6.4,
          6.404,
          6.404,
          6.411,
          6.42,
          6.423,
          6.43,
          6.432,
          6.433,
          6.438,
          6.445,
          6.447,
          6.452,
          6.452,
          6.453,
          6.455,
          6.456,
          6.47,
          6.471,
          6.473,
          6.48,
          6.485,
          6.488,
          6.491,
          6.496,
          6.5,
          6.5,
          6.5,
          6.5,
          6.5,
          6.5,
          6.5,
          6.5,
          6.5,
          6.5,
          6.5,
          6.5,
          6.5,
          6.5,
          6.5,
          6.5,
          6.5,
          6.5,
          6.5,
          6.5,
          6.5,
          6.5,
          6.5,
          6.5,
          6.5,
          6.5,
          6.5,
          6.5,
          6.5,
          6.5,
          6.5,
          6.5,
          6.502,
          6.502,
          6.507,
          6.507,
          6.508,
          6.51,
          6.514,
          6.514,
          6.515,
          6.516,
          6.518,
          6.521,
          6.523,
          6.524,
          6.527,
          6.528,
          6.53,
          6.533,
          6.539,
          6.546,
          6.548,
          6.55,
          6.552,
          6.563,
          6.566,
          6.58,
          6.583,
          6.593,
          6.595,
          6.596,
          6.599,
          6.6,
          6.6,
          6.6,
          6.6,
          6.6,
          6.6,
          6.6,
          6.6,
          6.6,
          6.6,
          6.6,
          6.6,
          6.6,
          6.6,
          6.6,
          6.6,
          6.6,
          6.6,
          6.6,
          6.6,
          6.6,
          6.602,
          6.604,
          6.608,
          6.613,
          6.625,
          6.629,
          6.641,
          6.646,
          6.65,
          6.654,
          6.654,
          6.655,
          6.657,
          6.663,
          6.666,
          6.666,
          6.667,
          6.668,
          6.672,
          6.675,
          6.678,
          6.682,
          6.695,
          6.699,
          6.699,
          6.7,
          6.7,
          6.7,
          6.7,
          6.7,
          6.7,
          6.7,
          6.7,
          6.7,
          6.7,
          6.7,
          6.7,
          6.7,
          6.7,
          6.7,
          6.7,
          6.7,
          6.7,
          6.7,
          6.7,
          6.7,
          6.7,
          6.701,
          6.701,
          6.705,
          6.707,
          6.707,
          6.709,
          6.714,
          6.715,
          6.718,
          6.721,
          6.722,
          6.732,
          6.733,
          6.735,
          6.736,
          6.739,
          6.742,
          6.746,
          6.753,
          6.762,
          6.767,
          6.771,
          6.781,
          6.781,
          6.786,
          6.795,
          6.8,
          6.8,
          6.8,
          6.8,
          6.8,
          6.8,
          6.8,
          6.8,
          6.8,
          6.8,
          6.8,
          6.8,
          6.8,
          6.8,
          6.8,
          6.8,
          6.8,
          6.8,
          6.8,
          6.8,
          6.8,
          6.8,
          6.8,
          6.8,
          6.8,
          6.8,
          6.8,
          6.8,
          6.8,
          6.8,
          6.8,
          6.802,
          6.803,
          6.804,
          6.817,
          6.823,
          6.824,
          6.824,
          6.825,
          6.826,
          6.827,
          6.828,
          6.829,
          6.833,
          6.833,
          6.835,
          6.842,
          6.857,
          6.858,
          6.859,
          6.861,
          6.862,
          6.863,
          6.863,
          6.865,
          6.869,
          6.869,
          6.873,
          6.882,
          6.882,
          6.889,
          6.892,
          6.898,
          6.9,
          6.9,
          6.9,
          6.9,
          6.9,
          6.9,
          6.9,
          6.9,
          6.9,
          6.9,
          6.9,
          6.9,
          6.9,
          6.9,
          6.9,
          6.9,
          6.9,
          6.9,
          6.9,
          6.9,
          6.9,
          6.9,
          6.9,
          6.9,
          6.9,
          6.9,
          6.9,
          6.9,
          6.9,
          6.915,
          6.915,
          6.915,
          6.927,
          6.928,
          6.935,
          6.939,
          6.945,
          6.947,
          6.953,
          6.953,
          6.955,
          6.958,
          6.963,
          6.967,
          6.969,
          6.979,
          6.98,
          6.981,
          6.987,
          6.99,
          6.992,
          6.994,
          6.995,
          7,
          7,
          7,
          7,
          7,
          7,
          7,
          7,
          7,
          7,
          7,
          7,
          7,
          7,
          7,
          7,
          7,
          7.006,
          7.006,
          7.009,
          7.011,
          7.037,
          7.038,
          7.042,
          7.042,
          7.043,
          7.045,
          7.052,
          7.054,
          7.06,
          7.067,
          7.079,
          7.082,
          7.083,
          7.09,
          7.091,
          7.1,
          7.1,
          7.1,
          7.1,
          7.1,
          7.1,
          7.1,
          7.1,
          7.1,
          7.1,
          7.1,
          7.1,
          7.1,
          7.1,
          7.101,
          7.112,
          7.115,
          7.116,
          7.125,
          7.131,
          7.134,
          7.144,
          7.148,
          7.15,
          7.154,
          7.16,
          7.162,
          7.162,
          7.163,
          7.167,
          7.173,
          7.174,
          7.178,
          7.179,
          7.185,
          7.189,
          7.194,
          7.197,
          7.199,
          7.2,
          7.2,
          7.2,
          7.2,
          7.2,
          7.2,
          7.2,
          7.2,
          7.2,
          7.2,
          7.2,
          7.2,
          7.2,
          7.2,
          7.2,
          7.2,
          7.2,
          7.201,
          7.202,
          7.203,
          7.209,
          7.214,
          7.219,
          7.221,
          7.225,
          7.226,
          7.237,
          7.238,
          7.239,
          7.24,
          7.241,
          7.242,
          7.242,
          7.243,
          7.247,
          7.249,
          7.25,
          7.254,
          7.258,
          7.262,
          7.264,
          7.267,
          7.267,
          7.275,
          7.277,
          7.278,
          7.28,
          7.281,
          7.294,
          7.295,
          7.3,
          7.3,
          7.3,
          7.3,
          7.3,
          7.3,
          7.3,
          7.3,
          7.3,
          7.3,
          7.3,
          7.3,
          7.301,
          7.303,
          7.307,
          7.309,
          7.314,
          7.32,
          7.323,
          7.324,
          7.328,
          7.33,
          7.331,
          7.337,
          7.34,
          7.34,
          7.341,
          7.345,
          7.345,
          7.346,
          7.346,
          7.352,
          7.359,
          7.366,
          7.369,
          7.38,
          7.381,
          7.391,
          7.395,
          7.397,
          7.398,
          7.4,
          7.4,
          7.4,
          7.4,
          7.4,
          7.4,
          7.4,
          7.4,
          7.4,
          7.4,
          7.4,
          7.4,
          7.4,
          7.4,
          7.4,
          7.401,
          7.412,
          7.414,
          7.415,
          7.418,
          7.418,
          7.423,
          7.425,
          7.432,
          7.434,
          7.435,
          7.442,
          7.443,
          7.445,
          7.446,
          7.449,
          7.456,
          7.465,
          7.465,
          7.485,
          7.487,
          7.489,
          7.49,
          7.491,
          7.494,
          7.495,
          7.495,
          7.5,
          7.5,
          7.5,
          7.5,
          7.5,
          7.5,
          7.5,
          7.5,
          7.5,
          7.5,
          7.5,
          7.503,
          7.507,
          7.511,
          7.514,
          7.524,
          7.525,
          7.526,
          7.529,
          7.534,
          7.535,
          7.536,
          7.545,
          7.555,
          7.556,
          7.563,
          7.565,
          7.569,
          7.569,
          7.574,
          7.575,
          7.583,
          7.59,
          7.594,
          7.594,
          7.598,
          7.599,
          7.6,
          7.6,
          7.6,
          7.6,
          7.6,
          7.6,
          7.6,
          7.6,
          7.6,
          7.603,
          7.604,
          7.608,
          7.609,
          7.609,
          7.613,
          7.623,
          7.637,
          7.654,
          7.656,
          7.658,
          7.666,
          7.674,
          7.676,
          7.682,
          7.692,
          7.694,
          7.7,
          7.7,
          7.7,
          7.7,
          7.71,
          7.714,
          7.716,
          7.731,
          7.741,
          7.744,
          7.746,
          7.752,
          7.765,
          7.774,
          7.788,
          7.789,
          7.791,
          7.794,
          7.795,
          7.798,
          7.798,
          7.8,
          7.8,
          7.8,
          7.815,
          7.823,
          7.827,
          7.831,
          7.852,
          7.862,
          7.885,
          7.89,
          7.892,
          7.9,
          7.9,
          7.9,
          7.901,
          7.902,
          7.903,
          7.904,
          7.918,
          7.92,
          7.92,
          7.932,
          7.937,
          7.942,
          7.966,
          7.969,
          7.986,
          7.992,
          8,
          8.004,
          8.005,
          8.036,
          8.053,
          8.075,
          8.083,
          8.095,
          8.1,
          8.161,
          8.161,
          8.164,
          8.17,
          8.197,
          8.2,
          8.2,
          8.202,
          8.204,
          8.206,
          8.216,
          8.255,
          8.268,
          8.273,
          8.284,
          8.3,
          8.361,
          8.384,
          8.391,
          8.402,
          8.406,
          8.431,
          8.5,
          8.507,
          8.508,
          8.64
         ],
         "xaxis": "x",
         "y": [
          76836797.9955535,
          78891209.34197359,
          78901909.40106952,
          79918415.01518363,
          80239416.78806178,
          81790925.3569728,
          81908626.0070281,
          82550629.55278438,
          84048637.82621571,
          84754841.72654761,
          85118643.73580952,
          86060248.93625206,
          86188649.64540331,
          86263550.05907488,
          87205155.25951742,
          87258655.55499712,
          87258655.55499712,
          87558257.20968339,
          88082560.10538433,
          88189560.69634372,
          88253761.05091935,
          88328661.46459092,
          88328661.46459092,
          88328661.46459092,
          88756663.82842845,
          89398667.37418471,
          89398667.37418471,
          89398667.37418471,
          89398667.37418471,
          89398667.37418471,
          89430767.55147253,
          89580568.37881567,
          89601968.49700753,
          89634068.67429535,
          89698269.02887098,
          89751769.32435067,
          90468673.28377852,
          90468673.28377852,
          90468673.28377852,
          90468673.28377852,
          90468673.28377852,
          90468673.28377852,
          90468673.28377852,
          90468673.28377852,
          90468673.28377852,
          90468673.28377852,
          90468673.28377852,
          90661274.3475054,
          91538679.19337232,
          91538679.19337232,
          91538679.19337232,
          91538679.19337232,
          91538679.19337232,
          91538679.19337232,
          91538679.19337232,
          91538679.19337232,
          91560079.31156419,
          91592179.48885201,
          91806180.67077078,
          91977381.61630578,
          92030881.91178547,
          92137882.50274485,
          92298383.38918392,
          92330483.56647174,
          92426784.09833518,
          92458884.275623,
          92608685.10296611,
          92608685.10296611,
          92608685.10296611,
          92608685.10296611,
          92608685.10296611,
          92608685.10296611,
          92608685.10296611,
          92608685.10296611,
          92608685.10296611,
          92608685.10296611,
          92608685.10296611,
          92608685.10296611,
          92608685.10296611,
          92608685.10296611,
          92608685.10296611,
          92608685.10296611,
          92608685.10296611,
          92619385.16206206,
          93058087.58499552,
          93058087.58499552,
          93079487.70318739,
          93261388.70781834,
          93411189.53516148,
          93443289.71244928,
          93560990.3625046,
          93646590.83527212,
          93678691.01255992,
          93678691.01255992,
          93678691.01255992,
          93678691.01255992,
          93678691.01255992,
          93678691.01255992,
          93678691.01255992,
          93678691.01255992,
          93678691.01255992,
          93678691.01255992,
          93678691.01255992,
          93678691.01255992,
          93678691.01255992,
          93678691.01255992,
          93678691.01255992,
          93678691.01255992,
          93678691.01255992,
          93678691.01255992,
          93678691.01255992,
          93721491.24894367,
          93732191.30803962,
          93892692.19447868,
          93946192.48995838,
          94256494.20374057,
          94384894.91289183,
          94438395.20837152,
          94481195.44475529,
          94695196.62667404,
          94737996.86305779,
          94748696.92215373,
          94748696.92215373,
          94748696.92215373,
          94748696.92215373,
          94748696.92215373,
          94748696.92215373,
          94748696.92215373,
          94748696.92215373,
          94748696.92215373,
          94748696.92215373,
          94748696.92215373,
          94748696.92215373,
          94748696.92215373,
          94748696.92215373,
          94748696.92215373,
          94748696.92215373,
          94748696.92215373,
          94748696.92215373,
          94748696.92215373,
          94812897.27672936,
          94834297.39492123,
          94930597.92678468,
          95005498.34045623,
          95091098.81322373,
          95091098.81322373,
          95155299.16779937,
          95219499.522375,
          95519101.17706126,
          95583301.5316369,
          95615401.70892471,
          95636801.82711658,
          95818702.83174753,
          95818702.83174753,
          95818702.83174753,
          95818702.83174753,
          95818702.83174753,
          95818702.83174753,
          95818702.83174753,
          95818702.83174753,
          95818702.83174753,
          95818702.83174753,
          95818702.83174753,
          95818702.83174753,
          95818702.83174753,
          95818702.83174753,
          95818702.83174753,
          95818702.83174753,
          95818702.83174753,
          95818702.83174753,
          95818702.83174753,
          95818702.83174753,
          95818702.83174753,
          95818702.83174753,
          95818702.83174753,
          95818702.83174753,
          95818702.83174753,
          95818702.83174753,
          95818702.83174753,
          95840102.9499394,
          95893603.2454191,
          95893603.2454191,
          96043404.07276224,
          96043404.07276224,
          96054104.13185816,
          96054104.13185816,
          96118304.48643379,
          96364405.84564036,
          96417906.14112006,
          96428606.200216,
          96749607.97309414,
          96835208.44586164,
          96888708.74134132,
          96888708.74134132,
          96888708.74134132,
          96888708.74134132,
          96888708.74134132,
          96888708.74134132,
          96888708.74134132,
          96888708.74134132,
          96888708.74134132,
          96888708.74134132,
          96888708.74134132,
          96888708.74134132,
          96888708.74134132,
          96888708.74134132,
          96888708.74134132,
          96888708.74134132,
          96888708.74134132,
          96888708.74134132,
          96888708.74134132,
          96888708.74134132,
          96888708.74134132,
          96888708.74134132,
          96888708.74134132,
          96888708.74134132,
          96888708.74134132,
          96888708.74134132,
          96888708.74134132,
          96888708.74134132,
          96888708.74134132,
          96888708.74134132,
          96910108.8595332,
          97038509.56868446,
          97038509.56868446,
          97049209.6277804,
          97092009.86416416,
          97199010.45512353,
          97199010.45512353,
          97220410.57331541,
          97338111.22337073,
          97370211.40065853,
          97391611.51885042,
          97423711.69613823,
          97562812.46438542,
          97659112.99624887,
          97776813.64630419,
          97851714.05997574,
          97883814.23726356,
          97948014.5918392,
          97958714.65093513,
          97958714.65093513,
          97958714.65093513,
          97958714.65093513,
          97958714.65093513,
          97958714.65093513,
          97958714.65093513,
          97958714.65093513,
          97958714.65093513,
          97958714.65093513,
          97958714.65093513,
          97958714.65093513,
          97958714.65093513,
          97958714.65093513,
          97958714.65093513,
          97958714.65093513,
          97958714.65093513,
          97958714.65093513,
          97958714.65093513,
          97958714.65093513,
          97958714.65093513,
          97958714.65093513,
          97958714.65093513,
          97958714.65093513,
          97958714.65093513,
          97958714.65093513,
          97958714.65093513,
          97958714.65093513,
          97958714.65093513,
          97958714.65093513,
          97958714.65093513,
          97958714.65093513,
          97969414.71003106,
          98033615.0646067,
          98215516.06923763,
          98258316.3056214,
          98269016.36471733,
          98290416.48290922,
          98376016.95567672,
          98408117.13296454,
          98450917.36934827,
          98472317.48754016,
          98515117.7239239,
          98600718.19669141,
          98664918.55126704,
          98675618.61036298,
          98697018.72855484,
          98697018.72855484,
          98814719.37861016,
          98814719.37861016,
          98825419.43770611,
          98836119.49680205,
          99028720.56052893,
          99028720.56052893,
          99028720.56052893,
          99028720.56052893,
          99028720.56052893,
          99028720.56052893,
          99028720.56052893,
          99028720.56052893,
          99028720.56052893,
          99028720.56052893,
          99028720.56052893,
          99028720.56052893,
          99028720.56052893,
          99028720.56052893,
          99028720.56052893,
          99028720.56052893,
          99028720.56052893,
          99028720.56052893,
          99028720.56052893,
          99028720.56052893,
          99028720.56052893,
          99028720.56052893,
          99028720.56052893,
          99028720.56052893,
          99028720.56052893,
          99050120.6787208,
          99071520.79691269,
          99103620.9742005,
          99103620.9742005,
          99146421.21058425,
          99167821.32877612,
          99242721.74244769,
          99242721.74244769,
          99317622.15611926,
          99478123.04255833,
          99553023.4562299,
          99627923.86990146,
          99627923.86990146,
          99649323.98809333,
          99692124.22447708,
          99767024.63814865,
          99799124.81543647,
          99895425.3472999,
          99970325.76097149,
          99991725.87916335,
          100034526.1155471,
          100098726.47012274,
          100098726.47012274,
          100098726.47012274,
          100098726.47012274,
          100098726.47012274,
          100098726.47012274,
          100098726.47012274,
          100098726.47012274,
          100098726.47012274,
          100098726.47012274,
          100098726.47012274,
          100098726.47012274,
          100098726.47012274,
          100098726.47012274,
          100098726.47012274,
          100098726.47012274,
          100098726.47012274,
          100098726.47012274,
          100098726.47012274,
          100098726.47012274,
          100098726.47012274,
          100098726.47012274,
          100098726.47012274,
          100098726.47012274,
          100098726.47012274,
          100098726.47012274,
          100098726.47012274,
          100098726.47012274,
          100098726.47012274,
          100098726.47012274,
          100098726.47012274,
          100098726.47012274,
          100098726.47012274,
          100098726.47012274,
          100173626.88379431,
          100184326.94289024,
          100269927.41565774,
          100269927.41565774,
          100398328.124809,
          100430428.30209681,
          100505328.71576838,
          100558829.01124807,
          100601629.24763183,
          100612329.30672775,
          100612329.30672775,
          100612329.30672775,
          100633729.42491964,
          100655129.54311152,
          100676529.66130339,
          100719329.89768714,
          100719329.89768714,
          100751430.07497495,
          100944031.13870183,
          100976131.31598964,
          100976131.31598964,
          101040331.67056528,
          101061731.78875715,
          101072431.8478531,
          101072431.8478531,
          101072431.8478531,
          101083131.90694904,
          101093831.96604496,
          101093831.96604496,
          101168732.37971655,
          101168732.37971655,
          101168732.37971655,
          101168732.37971655,
          101168732.37971655,
          101168732.37971655,
          101168732.37971655,
          101168732.37971655,
          101168732.37971655,
          101168732.37971655,
          101168732.37971655,
          101168732.37971655,
          101168732.37971655,
          101168732.37971655,
          101168732.37971655,
          101168732.37971655,
          101168732.37971655,
          101168732.37971655,
          101168732.37971655,
          101168732.37971655,
          101168732.37971655,
          101168732.37971655,
          101168732.37971655,
          101168732.37971655,
          101168732.37971655,
          101168732.37971655,
          101211532.61610028,
          101211532.61610028,
          101286433.02977185,
          101382733.5616353,
          101414833.73892312,
          101489734.15259467,
          101511134.27078655,
          101521834.32988249,
          101575334.62536217,
          101650235.03903376,
          101671635.15722562,
          101725135.45270531,
          101725135.45270531,
          101735835.51180126,
          101757235.62999313,
          101767935.68908907,
          101917736.5164322,
          101928436.57552813,
          101949836.69372001,
          102024737.10739158,
          102078237.40287127,
          102110337.58015908,
          102142437.75744689,
          102195938.05292659,
          102238738.28931034,
          102238738.28931034,
          102238738.28931034,
          102238738.28931034,
          102238738.28931034,
          102238738.28931034,
          102238738.28931034,
          102238738.28931034,
          102238738.28931034,
          102238738.28931034,
          102238738.28931034,
          102238738.28931034,
          102238738.28931034,
          102238738.28931034,
          102238738.28931034,
          102238738.28931034,
          102238738.28931034,
          102238738.28931034,
          102238738.28931034,
          102238738.28931034,
          102238738.28931034,
          102238738.28931034,
          102238738.28931034,
          102238738.28931034,
          102238738.28931034,
          102238738.28931034,
          102238738.28931034,
          102238738.28931034,
          102238738.28931034,
          102238738.28931034,
          102238738.28931034,
          102238738.28931034,
          102260138.40750222,
          102260138.40750222,
          102313638.7029819,
          102313638.7029819,
          102324338.76207784,
          102345738.88026972,
          102388539.11665347,
          102388539.11665347,
          102399239.1757494,
          102409939.23484534,
          102431339.35303722,
          102463439.53032504,
          102484839.64851691,
          102495539.70761286,
          102527639.88490066,
          102538339.9439966,
          102559740.06218848,
          102591840.2394763,
          102656040.59405191,
          102730941.0077235,
          102752341.12591536,
          102773741.24410723,
          102795141.36229911,
          102912842.01235443,
          102944942.18964225,
          103094743.01698539,
          103126843.19427319,
          103233843.78523257,
          103255243.90342444,
          103265943.96252039,
          103298044.13980821,
          103308744.19890414,
          103308744.19890414,
          103308744.19890414,
          103308744.19890414,
          103308744.19890414,
          103308744.19890414,
          103308744.19890414,
          103308744.19890414,
          103308744.19890414,
          103308744.19890414,
          103308744.19890414,
          103308744.19890414,
          103308744.19890414,
          103308744.19890414,
          103308744.19890414,
          103308744.19890414,
          103308744.19890414,
          103308744.19890414,
          103308744.19890414,
          103308744.19890414,
          103308744.19890414,
          103330144.31709602,
          103351544.4352879,
          103394344.67167164,
          103447844.96715134,
          103576245.6763026,
          103619045.91268633,
          103747446.6218376,
          103800946.91731729,
          103843747.15370104,
          103886547.39008479,
          103886547.39008479,
          103897247.44918074,
          103918647.5673726,
          103982847.92194824,
          104014948.09923606,
          104014948.09923606,
          104025648.15833199,
          104036348.21742792,
          104079148.45381168,
          104111248.63109949,
          104143348.80838731,
          104186149.04477106,
          104325249.81301825,
          104368050.049402,
          104368050.049402,
          104378750.10849795,
          104378750.10849795,
          104378750.10849795,
          104378750.10849795,
          104378750.10849795,
          104378750.10849795,
          104378750.10849795,
          104378750.10849795,
          104378750.10849795,
          104378750.10849795,
          104378750.10849795,
          104378750.10849795,
          104378750.10849795,
          104378750.10849795,
          104378750.10849795,
          104378750.10849795,
          104378750.10849795,
          104378750.10849795,
          104378750.10849795,
          104378750.10849795,
          104378750.10849795,
          104378750.10849795,
          104389450.16759388,
          104389450.16759388,
          104432250.40397763,
          104453650.5221695,
          104453650.5221695,
          104475050.64036138,
          104528550.93584108,
          104539250.994937,
          104571351.17222482,
          104603451.34951264,
          104614151.40860859,
          104721151.99956796,
          104731852.05866389,
          104753252.17685577,
          104763952.2359517,
          104796052.41323952,
          104828152.59052734,
          104870952.82691109,
          104945853.24058266,
          105042153.7724461,
          105095654.0679258,
          105138454.30430953,
          105245454.89526892,
          105245454.89526892,
          105298955.1907486,
          105395255.72261205,
          105448756.01809174,
          105448756.01809174,
          105448756.01809174,
          105448756.01809174,
          105448756.01809174,
          105448756.01809174,
          105448756.01809174,
          105448756.01809174,
          105448756.01809174,
          105448756.01809174,
          105448756.01809174,
          105448756.01809174,
          105448756.01809174,
          105448756.01809174,
          105448756.01809174,
          105448756.01809174,
          105448756.01809174,
          105448756.01809174,
          105448756.01809174,
          105448756.01809174,
          105448756.01809174,
          105448756.01809174,
          105448756.01809174,
          105448756.01809174,
          105448756.01809174,
          105448756.01809174,
          105448756.01809174,
          105448756.01809174,
          105448756.01809174,
          105448756.01809174,
          105448756.01809174,
          105470156.13628362,
          105480856.19537956,
          105491556.2544755,
          105630657.02272269,
          105694857.37729833,
          105705557.43639426,
          105705557.43639426,
          105716257.4954902,
          105726957.55458613,
          105737657.61368206,
          105748357.67277801,
          105759057.73187394,
          105801857.9682577,
          105801857.9682577,
          105823258.08644958,
          105898158.50012113,
          106058659.38656022,
          106069359.44565615,
          106080059.50475208,
          106101459.62294395,
          106112159.6820399,
          106122859.74113584,
          106122859.74113584,
          106144259.85932772,
          106187060.09571147,
          106187060.09571147,
          106229860.33209522,
          106326160.86395866,
          106326160.86395866,
          106401061.27763022,
          106433161.45491804,
          106497361.80949366,
          106518761.92768554,
          106518761.92768554,
          106518761.92768554,
          106518761.92768554,
          106518761.92768554,
          106518761.92768554,
          106518761.92768554,
          106518761.92768554,
          106518761.92768554,
          106518761.92768554,
          106518761.92768554,
          106518761.92768554,
          106518761.92768554,
          106518761.92768554,
          106518761.92768554,
          106518761.92768554,
          106518761.92768554,
          106518761.92768554,
          106518761.92768554,
          106518761.92768554,
          106518761.92768554,
          106518761.92768554,
          106518761.92768554,
          106518761.92768554,
          106518761.92768554,
          106518761.92768554,
          106518761.92768554,
          106518761.92768554,
          106518761.92768554,
          106679262.81412461,
          106679262.81412461,
          106679262.81412461,
          106807663.52327587,
          106818363.5823718,
          106893263.99604337,
          106936064.23242712,
          107000264.58700275,
          107021664.70519464,
          107085865.05977026,
          107085865.05977026,
          107107265.17796214,
          107139365.35524996,
          107192865.65072964,
          107235665.88711339,
          107257066.00530528,
          107364066.59626465,
          107374766.6553606,
          107385466.71445653,
          107449667.06903215,
          107481767.24631996,
          107503167.36451185,
          107524567.48270372,
          107535267.54179965,
          107588767.83727935,
          107588767.83727935,
          107588767.83727935,
          107588767.83727935,
          107588767.83727935,
          107588767.83727935,
          107588767.83727935,
          107588767.83727935,
          107588767.83727935,
          107588767.83727935,
          107588767.83727935,
          107588767.83727935,
          107588767.83727935,
          107588767.83727935,
          107588767.83727935,
          107588767.83727935,
          107588767.83727935,
          107652968.19185498,
          107652968.19185498,
          107685068.36914279,
          107706468.48733467,
          107984670.02382906,
          107995370.08292499,
          108038170.31930874,
          108038170.31930874,
          108048870.37840468,
          108070270.49659656,
          108145170.91026811,
          108166571.02846,
          108230771.38303563,
          108305671.7967072,
          108434072.50585845,
          108466172.68314627,
          108476872.7422422,
          108551773.15591377,
          108562473.2150097,
          108658773.74687314,
          108658773.74687314,
          108658773.74687314,
          108658773.74687314,
          108658773.74687314,
          108658773.74687314,
          108658773.74687314,
          108658773.74687314,
          108658773.74687314,
          108658773.74687314,
          108658773.74687314,
          108658773.74687314,
          108658773.74687314,
          108658773.74687314,
          108669473.80596909,
          108787174.45602441,
          108819274.63331223,
          108829974.69240816,
          108926275.2242716,
          108990475.57884723,
          109022575.75613505,
          109129576.34709442,
          109172376.58347817,
          109193776.70167005,
          109236576.9380538,
          109300777.29262944,
          109322177.4108213,
          109322177.4108213,
          109332877.46991724,
          109375677.70630099,
          109439878.06087662,
          109450578.11997257,
          109493378.35635631,
          109504078.41545226,
          109568278.77002788,
          109611079.00641163,
          109664579.30189133,
          109696679.47917913,
          109718079.59737101,
          109728779.65646695,
          109728779.65646695,
          109728779.65646695,
          109728779.65646695,
          109728779.65646695,
          109728779.65646695,
          109728779.65646695,
          109728779.65646695,
          109728779.65646695,
          109728779.65646695,
          109728779.65646695,
          109728779.65646695,
          109728779.65646695,
          109728779.65646695,
          109728779.65646695,
          109728779.65646695,
          109728779.65646695,
          109739479.71556288,
          109750179.77465883,
          109760879.83375476,
          109825080.18833038,
          109878580.48381008,
          109932080.77928977,
          109953480.89748165,
          109996281.1338654,
          110006981.19296134,
          110124681.84301665,
          110135381.9021126,
          110146081.96120854,
          110156782.02030447,
          110167482.0794004,
          110178182.13849634,
          110178182.13849634,
          110188882.19759229,
          110231682.43397604,
          110253082.5521679,
          110263782.61126386,
          110306582.84764759,
          110349383.08403136,
          110392183.3204151,
          110413583.43860698,
          110445683.6158948,
          110445683.6158948,
          110531284.0886623,
          110552684.20685418,
          110563384.26595011,
          110584784.384142,
          110595484.44323793,
          110734585.21148512,
          110745285.27058107,
          110798785.56606075,
          110798785.56606075,
          110798785.56606075,
          110798785.56606075,
          110798785.56606075,
          110798785.56606075,
          110798785.56606075,
          110798785.56606075,
          110798785.56606075,
          110798785.56606075,
          110798785.56606075,
          110798785.56606075,
          110809485.62515669,
          110830885.74334857,
          110873685.97973232,
          110895086.09792419,
          110948586.39340389,
          111012786.7479795,
          111044886.92526732,
          111055586.98436326,
          111098387.22074702,
          111119787.33893889,
          111130487.39803484,
          111194687.75261046,
          111226787.92989828,
          111226787.92989828,
          111237487.98899421,
          111280288.22537796,
          111280288.22537796,
          111290988.2844739,
          111290988.2844739,
          111355188.63904953,
          111430089.0527211,
          111504989.46639265,
          111537089.64368047,
          111654790.29373579,
          111665490.35283174,
          111772490.9437911,
          111815291.18017486,
          111836691.29836674,
          111847391.35746267,
          111868791.47565456,
          111868791.47565456,
          111868791.47565456,
          111868791.47565456,
          111868791.47565456,
          111868791.47565456,
          111868791.47565456,
          111868791.47565456,
          111868791.47565456,
          111868791.47565456,
          111868791.47565456,
          111868791.47565456,
          111868791.47565456,
          111868791.47565456,
          111868791.47565456,
          111879491.53475049,
          111997192.18480581,
          112018592.30299768,
          112029292.36209363,
          112061392.53938144,
          112061392.53938144,
          112114892.83486113,
          112136292.953053,
          112211193.36672457,
          112232593.48491645,
          112243293.54401238,
          112318193.95768395,
          112328894.01677988,
          112350294.13497177,
          112360994.1940677,
          112393094.37135552,
          112467994.78502709,
          112564295.31689052,
          112564295.31689052,
          112778296.4988093,
          112799696.61700116,
          112821096.73519303,
          112831796.79428898,
          112842496.85338491,
          112874597.03067273,
          112885297.08976866,
          112885297.08976866,
          112938797.38524835,
          112938797.38524835,
          112938797.38524835,
          112938797.38524835,
          112938797.38524835,
          112938797.38524835,
          112938797.38524835,
          112938797.38524835,
          112938797.38524835,
          112938797.38524835,
          112938797.38524835,
          112970897.56253617,
          113013697.79891992,
          113056498.03530367,
          113088598.21259148,
          113195598.80355087,
          113206298.8626468,
          113216998.92174274,
          113249099.09903055,
          113302599.39451024,
          113313299.45360619,
          113323999.51270212,
          113420300.04456556,
          113527300.63552494,
          113538000.69462088,
          113612901.10829245,
          113634301.22648433,
          113677101.46286808,
          113677101.46286808,
          113730601.75834776,
          113741301.81744371,
          113826902.29021122,
          113901802.70388277,
          113944602.94026653,
          113944602.94026653,
          113987403.17665027,
          113998103.23574622,
          114008803.29484215,
          114008803.29484215,
          114008803.29484215,
          114008803.29484215,
          114008803.29484215,
          114008803.29484215,
          114008803.29484215,
          114008803.29484215,
          114008803.29484215,
          114040903.47212997,
          114051603.5312259,
          114094403.76760966,
          114105103.82670559,
          114105103.82670559,
          114147904.06308936,
          114254904.65404873,
          114404705.48139186,
          114586606.4860228,
          114608006.60421468,
          114629406.72240657,
          114715007.19517407,
          114800607.66794157,
          114822007.78613345,
          114886208.14070907,
          114993208.73166846,
          115014608.84986033,
          115078809.20443596,
          115078809.20443596,
          115078809.20443596,
          115078809.20443596,
          115185809.79539533,
          115228610.0317791,
          115250010.14997096,
          115410511.03641003,
          115517511.62736942,
          115549611.80465722,
          115571011.9228491,
          115635212.27742474,
          115774313.04567192,
          115870613.57753538,
          116020414.40487851,
          116031114.46397443,
          116052514.58216631,
          116084614.75945413,
          116095314.81855007,
          116127414.99583788,
          116127414.99583788,
          116148815.11402975,
          116148815.11402975,
          116148815.11402975,
          116309316.00046884,
          116394916.47323634,
          116437716.70962009,
          116480516.94600384,
          116705218.18701854,
          116812218.77797791,
          117058320.13718449,
          117111820.43266417,
          117133220.55085605,
          117218821.02362357,
          117218821.02362357,
          117218821.02362357,
          117229521.08271949,
          117240221.14181544,
          117250921.20091137,
          117261621.2600073,
          117411422.08735044,
          117432822.20554233,
          117432822.20554233,
          117561222.91469358,
          117614723.21017326,
          117668223.50565296,
          117925024.92395547,
          117957125.10124329,
          118139026.10587423,
          118203226.46044986,
          118288826.93321736,
          118331627.16960111,
          118342327.22869706,
          118674029.06067112,
          118855930.06530209,
          119091331.36541271,
          119176931.83818021,
          119305332.54733148,
          119358832.84281115,
          120011536.44766338,
          120011536.44766338,
          120043636.6249512,
          120107836.97952682,
          120396738.57511714,
          120428838.75240496,
          120428838.75240496,
          120450238.87059684,
          120471638.98878872,
          120493039.10698059,
          120600039.69793996,
          121017342.00268157,
          121156442.77092876,
          121209943.06640844,
          121327643.71646376,
          121498844.66199878,
          122151548.266851,
          122397649.62605757,
          122472550.03972913,
          122590250.68978444,
          122633050.9261682,
          122900552.40356664,
          123638856.48118638,
          123713756.89485793,
          123724456.95395386,
          125136864.75461769
         ],
         "yaxis": "y"
        }
       ],
       "layout": {
        "legend": {
         "tracegroupgap": 0
        },
        "template": {
         "data": {
          "bar": [
           {
            "error_x": {
             "color": "#2a3f5f"
            },
            "error_y": {
             "color": "#2a3f5f"
            },
            "marker": {
             "line": {
              "color": "#E5ECF6",
              "width": 0.5
             },
             "pattern": {
              "fillmode": "overlay",
              "size": 10,
              "solidity": 0.2
             }
            },
            "type": "bar"
           }
          ],
          "barpolar": [
           {
            "marker": {
             "line": {
              "color": "#E5ECF6",
              "width": 0.5
             },
             "pattern": {
              "fillmode": "overlay",
              "size": 10,
              "solidity": 0.2
             }
            },
            "type": "barpolar"
           }
          ],
          "carpet": [
           {
            "aaxis": {
             "endlinecolor": "#2a3f5f",
             "gridcolor": "white",
             "linecolor": "white",
             "minorgridcolor": "white",
             "startlinecolor": "#2a3f5f"
            },
            "baxis": {
             "endlinecolor": "#2a3f5f",
             "gridcolor": "white",
             "linecolor": "white",
             "minorgridcolor": "white",
             "startlinecolor": "#2a3f5f"
            },
            "type": "carpet"
           }
          ],
          "choropleth": [
           {
            "colorbar": {
             "outlinewidth": 0,
             "ticks": ""
            },
            "type": "choropleth"
           }
          ],
          "contour": [
           {
            "colorbar": {
             "outlinewidth": 0,
             "ticks": ""
            },
            "colorscale": [
             [
              0,
              "#0d0887"
             ],
             [
              0.1111111111111111,
              "#46039f"
             ],
             [
              0.2222222222222222,
              "#7201a8"
             ],
             [
              0.3333333333333333,
              "#9c179e"
             ],
             [
              0.4444444444444444,
              "#bd3786"
             ],
             [
              0.5555555555555556,
              "#d8576b"
             ],
             [
              0.6666666666666666,
              "#ed7953"
             ],
             [
              0.7777777777777778,
              "#fb9f3a"
             ],
             [
              0.8888888888888888,
              "#fdca26"
             ],
             [
              1,
              "#f0f921"
             ]
            ],
            "type": "contour"
           }
          ],
          "contourcarpet": [
           {
            "colorbar": {
             "outlinewidth": 0,
             "ticks": ""
            },
            "type": "contourcarpet"
           }
          ],
          "heatmap": [
           {
            "colorbar": {
             "outlinewidth": 0,
             "ticks": ""
            },
            "colorscale": [
             [
              0,
              "#0d0887"
             ],
             [
              0.1111111111111111,
              "#46039f"
             ],
             [
              0.2222222222222222,
              "#7201a8"
             ],
             [
              0.3333333333333333,
              "#9c179e"
             ],
             [
              0.4444444444444444,
              "#bd3786"
             ],
             [
              0.5555555555555556,
              "#d8576b"
             ],
             [
              0.6666666666666666,
              "#ed7953"
             ],
             [
              0.7777777777777778,
              "#fb9f3a"
             ],
             [
              0.8888888888888888,
              "#fdca26"
             ],
             [
              1,
              "#f0f921"
             ]
            ],
            "type": "heatmap"
           }
          ],
          "heatmapgl": [
           {
            "colorbar": {
             "outlinewidth": 0,
             "ticks": ""
            },
            "colorscale": [
             [
              0,
              "#0d0887"
             ],
             [
              0.1111111111111111,
              "#46039f"
             ],
             [
              0.2222222222222222,
              "#7201a8"
             ],
             [
              0.3333333333333333,
              "#9c179e"
             ],
             [
              0.4444444444444444,
              "#bd3786"
             ],
             [
              0.5555555555555556,
              "#d8576b"
             ],
             [
              0.6666666666666666,
              "#ed7953"
             ],
             [
              0.7777777777777778,
              "#fb9f3a"
             ],
             [
              0.8888888888888888,
              "#fdca26"
             ],
             [
              1,
              "#f0f921"
             ]
            ],
            "type": "heatmapgl"
           }
          ],
          "histogram": [
           {
            "marker": {
             "pattern": {
              "fillmode": "overlay",
              "size": 10,
              "solidity": 0.2
             }
            },
            "type": "histogram"
           }
          ],
          "histogram2d": [
           {
            "colorbar": {
             "outlinewidth": 0,
             "ticks": ""
            },
            "colorscale": [
             [
              0,
              "#0d0887"
             ],
             [
              0.1111111111111111,
              "#46039f"
             ],
             [
              0.2222222222222222,
              "#7201a8"
             ],
             [
              0.3333333333333333,
              "#9c179e"
             ],
             [
              0.4444444444444444,
              "#bd3786"
             ],
             [
              0.5555555555555556,
              "#d8576b"
             ],
             [
              0.6666666666666666,
              "#ed7953"
             ],
             [
              0.7777777777777778,
              "#fb9f3a"
             ],
             [
              0.8888888888888888,
              "#fdca26"
             ],
             [
              1,
              "#f0f921"
             ]
            ],
            "type": "histogram2d"
           }
          ],
          "histogram2dcontour": [
           {
            "colorbar": {
             "outlinewidth": 0,
             "ticks": ""
            },
            "colorscale": [
             [
              0,
              "#0d0887"
             ],
             [
              0.1111111111111111,
              "#46039f"
             ],
             [
              0.2222222222222222,
              "#7201a8"
             ],
             [
              0.3333333333333333,
              "#9c179e"
             ],
             [
              0.4444444444444444,
              "#bd3786"
             ],
             [
              0.5555555555555556,
              "#d8576b"
             ],
             [
              0.6666666666666666,
              "#ed7953"
             ],
             [
              0.7777777777777778,
              "#fb9f3a"
             ],
             [
              0.8888888888888888,
              "#fdca26"
             ],
             [
              1,
              "#f0f921"
             ]
            ],
            "type": "histogram2dcontour"
           }
          ],
          "mesh3d": [
           {
            "colorbar": {
             "outlinewidth": 0,
             "ticks": ""
            },
            "type": "mesh3d"
           }
          ],
          "parcoords": [
           {
            "line": {
             "colorbar": {
              "outlinewidth": 0,
              "ticks": ""
             }
            },
            "type": "parcoords"
           }
          ],
          "pie": [
           {
            "automargin": true,
            "type": "pie"
           }
          ],
          "scatter": [
           {
            "fillpattern": {
             "fillmode": "overlay",
             "size": 10,
             "solidity": 0.2
            },
            "type": "scatter"
           }
          ],
          "scatter3d": [
           {
            "line": {
             "colorbar": {
              "outlinewidth": 0,
              "ticks": ""
             }
            },
            "marker": {
             "colorbar": {
              "outlinewidth": 0,
              "ticks": ""
             }
            },
            "type": "scatter3d"
           }
          ],
          "scattercarpet": [
           {
            "marker": {
             "colorbar": {
              "outlinewidth": 0,
              "ticks": ""
             }
            },
            "type": "scattercarpet"
           }
          ],
          "scattergeo": [
           {
            "marker": {
             "colorbar": {
              "outlinewidth": 0,
              "ticks": ""
             }
            },
            "type": "scattergeo"
           }
          ],
          "scattergl": [
           {
            "marker": {
             "colorbar": {
              "outlinewidth": 0,
              "ticks": ""
             }
            },
            "type": "scattergl"
           }
          ],
          "scattermapbox": [
           {
            "marker": {
             "colorbar": {
              "outlinewidth": 0,
              "ticks": ""
             }
            },
            "type": "scattermapbox"
           }
          ],
          "scatterpolar": [
           {
            "marker": {
             "colorbar": {
              "outlinewidth": 0,
              "ticks": ""
             }
            },
            "type": "scatterpolar"
           }
          ],
          "scatterpolargl": [
           {
            "marker": {
             "colorbar": {
              "outlinewidth": 0,
              "ticks": ""
             }
            },
            "type": "scatterpolargl"
           }
          ],
          "scatterternary": [
           {
            "marker": {
             "colorbar": {
              "outlinewidth": 0,
              "ticks": ""
             }
            },
            "type": "scatterternary"
           }
          ],
          "surface": [
           {
            "colorbar": {
             "outlinewidth": 0,
             "ticks": ""
            },
            "colorscale": [
             [
              0,
              "#0d0887"
             ],
             [
              0.1111111111111111,
              "#46039f"
             ],
             [
              0.2222222222222222,
              "#7201a8"
             ],
             [
              0.3333333333333333,
              "#9c179e"
             ],
             [
              0.4444444444444444,
              "#bd3786"
             ],
             [
              0.5555555555555556,
              "#d8576b"
             ],
             [
              0.6666666666666666,
              "#ed7953"
             ],
             [
              0.7777777777777778,
              "#fb9f3a"
             ],
             [
              0.8888888888888888,
              "#fdca26"
             ],
             [
              1,
              "#f0f921"
             ]
            ],
            "type": "surface"
           }
          ],
          "table": [
           {
            "cells": {
             "fill": {
              "color": "#EBF0F8"
             },
             "line": {
              "color": "white"
             }
            },
            "header": {
             "fill": {
              "color": "#C8D4E3"
             },
             "line": {
              "color": "white"
             }
            },
            "type": "table"
           }
          ]
         },
         "layout": {
          "annotationdefaults": {
           "arrowcolor": "#2a3f5f",
           "arrowhead": 0,
           "arrowwidth": 1
          },
          "autotypenumbers": "strict",
          "coloraxis": {
           "colorbar": {
            "outlinewidth": 0,
            "ticks": ""
           }
          },
          "colorscale": {
           "diverging": [
            [
             0,
             "#8e0152"
            ],
            [
             0.1,
             "#c51b7d"
            ],
            [
             0.2,
             "#de77ae"
            ],
            [
             0.3,
             "#f1b6da"
            ],
            [
             0.4,
             "#fde0ef"
            ],
            [
             0.5,
             "#f7f7f7"
            ],
            [
             0.6,
             "#e6f5d0"
            ],
            [
             0.7,
             "#b8e186"
            ],
            [
             0.8,
             "#7fbc41"
            ],
            [
             0.9,
             "#4d9221"
            ],
            [
             1,
             "#276419"
            ]
           ],
           "sequential": [
            [
             0,
             "#0d0887"
            ],
            [
             0.1111111111111111,
             "#46039f"
            ],
            [
             0.2222222222222222,
             "#7201a8"
            ],
            [
             0.3333333333333333,
             "#9c179e"
            ],
            [
             0.4444444444444444,
             "#bd3786"
            ],
            [
             0.5555555555555556,
             "#d8576b"
            ],
            [
             0.6666666666666666,
             "#ed7953"
            ],
            [
             0.7777777777777778,
             "#fb9f3a"
            ],
            [
             0.8888888888888888,
             "#fdca26"
            ],
            [
             1,
             "#f0f921"
            ]
           ],
           "sequentialminus": [
            [
             0,
             "#0d0887"
            ],
            [
             0.1111111111111111,
             "#46039f"
            ],
            [
             0.2222222222222222,
             "#7201a8"
            ],
            [
             0.3333333333333333,
             "#9c179e"
            ],
            [
             0.4444444444444444,
             "#bd3786"
            ],
            [
             0.5555555555555556,
             "#d8576b"
            ],
            [
             0.6666666666666666,
             "#ed7953"
            ],
            [
             0.7777777777777778,
             "#fb9f3a"
            ],
            [
             0.8888888888888888,
             "#fdca26"
            ],
            [
             1,
             "#f0f921"
            ]
           ]
          },
          "colorway": [
           "#636efa",
           "#EF553B",
           "#00cc96",
           "#ab63fa",
           "#FFA15A",
           "#19d3f3",
           "#FF6692",
           "#B6E880",
           "#FF97FF",
           "#FECB52"
          ],
          "font": {
           "color": "#2a3f5f"
          },
          "geo": {
           "bgcolor": "white",
           "lakecolor": "white",
           "landcolor": "#E5ECF6",
           "showlakes": true,
           "showland": true,
           "subunitcolor": "white"
          },
          "hoverlabel": {
           "align": "left"
          },
          "hovermode": "closest",
          "mapbox": {
           "style": "light"
          },
          "paper_bgcolor": "white",
          "plot_bgcolor": "#E5ECF6",
          "polar": {
           "angularaxis": {
            "gridcolor": "white",
            "linecolor": "white",
            "ticks": ""
           },
           "bgcolor": "#E5ECF6",
           "radialaxis": {
            "gridcolor": "white",
            "linecolor": "white",
            "ticks": ""
           }
          },
          "scene": {
           "xaxis": {
            "backgroundcolor": "#E5ECF6",
            "gridcolor": "white",
            "gridwidth": 2,
            "linecolor": "white",
            "showbackground": true,
            "ticks": "",
            "zerolinecolor": "white"
           },
           "yaxis": {
            "backgroundcolor": "#E5ECF6",
            "gridcolor": "white",
            "gridwidth": 2,
            "linecolor": "white",
            "showbackground": true,
            "ticks": "",
            "zerolinecolor": "white"
           },
           "zaxis": {
            "backgroundcolor": "#E5ECF6",
            "gridcolor": "white",
            "gridwidth": 2,
            "linecolor": "white",
            "showbackground": true,
            "ticks": "",
            "zerolinecolor": "white"
           }
          },
          "shapedefaults": {
           "line": {
            "color": "#2a3f5f"
           }
          },
          "ternary": {
           "aaxis": {
            "gridcolor": "white",
            "linecolor": "white",
            "ticks": ""
           },
           "baxis": {
            "gridcolor": "white",
            "linecolor": "white",
            "ticks": ""
           },
           "bgcolor": "#E5ECF6",
           "caxis": {
            "gridcolor": "white",
            "linecolor": "white",
            "ticks": ""
           }
          },
          "title": {
           "x": 0.05
          },
          "xaxis": {
           "automargin": true,
           "gridcolor": "white",
           "linecolor": "white",
           "ticks": "",
           "title": {
            "standoff": 15
           },
           "zerolinecolor": "white",
           "zerolinewidth": 2
          },
          "yaxis": {
           "automargin": true,
           "gridcolor": "white",
           "linecolor": "white",
           "ticks": "",
           "title": {
            "standoff": 15
           },
           "zerolinecolor": "white",
           "zerolinewidth": 2
          }
         }
        },
        "title": {
         "text": "Correlation between Vote Average and Budget"
        },
        "xaxis": {
         "anchor": "y",
         "domain": [
          0,
          1
         ],
         "title": {
          "text": "Vote Average"
         }
        },
        "yaxis": {
         "anchor": "x",
         "domain": [
          0,
          1
         ],
         "title": {
          "text": "Budget"
         }
        }
       }
      }
     },
     "metadata": {},
     "output_type": "display_data"
    }
   ],
   "source": [
    "# Create a scatter plot to visualize the correlation between vote average and budget with tooltips and a red trendline\n",
    "fig = px.scatter(pdf, x='vote_average', y='budget', hover_data=['title'], title='Correlation between Vote Average and Budget', trendline='ols', trendline_color_override='red')\n",
    "fig.update_layout(xaxis_title='Vote Average', yaxis_title='Budget')\n",
    "fig.show()"
   ]
  },
  {
   "cell_type": "code",
   "execution_count": 14,
   "metadata": {},
   "outputs": [
    {
     "data": {
      "image/png": "[encoded data removed]",
      "text/plain": [
       "<Figure size 1000x600 with 1 Axes>"
      ]
     },
     "metadata": {},
     "output_type": "display_data"
    }
   ],
   "source": [
    "# Create a scatter plot to visualize the correlation between vote average and budget with a red trendline\n",
    "plt.figure(figsize=(10, 6))\n",
    "plt.scatter(pdf['vote_average'], pdf['budget'], alpha=0.5, label='Data points')\n",
    "plt.title('Correlation between Vote Average and Budget')\n",
    "plt.xlabel('Vote Average')\n",
    "plt.ylabel('Budget')\n",
    "\n",
    "# Add a trendline\n",
    "z = np.polyfit(pdf['vote_average'], pdf['budget'], 1)\n",
    "p = np.poly1d(z)\n",
    "plt.plot(pdf['vote_average'], p(pdf['vote_average']), \"r--\", label='Trendline')\n",
    "\n",
    "plt.legend()\n",
    "plt.show()"
   ]
  },
  {
   "cell_type": "code",
   "execution_count": null,
   "metadata": {},
   "outputs": [],
   "source": []
  }
 ],
 "metadata": {
  "application/vnd.databricks.v1+notebook": {
   "dashboards": [],
   "environmentMetadata": null,
   "language": "python",
   "notebookMetadata": {
    "pythonIndentUnit": 2
   },
   "notebookName": "df_check",
   "widgets": {}
  },
  "kernelspec": {
   "display_name": "dbx_demo_cicd",
   "language": "python",
   "name": "python3"
  },
  "language_info": {
   "codemirror_mode": {
    "name": "ipython",
    "version": 3
   },
   "file_extension": ".py",
   "mimetype": "text/x-python",
   "name": "python",
   "nbconvert_exporter": "python",
   "pygments_lexer": "ipython3",
   "version": "3.11.8"
  }
 },
 "nbformat": 4,
 "nbformat_minor": 0
}
